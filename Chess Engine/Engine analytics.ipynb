{
 "cells": [
  {
   "cell_type": "markdown",
   "id": "f495c1e5-1e75-47e9-bf54-57fb3e0e099c",
   "metadata": {},
   "source": [
    "## RL POLICY NETWORK USING MCTS SELF PLAY"
   ]
  },
  {
   "cell_type": "code",
   "execution_count": 1,
   "id": "755656b1-a16e-4c26-b8ed-b86dd114e850",
   "metadata": {},
   "outputs": [
    {
     "name": "stdout",
     "output_type": "stream",
     "text": [
      "pygame 2.5.2 (SDL 2.28.3, Python 3.11.7)\n",
      "Hello from the pygame community. https://www.pygame.org/contribute.html\n"
     ]
    }
   ],
   "source": [
    "import chess\n",
    "import chess.engine\n",
    "import pygame\n",
    "import random\n",
    "import pickle\n",
    "import numpy as np\n",
    "import tensorflow as tf\n",
    "from IPython.display import Audio\n",
    "from collections import defaultdict\n",
    "from tqdm import tqdm"
   ]
  },
  {
   "cell_type": "markdown",
   "id": "0f981a22-978b-4fc6-b2f4-0104dcfceb34",
   "metadata": {},
   "source": [
    "UTILITY FUNCTIONS"
   ]
  },
  {
   "cell_type": "code",
   "execution_count": 2,
   "id": "28a4ea4a-ff27-4ebb-9324-9d1dc2a20ecb",
   "metadata": {},
   "outputs": [],
   "source": [
    "def parse_fen(fen):\n",
    "    #print(fen)\n",
    "    #flipping the board for perspective\n",
    "    file_to_num = {'a': 1, 'b': 2, 'c': 3, 'd':4, 'e':5, 'f':6, 'g':7, 'h':8}\n",
    "    enc = np.zeros([8,8,18]).astype(int)\n",
    "    fen_elem = fen.split(' ')\n",
    "    fen_pos = fen_elem[0]\n",
    "    if fen_elem[1] == 'w':\n",
    "        player = 1\n",
    "        enc_dict = {\"R\":0, \"N\":1, \"B\":2, \"Q\":3, \"K\":4, \"P\":5, \"r\":6, \"n\":7, \"b\":8, \"q\":9, \"k\":10, \"p\":11}\n",
    "    else:\n",
    "        player = 0\n",
    "        enc_dict = {\"r\":0, \"n\":1, \"b\":2, \"q\":3, \"k\":4, \"p\":5, \"R\":6, \"N\":7, \"B\":8, \"Q\":9, \"K\":10, \"P\":11}\n",
    "    enc[:,:,12] = player\n",
    "    castle = fen_elem[2]\n",
    "    if player:\n",
    "        if 'Q' not in castle:\n",
    "            enc[:,:,13] = 1\n",
    "        if 'K' not in castle:\n",
    "            enc[:,:,14] = 1\n",
    "        if 'q' not in castle:\n",
    "            enc[:,:,15] = 1\n",
    "        if 'k' not in castle:\n",
    "            enc[:,:,16] = 1\n",
    "    else:\n",
    "        if 'Q' not in castle:\n",
    "            enc[:,:,15] = 1\n",
    "        if 'K' not in castle:\n",
    "            enc[:,:,16] = 1\n",
    "        if 'q' not in castle:\n",
    "            enc[:,:,13] = 1\n",
    "        if 'k' not in castle:\n",
    "            enc[:,:,14] = 1\n",
    "    enc[:,:,17] = int(fen_elem[-1])\n",
    "    ranks = fen_pos.split('/')\n",
    "    for i, rank in enumerate(ranks):\n",
    "        j = 0\n",
    "        k = 0\n",
    "        while k < len(rank):\n",
    "            if rank[k].isdigit():\n",
    "                j += int(rank[k])\n",
    "                k += 1\n",
    "                continue\n",
    "            enc[(7 - i)*player + (1 - player)*i, j*player + (1 - player)*(7 - j), enc_dict[rank[k]]] = 1\n",
    "            j += 1\n",
    "            k += 1\n",
    "    return enc"
   ]
  },
  {
   "cell_type": "code",
   "execution_count": 3,
   "id": "cd4edf3f-1cd7-4ebc-b1db-f22ee406cbc0",
   "metadata": {},
   "outputs": [],
   "source": [
    "def parse_actions(move, fen):\n",
    "    if fen.split(' ')[1] == 'w':\n",
    "        player = 1\n",
    "    else:\n",
    "        player = 0\n",
    "    enc = np.zeros([8,8,73]).astype(int)\n",
    "    file_to_num = {'a': 1, 'b': 2, 'c': 3, 'd':4, 'e':5, 'f':6, 'g':7, 'h':8}\n",
    "    init_file = file_to_num[move[0]]\n",
    "    init_rank = int(move[1])\n",
    "    final_file = file_to_num[move[2]]\n",
    "    final_rank = int(move[3])\n",
    "    under_promo = move[-1] if move[-1] in ['n', 'N', 'b', 'B', 'r', 'R'] else None\n",
    "    file_diff = (init_file - final_file)*player + (final_file - init_file)*(1 - player)\n",
    "    rank_diff = (init_rank - final_rank)*player + (final_rank - init_rank)*(1 - player)\n",
    "    if under_promo is not None: #underpromotions\n",
    "        if file_diff == 0: #no capture\n",
    "            if under_promo in ['r', 'R']:\n",
    "                idx = 64\n",
    "            elif under_promo in ['b', 'B']:\n",
    "                idx = 65\n",
    "            else:\n",
    "                idx = 66\n",
    "        elif file_diff > 0: # left capture\n",
    "            if under_promo in ['r', 'R']:\n",
    "                idx = 67\n",
    "            elif under_promo in ['b', 'B']:\n",
    "                idx = 68\n",
    "            else:\n",
    "                idx = 69\n",
    "        else: # right capture\n",
    "            if under_promo in ['r', 'R']:\n",
    "                idx = 70\n",
    "            elif under_promo in ['b', 'B']:\n",
    "                idx = 71\n",
    "            else:\n",
    "                idx = 72\n",
    "    elif file_diff == 0: #NS direction\n",
    "        if rank_diff < 0: #upward\n",
    "            idx = -rank_diff - 1\n",
    "        else: #downward\n",
    "            idx = 6 + rank_diff\n",
    "    elif rank_diff == 0: #EW direction\n",
    "        if file_diff < 0: #right\n",
    "            idx = 13 - file_diff\n",
    "        else: #left\n",
    "            idx = 20 + file_diff\n",
    "    elif abs(file_diff) == abs(rank_diff): #diagonal moves\n",
    "        if rank_diff < 0 and file_diff < 0: #NE\n",
    "            idx = 27 - rank_diff\n",
    "        elif rank_diff > 0 and file_diff > 0: #SW\n",
    "            idx = 34 + rank_diff\n",
    "        elif rank_diff < 0 and file_diff > 0: #NW\n",
    "            idx = 41 + file_diff\n",
    "        else: #SE\n",
    "            idx = 48 + rank_diff\n",
    "    elif file_diff == 1 and rank_diff == -2:\n",
    "        idx = 56\n",
    "    elif file_diff == -1 and rank_diff == -2:\n",
    "        idx = 57\n",
    "    elif file_diff == 2 and rank_diff == 1:\n",
    "        idx = 58\n",
    "    elif file_diff == 2 and rank_diff == -1:\n",
    "        idx = 59\n",
    "    elif file_diff == 1 and rank_diff == 2:\n",
    "        idx = 60\n",
    "    elif file_diff == -1 and rank_diff == 2:\n",
    "        idx = 61\n",
    "    elif file_diff == -2 and rank_diff == 1:\n",
    "        idx = 62\n",
    "    elif file_diff == -2 and rank_diff == -1:\n",
    "        idx = 63\n",
    "    enc[(init_rank - 1)*player + (8 - init_rank)*(1 - player), (init_file - 1)*player + (8 - init_file)*(1 - player), idx] = 1\n",
    "    return enc.flatten(), (init_file - 1)*player + (8 - init_file)*(1 - player), (init_rank - 1)*player + (8 - init_rank)*(1 - player), idx"
   ]
  },
  {
   "cell_type": "code",
   "execution_count": 4,
   "id": "eaee0ecc-29ac-4169-84b6-68e087cd153e",
   "metadata": {},
   "outputs": [],
   "source": [
    "def decode_action(out_policy, fen):\n",
    "    policy_dict = dict({})\n",
    "    board = chess.Board(fen)\n",
    "    legal_moves = list(board.legal_moves)\n",
    "    for move in legal_moves:\n",
    "        _, x, y, z = parse_actions(str(move), fen) #x = file, y = rank\n",
    "        policy_dict[move] = out_policy[y, x, z]\n",
    "    return policy_dict "
   ]
  },
  {
   "cell_type": "code",
   "execution_count": 5,
   "id": "5a9f2b88-7ca9-44b8-bed8-2077d25ef9e5",
   "metadata": {},
   "outputs": [],
   "source": [
    "def beep():\n",
    "    beep_sound = Audio(filename = \"beep-01.wav\", autoplay = True)\n",
    "    return beep_sound"
   ]
  },
  {
   "cell_type": "markdown",
   "id": "1157b8fc-b490-4b12-bca6-d3112411ca83",
   "metadata": {},
   "source": [
    "NETWORK BLOCKS"
   ]
  },
  {
   "cell_type": "code",
   "execution_count": 6,
   "id": "9eafa8cf-a135-42cf-b1f4-11bf068bfb96",
   "metadata": {},
   "outputs": [],
   "source": [
    "@tf.keras.utils.register_keras_serializable()\n",
    "class ConvBlock(tf.keras.layers.Layer):\n",
    "    def __init__(self, filters, kernel_size, **kwargs):\n",
    "        super(ConvBlock, self).__init__(**kwargs)\n",
    "        self.conv = tf.keras.layers.Conv2D(filters, kernel_size, padding = 'same')\n",
    "        self.batch_norm = tf.keras.layers.BatchNormalization()\n",
    "        self.relu = tf.keras.layers.ReLU()\n",
    "\n",
    "    def call(self, inputs):\n",
    "        x = self.conv(inputs)\n",
    "        x = self.batch_norm(x)\n",
    "        x = self.relu(x)\n",
    "        return x\n",
    "\n",
    "@tf.keras.utils.register_keras_serializable()\n",
    "class ResBlock(tf.keras.layers.Layer):\n",
    "    def __init__(self, filters, kernel_size, **kwargs):\n",
    "        super(ResBlock, self).__init__(**kwargs)\n",
    "        self.conv1 = tf.keras.layers.Conv2D(filters, kernel_size, padding = 'same')\n",
    "        self.batch_norm1 = tf.keras.layers.BatchNormalization()\n",
    "        self.relu = tf.keras.layers.ReLU()\n",
    "        self.conv2 = tf.keras.layers.Conv2D(filters, kernel_size, padding = 'same')\n",
    "        self.batch_norm2 = tf.keras.layers.BatchNormalization()\n",
    "\n",
    "    def call(self, inputs):\n",
    "        out = self.conv1(inputs)\n",
    "        out = self.batch_norm1(out)\n",
    "        out = self.relu(out)\n",
    "        out = self.conv2(out)\n",
    "        out = self.batch_norm2(out)\n",
    "        return self.relu(out + inputs)\n",
    "    \n",
    "@tf.keras.utils.register_keras_serializable()\n",
    "class PolicyHead(tf.keras.layers.Layer):\n",
    "    def __init__(self, filters, kernel_size, num_move_planes, **kwargs):\n",
    "        super(PolicyHead, self).__init__(**kwargs)\n",
    "        self.conv = tf.keras.layers.Conv2D(filters, kernel_size, padding = 'same')\n",
    "        self.batch_norm = tf.keras.layers.BatchNormalization()\n",
    "        self.relu = tf.keras.layers.ReLU()\n",
    "        self.flatten = tf.keras.layers.Flatten()\n",
    "        self.dense = tf.keras.layers.Dense(num_move_planes * 8 * 8, activation = 'softmax')\n",
    "\n",
    "    def call(self, inputs):\n",
    "        x = self.conv(inputs)\n",
    "        x = self.batch_norm(x)\n",
    "        x = self.relu(x)\n",
    "        x = self.flatten(x)\n",
    "        x = self.dense(x)\n",
    "        return x\n",
    "\n",
    "@tf.keras.utils.register_keras_serializable()\n",
    "class ValueHead(tf.keras.layers.Layer):\n",
    "    def __init__(self, filters, kernel_size, **kwargs):\n",
    "        super(ValueHead, self).__init__(**kwargs)\n",
    "        self.conv = tf.keras.layers.Conv2D(filters, kernel_size, padding = 'same')\n",
    "        self.batch_norm = tf.keras.layers.BatchNormalization()\n",
    "        self.relu = tf.keras.layers.ReLU()\n",
    "        self.flatten = tf.keras.layers.Flatten()\n",
    "        self.dense1 = tf.keras.layers.Dense(64, activation = 'relu')\n",
    "        self.dense2 = tf.keras.layers.Dense(1, activation = 'tanh')\n",
    "\n",
    "    def call(self, inputs):\n",
    "        x = self.conv(inputs)\n",
    "        x = self.batch_norm(x)\n",
    "        x = self.relu(x)\n",
    "        x = self.flatten(x)\n",
    "        x = self.dense1(x)\n",
    "        x = self.dense2(x)\n",
    "        return x"
   ]
  },
  {
   "cell_type": "markdown",
   "id": "69f0228a-a4ed-4518-b5a3-5eaf72334833",
   "metadata": {},
   "source": [
    "NODE/GAME STATE CLASS"
   ]
  },
  {
   "cell_type": "code",
   "execution_count": 7,
   "id": "6c5d11d1-d2bd-4a16-9455-c380cd099b51",
   "metadata": {},
   "outputs": [],
   "source": [
    "class node:\n",
    "    def __init__(self, fen, P, W = 0, N = 0):\n",
    "        \"\"\"\n",
    "        W = total value score for the action\n",
    "        N = Number of times action taken\n",
    "        P = Prior probability of the action from the SL network\n",
    "        \"\"\"\n",
    "        self.fen = fen\n",
    "        self.W = W\n",
    "        self.N = N\n",
    "        self.P = P\n",
    "        if N == 0:\n",
    "            self.Q = 0\n",
    "        else:\n",
    "            self.Q = W/N\n",
    "        self.child = []\n",
    "        self.actions = []"
   ]
  },
  {
   "cell_type": "code",
   "execution_count": 8,
   "id": "53e64ab7-2e50-46ef-acba-0329345270a2",
   "metadata": {},
   "outputs": [],
   "source": [
    "# def game_end(fen):\n",
    "#     b = chess.Board(fen)\n",
    "#     leg_moves = list(b.legal_moves)\n",
    "#     if len(leg_moves) == 0 or b.halfmove_clock == 100:\n",
    "#         return 1\n",
    "#     return 0"
   ]
  },
  {
   "cell_type": "code",
   "execution_count": 9,
   "id": "4d8b0799-730e-4a67-84f7-7e05eaca7332",
   "metadata": {},
   "outputs": [],
   "source": [
    "def game_end(board):\n",
    "    leg_moves = list(board.legal_moves)\n",
    "    if len(leg_moves) == 0 or board.halfmove_clock == 100:\n",
    "        return 1\n",
    "    return 0"
   ]
  },
  {
   "cell_type": "code",
   "execution_count": 10,
   "id": "2cdb60c2-301c-4e46-b083-1b69ed2d5e8d",
   "metadata": {},
   "outputs": [],
   "source": [
    "# def game_res(fen):\n",
    "#     b = chess.Board(fen)\n",
    "#     if b.is_checkmate(): #win for either side\n",
    "#         return 1\n",
    "#     return 0 #draw"
   ]
  },
  {
   "cell_type": "code",
   "execution_count": 11,
   "id": "8e0ac940-05ce-4362-9210-f037a3cd0649",
   "metadata": {},
   "outputs": [],
   "source": [
    "def game_res(board):\n",
    "    if board.is_checkmate(): #win for either side\n",
    "        return 1\n",
    "    return 0 #draw"
   ]
  },
  {
   "cell_type": "markdown",
   "id": "23b6947e-7f37-4cde-a095-4a6e93124188",
   "metadata": {},
   "source": [
    "LOADING THE MODELS"
   ]
  },
  {
   "cell_type": "code",
   "execution_count": 12,
   "id": "3bc0bbf2-1ea7-435e-8408-1e5beac1a533",
   "metadata": {},
   "outputs": [],
   "source": [
    "value_model = tf.keras.models.load_model('C:/Users/DELL/Downloads/value_model13.h5')\n",
    "policy_model = tf.keras.models.load_model('C:/Users/DELL/Downloads/policy_model_res11.h5')"
   ]
  },
  {
   "cell_type": "code",
   "execution_count": 13,
   "id": "4bc4e7f2-c6aa-49f5-8f9e-88c83afcca49",
   "metadata": {},
   "outputs": [
    {
     "data": {
      "image/svg+xml": [
       "<svg xmlns=\"http://www.w3.org/2000/svg\" xmlns:xlink=\"http://www.w3.org/1999/xlink\" viewBox=\"0 0 390 390\" width=\"390\" height=\"390\"><desc><pre>r . b q k . n r\n",
       "p p p p . p p p\n",
       ". . n . . . . .\n",
       ". . b . p . . .\n",
       ". . B . P . . .\n",
       ". . . . . N . .\n",
       "P P P P . P P P\n",
       "R N B Q K . . R</pre></desc><defs><g id=\"white-pawn\" class=\"white pawn\"><path d=\"M22.5 9c-2.21 0-4 1.79-4 4 0 .89.29 1.71.78 2.38C17.33 16.5 16 18.59 16 21c0 2.03.94 3.84 2.41 5.03-3 1.06-7.41 5.55-7.41 13.47h23c0-7.92-4.41-12.41-7.41-13.47 1.47-1.19 2.41-3 2.41-5.03 0-2.41-1.33-4.5-3.28-5.62.49-.67.78-1.49.78-2.38 0-2.21-1.79-4-4-4z\" fill=\"#fff\" stroke=\"#000\" stroke-width=\"1.5\" stroke-linecap=\"round\" /></g><g id=\"white-knight\" class=\"white knight\" fill=\"none\" fill-rule=\"evenodd\" stroke=\"#000\" stroke-width=\"1.5\" stroke-linecap=\"round\" stroke-linejoin=\"round\"><path d=\"M 22,10 C 32.5,11 38.5,18 38,39 L 15,39 C 15,30 25,32.5 23,18\" style=\"fill:#ffffff; stroke:#000000;\" /><path d=\"M 24,18 C 24.38,20.91 18.45,25.37 16,27 C 13,29 13.18,31.34 11,31 C 9.958,30.06 12.41,27.96 11,28 C 10,28 11.19,29.23 10,30 C 9,30 5.997,31 6,26 C 6,24 12,14 12,14 C 12,14 13.89,12.1 14,10.5 C 13.27,9.506 13.5,8.5 13.5,7.5 C 14.5,6.5 16.5,10 16.5,10 L 18.5,10 C 18.5,10 19.28,8.008 21,7 C 22,7 22,10 22,10\" style=\"fill:#ffffff; stroke:#000000;\" /><path d=\"M 9.5 25.5 A 0.5 0.5 0 1 1 8.5,25.5 A 0.5 0.5 0 1 1 9.5 25.5 z\" style=\"fill:#000000; stroke:#000000;\" /><path d=\"M 15 15.5 A 0.5 1.5 0 1 1 14,15.5 A 0.5 1.5 0 1 1 15 15.5 z\" transform=\"matrix(0.866,0.5,-0.5,0.866,9.693,-5.173)\" style=\"fill:#000000; stroke:#000000;\" /></g><g id=\"white-bishop\" class=\"white bishop\" fill=\"none\" fill-rule=\"evenodd\" stroke=\"#000\" stroke-width=\"1.5\" stroke-linecap=\"round\" stroke-linejoin=\"round\"><g fill=\"#fff\" stroke-linecap=\"butt\"><path d=\"M9 36c3.39-.97 10.11.43 13.5-2 3.39 2.43 10.11 1.03 13.5 2 0 0 1.65.54 3 2-.68.97-1.65.99-3 .5-3.39-.97-10.11.46-13.5-1-3.39 1.46-10.11.03-13.5 1-1.354.49-2.323.47-3-.5 1.354-1.94 3-2 3-2zM15 32c2.5 2.5 12.5 2.5 15 0 .5-1.5 0-2 0-2 0-2.5-2.5-4-2.5-4 5.5-1.5 6-11.5-5-15.5-11 4-10.5 14-5 15.5 0 0-2.5 1.5-2.5 4 0 0-.5.5 0 2zM25 8a2.5 2.5 0 1 1-5 0 2.5 2.5 0 1 1 5 0z\" /></g><path d=\"M17.5 26h10M15 30h15m-7.5-14.5v5M20 18h5\" stroke-linejoin=\"miter\" /></g><g id=\"white-rook\" class=\"white rook\" fill=\"#fff\" fill-rule=\"evenodd\" stroke=\"#000\" stroke-width=\"1.5\" stroke-linecap=\"round\" stroke-linejoin=\"round\"><path d=\"M9 39h27v-3H9v3zM12 36v-4h21v4H12zM11 14V9h4v2h5V9h5v2h5V9h4v5\" stroke-linecap=\"butt\" /><path d=\"M34 14l-3 3H14l-3-3\" /><path d=\"M31 17v12.5H14V17\" stroke-linecap=\"butt\" stroke-linejoin=\"miter\" /><path d=\"M31 29.5l1.5 2.5h-20l1.5-2.5\" /><path d=\"M11 14h23\" fill=\"none\" stroke-linejoin=\"miter\" /></g><g id=\"white-queen\" class=\"white queen\" fill=\"#fff\" fill-rule=\"evenodd\" stroke=\"#000\" stroke-width=\"1.5\" stroke-linecap=\"round\" stroke-linejoin=\"round\"><path d=\"M8 12a2 2 0 1 1-4 0 2 2 0 1 1 4 0zM24.5 7.5a2 2 0 1 1-4 0 2 2 0 1 1 4 0zM41 12a2 2 0 1 1-4 0 2 2 0 1 1 4 0zM16 8.5a2 2 0 1 1-4 0 2 2 0 1 1 4 0zM33 9a2 2 0 1 1-4 0 2 2 0 1 1 4 0z\" /><path d=\"M9 26c8.5-1.5 21-1.5 27 0l2-12-7 11V11l-5.5 13.5-3-15-3 15-5.5-14V25L7 14l2 12zM9 26c0 2 1.5 2 2.5 4 1 1.5 1 1 .5 3.5-1.5 1-1.5 2.5-1.5 2.5-1.5 1.5.5 2.5.5 2.5 6.5 1 16.5 1 23 0 0 0 1.5-1 0-2.5 0 0 .5-1.5-1-2.5-.5-2.5-.5-2 .5-3.5 1-2 2.5-2 2.5-4-8.5-1.5-18.5-1.5-27 0z\" stroke-linecap=\"butt\" /><path d=\"M11.5 30c3.5-1 18.5-1 22 0M12 33.5c6-1 15-1 21 0\" fill=\"none\" /></g><g id=\"white-king\" class=\"white king\" fill=\"none\" fill-rule=\"evenodd\" stroke=\"#000\" stroke-width=\"1.5\" stroke-linecap=\"round\" stroke-linejoin=\"round\"><path d=\"M22.5 11.63V6M20 8h5\" stroke-linejoin=\"miter\" /><path d=\"M22.5 25s4.5-7.5 3-10.5c0 0-1-2.5-3-2.5s-3 2.5-3 2.5c-1.5 3 3 10.5 3 10.5\" fill=\"#fff\" stroke-linecap=\"butt\" stroke-linejoin=\"miter\" /><path d=\"M11.5 37c5.5 3.5 15.5 3.5 21 0v-7s9-4.5 6-10.5c-4-6.5-13.5-3.5-16 4V27v-3.5c-3.5-7.5-13-10.5-16-4-3 6 5 10 5 10V37z\" fill=\"#fff\" /><path d=\"M11.5 30c5.5-3 15.5-3 21 0m-21 3.5c5.5-3 15.5-3 21 0m-21 3.5c5.5-3 15.5-3 21 0\" /></g><g id=\"black-pawn\" class=\"black pawn\"><path d=\"M22.5 9c-2.21 0-4 1.79-4 4 0 .89.29 1.71.78 2.38C17.33 16.5 16 18.59 16 21c0 2.03.94 3.84 2.41 5.03-3 1.06-7.41 5.55-7.41 13.47h23c0-7.92-4.41-12.41-7.41-13.47 1.47-1.19 2.41-3 2.41-5.03 0-2.41-1.33-4.5-3.28-5.62.49-.67.78-1.49.78-2.38 0-2.21-1.79-4-4-4z\" fill=\"#000\" stroke=\"#000\" stroke-width=\"1.5\" stroke-linecap=\"round\" /></g><g id=\"black-knight\" class=\"black knight\" fill=\"none\" fill-rule=\"evenodd\" stroke=\"#000\" stroke-width=\"1.5\" stroke-linecap=\"round\" stroke-linejoin=\"round\"><path d=\"M 22,10 C 32.5,11 38.5,18 38,39 L 15,39 C 15,30 25,32.5 23,18\" style=\"fill:#000000; stroke:#000000;\" /><path d=\"M 24,18 C 24.38,20.91 18.45,25.37 16,27 C 13,29 13.18,31.34 11,31 C 9.958,30.06 12.41,27.96 11,28 C 10,28 11.19,29.23 10,30 C 9,30 5.997,31 6,26 C 6,24 12,14 12,14 C 12,14 13.89,12.1 14,10.5 C 13.27,9.506 13.5,8.5 13.5,7.5 C 14.5,6.5 16.5,10 16.5,10 L 18.5,10 C 18.5,10 19.28,8.008 21,7 C 22,7 22,10 22,10\" style=\"fill:#000000; stroke:#000000;\" /><path d=\"M 9.5 25.5 A 0.5 0.5 0 1 1 8.5,25.5 A 0.5 0.5 0 1 1 9.5 25.5 z\" style=\"fill:#ececec; stroke:#ececec;\" /><path d=\"M 15 15.5 A 0.5 1.5 0 1 1 14,15.5 A 0.5 1.5 0 1 1 15 15.5 z\" transform=\"matrix(0.866,0.5,-0.5,0.866,9.693,-5.173)\" style=\"fill:#ececec; stroke:#ececec;\" /><path d=\"M 24.55,10.4 L 24.1,11.85 L 24.6,12 C 27.75,13 30.25,14.49 32.5,18.75 C 34.75,23.01 35.75,29.06 35.25,39 L 35.2,39.5 L 37.45,39.5 L 37.5,39 C 38,28.94 36.62,22.15 34.25,17.66 C 31.88,13.17 28.46,11.02 25.06,10.5 L 24.55,10.4 z \" style=\"fill:#ececec; stroke:none;\" /></g><g id=\"black-bishop\" class=\"black bishop\" fill=\"none\" fill-rule=\"evenodd\" stroke=\"#000\" stroke-width=\"1.5\" stroke-linecap=\"round\" stroke-linejoin=\"round\"><path d=\"M9 36c3.39-.97 10.11.43 13.5-2 3.39 2.43 10.11 1.03 13.5 2 0 0 1.65.54 3 2-.68.97-1.65.99-3 .5-3.39-.97-10.11.46-13.5-1-3.39 1.46-10.11.03-13.5 1-1.354.49-2.323.47-3-.5 1.354-1.94 3-2 3-2zm6-4c2.5 2.5 12.5 2.5 15 0 .5-1.5 0-2 0-2 0-2.5-2.5-4-2.5-4 5.5-1.5 6-11.5-5-15.5-11 4-10.5 14-5 15.5 0 0-2.5 1.5-2.5 4 0 0-.5.5 0 2zM25 8a2.5 2.5 0 1 1-5 0 2.5 2.5 0 1 1 5 0z\" fill=\"#000\" stroke-linecap=\"butt\" /><path d=\"M17.5 26h10M15 30h15m-7.5-14.5v5M20 18h5\" stroke=\"#fff\" stroke-linejoin=\"miter\" /></g><g id=\"black-rook\" class=\"black rook\" fill=\"#000\" fill-rule=\"evenodd\" stroke=\"#000\" stroke-width=\"1.5\" stroke-linecap=\"round\" stroke-linejoin=\"round\"><path d=\"M9 39h27v-3H9v3zM12.5 32l1.5-2.5h17l1.5 2.5h-20zM12 36v-4h21v4H12z\" stroke-linecap=\"butt\" /><path d=\"M14 29.5v-13h17v13H14z\" stroke-linecap=\"butt\" stroke-linejoin=\"miter\" /><path d=\"M14 16.5L11 14h23l-3 2.5H14zM11 14V9h4v2h5V9h5v2h5V9h4v5H11z\" stroke-linecap=\"butt\" /><path d=\"M12 35.5h21M13 31.5h19M14 29.5h17M14 16.5h17M11 14h23\" fill=\"none\" stroke=\"#fff\" stroke-width=\"1\" stroke-linejoin=\"miter\" /></g><g id=\"black-queen\" class=\"black queen\" fill=\"#000\" fill-rule=\"evenodd\" stroke=\"#000\" stroke-width=\"1.5\" stroke-linecap=\"round\" stroke-linejoin=\"round\"><g fill=\"#000\" stroke=\"none\"><circle cx=\"6\" cy=\"12\" r=\"2.75\" /><circle cx=\"14\" cy=\"9\" r=\"2.75\" /><circle cx=\"22.5\" cy=\"8\" r=\"2.75\" /><circle cx=\"31\" cy=\"9\" r=\"2.75\" /><circle cx=\"39\" cy=\"12\" r=\"2.75\" /></g><path d=\"M9 26c8.5-1.5 21-1.5 27 0l2.5-12.5L31 25l-.3-14.1-5.2 13.6-3-14.5-3 14.5-5.2-13.6L14 25 6.5 13.5 9 26zM9 26c0 2 1.5 2 2.5 4 1 1.5 1 1 .5 3.5-1.5 1-1.5 2.5-1.5 2.5-1.5 1.5.5 2.5.5 2.5 6.5 1 16.5 1 23 0 0 0 1.5-1 0-2.5 0 0 .5-1.5-1-2.5-.5-2.5-.5-2 .5-3.5 1-2 2.5-2 2.5-4-8.5-1.5-18.5-1.5-27 0z\" stroke-linecap=\"butt\" /><path d=\"M11 38.5a35 35 1 0 0 23 0\" fill=\"none\" stroke-linecap=\"butt\" /><path d=\"M11 29a35 35 1 0 1 23 0M12.5 31.5h20M11.5 34.5a35 35 1 0 0 22 0M10.5 37.5a35 35 1 0 0 24 0\" fill=\"none\" stroke=\"#fff\" /></g><g id=\"black-king\" class=\"black king\" fill=\"none\" fill-rule=\"evenodd\" stroke=\"#000\" stroke-width=\"1.5\" stroke-linecap=\"round\" stroke-linejoin=\"round\"><path d=\"M22.5 11.63V6\" stroke-linejoin=\"miter\" /><path d=\"M22.5 25s4.5-7.5 3-10.5c0 0-1-2.5-3-2.5s-3 2.5-3 2.5c-1.5 3 3 10.5 3 10.5\" fill=\"#000\" stroke-linecap=\"butt\" stroke-linejoin=\"miter\" /><path d=\"M11.5 37c5.5 3.5 15.5 3.5 21 0v-7s9-4.5 6-10.5c-4-6.5-13.5-3.5-16 4V27v-3.5c-3.5-7.5-13-10.5-16-4-3 6 5 10 5 10V37z\" fill=\"#000\" /><path d=\"M20 8h5\" stroke-linejoin=\"miter\" /><path d=\"M32 29.5s8.5-4 6.03-9.65C34.15 14 25 18 22.5 24.5l.01 2.1-.01-2.1C20 18 9.906 14 6.997 19.85c-2.497 5.65 4.853 9 4.853 9M11.5 30c5.5-3 15.5-3 21 0m-21 3.5c5.5-3 15.5-3 21 0m-21 3.5c5.5-3 15.5-3 21 0\" stroke=\"#fff\" /></g></defs><rect x=\"7.5\" y=\"7.5\" width=\"375\" height=\"375\" fill=\"none\" stroke=\"#212121\" stroke-width=\"15\" /><g transform=\"translate(20, 1) scale(0.75, 0.75)\" fill=\"#e5e5e5\" stroke=\"#e5e5e5\"><path d=\"M23.328 10.016q-1.742 0-2.414.398-.672.398-.672 1.36 0 .765.5 1.218.508.445 1.375.445 1.196 0 1.914-.843.727-.852.727-2.258v-.32zm2.867-.594v4.992h-1.437v-1.328q-.492.797-1.227 1.18-.734.375-1.797.375-1.343 0-2.14-.75-.79-.758-.79-2.024 0-1.476.985-2.226.992-.75 2.953-.75h2.016V8.75q0-.992-.656-1.531-.649-.547-1.829-.547-.75 0-1.46.18-.711.18-1.368.539V6.062q.79-.304 1.532-.453.742-.156 1.445-.156 1.898 0 2.836.984.937.985.937 2.985z\" /></g><g transform=\"translate(20, 375) scale(0.75, 0.75)\" fill=\"#e5e5e5\" stroke=\"#e5e5e5\"><path d=\"M23.328 10.016q-1.742 0-2.414.398-.672.398-.672 1.36 0 .765.5 1.218.508.445 1.375.445 1.196 0 1.914-.843.727-.852.727-2.258v-.32zm2.867-.594v4.992h-1.437v-1.328q-.492.797-1.227 1.18-.734.375-1.797.375-1.343 0-2.14-.75-.79-.758-.79-2.024 0-1.476.985-2.226.992-.75 2.953-.75h2.016V8.75q0-.992-.656-1.531-.649-.547-1.829-.547-.75 0-1.46.18-.711.18-1.368.539V6.062q.79-.304 1.532-.453.742-.156 1.445-.156 1.898 0 2.836.984.937.985.937 2.985z\" /></g><g transform=\"translate(65, 1) scale(0.75, 0.75)\" fill=\"#e5e5e5\" stroke=\"#e5e5e5\"><path d=\"M24.922 10.047q0-1.586-.656-2.485-.649-.906-1.79-.906-1.14 0-1.796.906-.649.899-.649 2.485 0 1.586.649 2.492.656.898 1.797.898 1.14 0 1.789-.898.656-.906.656-2.492zm-4.89-3.055q.452-.781 1.14-1.156.695-.383 1.656-.383 1.594 0 2.586 1.266 1 1.265 1 3.328 0 2.062-1 3.328-.992 1.266-2.586 1.266-.96 0-1.656-.375-.688-.383-1.14-1.164v1.312h-1.446V2.258h1.445z\" /></g><g transform=\"translate(65, 375) scale(0.75, 0.75)\" fill=\"#e5e5e5\" stroke=\"#e5e5e5\"><path d=\"M24.922 10.047q0-1.586-.656-2.485-.649-.906-1.79-.906-1.14 0-1.796.906-.649.899-.649 2.485 0 1.586.649 2.492.656.898 1.797.898 1.14 0 1.789-.898.656-.906.656-2.492zm-4.89-3.055q.452-.781 1.14-1.156.695-.383 1.656-.383 1.594 0 2.586 1.266 1 1.265 1 3.328 0 2.062-1 3.328-.992 1.266-2.586 1.266-.96 0-1.656-.375-.688-.383-1.14-1.164v1.312h-1.446V2.258h1.445z\" /></g><g transform=\"translate(110, 1) scale(0.75, 0.75)\" fill=\"#e5e5e5\" stroke=\"#e5e5e5\"><path d=\"M25.96 6v1.344q-.608-.336-1.226-.5-.609-.172-1.234-.172-1.398 0-2.172.89-.773.883-.773 2.485 0 1.601.773 2.492.774.883 2.172.883.625 0 1.234-.164.618-.172 1.227-.508v1.328q-.602.281-1.25.422-.64.14-1.367.14-1.977 0-3.14-1.242-1.165-1.242-1.165-3.351 0-2.14 1.172-3.367 1.18-1.227 3.227-1.227.664 0 1.296.14.633.134 1.227.407z\" /></g><g transform=\"translate(110, 375) scale(0.75, 0.75)\" fill=\"#e5e5e5\" stroke=\"#e5e5e5\"><path d=\"M25.96 6v1.344q-.608-.336-1.226-.5-.609-.172-1.234-.172-1.398 0-2.172.89-.773.883-.773 2.485 0 1.601.773 2.492.774.883 2.172.883.625 0 1.234-.164.618-.172 1.227-.508v1.328q-.602.281-1.25.422-.64.14-1.367.14-1.977 0-3.14-1.242-1.165-1.242-1.165-3.351 0-2.14 1.172-3.367 1.18-1.227 3.227-1.227.664 0 1.296.14.633.134 1.227.407z\" /></g><g transform=\"translate(155, 1) scale(0.75, 0.75)\" fill=\"#e5e5e5\" stroke=\"#e5e5e5\"><path d=\"M24.973 6.992V2.258h1.437v12.156h-1.437v-1.312q-.453.78-1.149 1.164-.687.375-1.656.375-1.586 0-2.586-1.266-.992-1.266-.992-3.328 0-2.063.992-3.328 1-1.266 2.586-1.266.969 0 1.656.383.696.375 1.149 1.156zm-4.899 3.055q0 1.586.649 2.492.656.898 1.797.898 1.14 0 1.796-.898.657-.906.657-2.492 0-1.586-.657-2.485-.656-.906-1.796-.906-1.141 0-1.797.906-.649.899-.649 2.485z\" /></g><g transform=\"translate(155, 375) scale(0.75, 0.75)\" fill=\"#e5e5e5\" stroke=\"#e5e5e5\"><path d=\"M24.973 6.992V2.258h1.437v12.156h-1.437v-1.312q-.453.78-1.149 1.164-.687.375-1.656.375-1.586 0-2.586-1.266-.992-1.266-.992-3.328 0-2.063.992-3.328 1-1.266 2.586-1.266.969 0 1.656.383.696.375 1.149 1.156zm-4.899 3.055q0 1.586.649 2.492.656.898 1.797.898 1.14 0 1.796-.898.657-.906.657-2.492 0-1.586-.657-2.485-.656-.906-1.796-.906-1.141 0-1.797.906-.649.899-.649 2.485z\" /></g><g transform=\"translate(200, 1) scale(0.75, 0.75)\" fill=\"#e5e5e5\" stroke=\"#e5e5e5\"><path d=\"M26.555 9.68v.703h-6.61q.094 1.484.89 2.265.806.774 2.235.774.828 0 1.602-.203.781-.203 1.547-.61v1.36q-.774.328-1.586.5-.813.172-1.649.172-2.093 0-3.32-1.22-1.219-1.218-1.219-3.296 0-2.148 1.157-3.406 1.164-1.266 3.132-1.266 1.766 0 2.79 1.14 1.03 1.134 1.03 3.087zm-1.438-.422q-.015-1.18-.664-1.883-.64-.703-1.703-.703-1.203 0-1.93.68-.718.68-.828 1.914z\" /></g><g transform=\"translate(200, 375) scale(0.75, 0.75)\" fill=\"#e5e5e5\" stroke=\"#e5e5e5\"><path d=\"M26.555 9.68v.703h-6.61q.094 1.484.89 2.265.806.774 2.235.774.828 0 1.602-.203.781-.203 1.547-.61v1.36q-.774.328-1.586.5-.813.172-1.649.172-2.093 0-3.32-1.22-1.219-1.218-1.219-3.296 0-2.148 1.157-3.406 1.164-1.266 3.132-1.266 1.766 0 2.79 1.14 1.03 1.134 1.03 3.087zm-1.438-.422q-.015-1.18-.664-1.883-.64-.703-1.703-.703-1.203 0-1.93.68-.718.68-.828 1.914z\" /></g><g transform=\"translate(245, 1) scale(0.75, 0.75)\" fill=\"#e5e5e5\" stroke=\"#e5e5e5\"><path d=\"M25.285 2.258v1.195H23.91q-.773 0-1.078.313-.297.312-.297 1.125v.773h2.367v1.117h-2.367v7.633H21.09V6.781h-1.375V5.664h1.375v-.61q0-1.46.68-2.124.68-.672 2.156-.672z\" /></g><g transform=\"translate(245, 375) scale(0.75, 0.75)\" fill=\"#e5e5e5\" stroke=\"#e5e5e5\"><path d=\"M25.285 2.258v1.195H23.91q-.773 0-1.078.313-.297.312-.297 1.125v.773h2.367v1.117h-2.367v7.633H21.09V6.781h-1.375V5.664h1.375v-.61q0-1.46.68-2.124.68-.672 2.156-.672z\" /></g><g transform=\"translate(290, 1) scale(0.75, 0.75)\" fill=\"#e5e5e5\" stroke=\"#e5e5e5\"><path d=\"M24.973 9.937q0-1.562-.649-2.421-.64-.86-1.804-.86-1.157 0-1.805.86-.64.859-.64 2.421 0 1.555.64 2.415.648.859 1.805.859 1.164 0 1.804-.86.649-.859.649-2.414zm1.437 3.391q0 2.234-.992 3.32-.992 1.094-3.04 1.094-.757 0-1.429-.117-.672-.11-1.304-.344v-1.398q.632.344 1.25.508.617.164 1.257.164 1.414 0 2.118-.743.703-.734.703-2.226v-.711q-.446.773-1.141 1.156-.695.383-1.664.383-1.61 0-2.594-1.227-.984-1.226-.984-3.25 0-2.03.984-3.257.985-1.227 2.594-1.227.969 0 1.664.383t1.14 1.156V5.664h1.438z\" /></g><g transform=\"translate(290, 375) scale(0.75, 0.75)\" fill=\"#e5e5e5\" stroke=\"#e5e5e5\"><path d=\"M24.973 9.937q0-1.562-.649-2.421-.64-.86-1.804-.86-1.157 0-1.805.86-.64.859-.64 2.421 0 1.555.64 2.415.648.859 1.805.859 1.164 0 1.804-.86.649-.859.649-2.414zm1.437 3.391q0 2.234-.992 3.32-.992 1.094-3.04 1.094-.757 0-1.429-.117-.672-.11-1.304-.344v-1.398q.632.344 1.25.508.617.164 1.257.164 1.414 0 2.118-.743.703-.734.703-2.226v-.711q-.446.773-1.141 1.156-.695.383-1.664.383-1.61 0-2.594-1.227-.984-1.226-.984-3.25 0-2.03.984-3.257.985-1.227 2.594-1.227.969 0 1.664.383t1.14 1.156V5.664h1.438z\" /></g><g transform=\"translate(335, 1) scale(0.75, 0.75)\" fill=\"#e5e5e5\" stroke=\"#e5e5e5\"><path d=\"M26.164 9.133v5.281h-1.437V9.18q0-1.243-.485-1.86-.484-.617-1.453-.617-1.164 0-1.836.742-.672.742-.672 2.024v4.945h-1.445V2.258h1.445v4.765q.516-.789 1.211-1.18.703-.39 1.617-.39 1.508 0 2.282.938.773.93.773 2.742z\" /></g><g transform=\"translate(335, 375) scale(0.75, 0.75)\" fill=\"#e5e5e5\" stroke=\"#e5e5e5\"><path d=\"M26.164 9.133v5.281h-1.437V9.18q0-1.243-.485-1.86-.484-.617-1.453-.617-1.164 0-1.836.742-.672.742-.672 2.024v4.945h-1.445V2.258h1.445v4.765q.516-.789 1.211-1.18.703-.39 1.617-.39 1.508 0 2.282.938.773.93.773 2.742z\" /></g><g transform=\"translate(0, 335) scale(0.75, 0.75)\" fill=\"#e5e5e5\" stroke=\"#e5e5e5\"><path d=\"M6.754 26.996h2.578v-8.898l-2.805.562v-1.437l2.79-.563h1.578v10.336h2.578v1.328h-6.72z\" /></g><g transform=\"translate(375, 335) scale(0.75, 0.75)\" fill=\"#e5e5e5\" stroke=\"#e5e5e5\"><path d=\"M6.754 26.996h2.578v-8.898l-2.805.562v-1.437l2.79-.563h1.578v10.336h2.578v1.328h-6.72z\" /></g><g transform=\"translate(0, 290) scale(0.75, 0.75)\" fill=\"#e5e5e5\" stroke=\"#e5e5e5\"><path d=\"M8.195 26.996h5.508v1.328H6.297v-1.328q.898-.93 2.445-2.492 1.555-1.57 1.953-2.024.758-.851 1.055-1.437.305-.594.305-1.164 0-.93-.657-1.516-.648-.586-1.695-.586-.742 0-1.57.258-.82.258-1.758.781v-1.593q.953-.383 1.781-.578.828-.196 1.516-.196 1.812 0 2.89.906 1.079.907 1.079 2.422 0 .72-.274 1.368-.265.64-.976 1.515-.196.227-1.243 1.313-1.046 1.078-2.953 3.023z\" /></g><g transform=\"translate(375, 290) scale(0.75, 0.75)\" fill=\"#e5e5e5\" stroke=\"#e5e5e5\"><path d=\"M8.195 26.996h5.508v1.328H6.297v-1.328q.898-.93 2.445-2.492 1.555-1.57 1.953-2.024.758-.851 1.055-1.437.305-.594.305-1.164 0-.93-.657-1.516-.648-.586-1.695-.586-.742 0-1.57.258-.82.258-1.758.781v-1.593q.953-.383 1.781-.578.828-.196 1.516-.196 1.812 0 2.89.906 1.079.907 1.079 2.422 0 .72-.274 1.368-.265.64-.976 1.515-.196.227-1.243 1.313-1.046 1.078-2.953 3.023z\" /></g><g transform=\"translate(0, 245) scale(0.75, 0.75)\" fill=\"#e5e5e5\" stroke=\"#e5e5e5\"><path d=\"M11.434 22.035q1.132.242 1.765 1.008.64.766.64 1.89 0 1.727-1.187 2.672-1.187.946-3.375.946-.734 0-1.515-.149-.774-.14-1.602-.43V26.45q.656.383 1.438.578.78.196 1.632.196 1.485 0 2.258-.586.782-.586.782-1.703 0-1.032-.727-1.61-.719-.586-2.008-.586h-1.36v-1.297h1.423q1.164 0 1.78-.46.618-.47.618-1.344 0-.899-.64-1.375-.633-.485-1.82-.485-.65 0-1.391.141-.743.14-1.633.437V16.95q.898-.25 1.68-.375.788-.125 1.484-.125 1.797 0 2.844.82 1.046.813 1.046 2.204 0 .968-.554 1.64-.555.664-1.578.922z\" /></g><g transform=\"translate(375, 245) scale(0.75, 0.75)\" fill=\"#e5e5e5\" stroke=\"#e5e5e5\"><path d=\"M11.434 22.035q1.132.242 1.765 1.008.64.766.64 1.89 0 1.727-1.187 2.672-1.187.946-3.375.946-.734 0-1.515-.149-.774-.14-1.602-.43V26.45q.656.383 1.438.578.78.196 1.632.196 1.485 0 2.258-.586.782-.586.782-1.703 0-1.032-.727-1.61-.719-.586-2.008-.586h-1.36v-1.297h1.423q1.164 0 1.78-.46.618-.47.618-1.344 0-.899-.64-1.375-.633-.485-1.82-.485-.65 0-1.391.141-.743.14-1.633.437V16.95q.898-.25 1.68-.375.788-.125 1.484-.125 1.797 0 2.844.82 1.046.813 1.046 2.204 0 .968-.554 1.64-.555.664-1.578.922z\" /></g><g transform=\"translate(0, 200) scale(0.75, 0.75)\" fill=\"#e5e5e5\" stroke=\"#e5e5e5\"><path d=\"M11.016 18.035L7.03 24.262h3.985zm-.414-1.375h1.984v7.602h1.664v1.312h-1.664v2.75h-1.57v-2.75H5.75v-1.523z\" /></g><g transform=\"translate(375, 200) scale(0.75, 0.75)\" fill=\"#e5e5e5\" stroke=\"#e5e5e5\"><path d=\"M11.016 18.035L7.03 24.262h3.985zm-.414-1.375h1.984v7.602h1.664v1.312h-1.664v2.75h-1.57v-2.75H5.75v-1.523z\" /></g><g transform=\"translate(0, 155) scale(0.75, 0.75)\" fill=\"#e5e5e5\" stroke=\"#e5e5e5\"><path d=\"M6.719 16.66h6.195v1.328h-4.75v2.86q.344-.118.688-.172.343-.063.687-.063 1.953 0 3.094 1.07 1.14 1.07 1.14 2.899 0 1.883-1.171 2.93-1.172 1.039-3.305 1.039-.735 0-1.5-.125-.758-.125-1.57-.375v-1.586q.703.383 1.453.57.75.188 1.586.188 1.351 0 2.14-.711.79-.711.79-1.93 0-1.219-.79-1.93-.789-.71-2.14-.71-.633 0-1.266.14-.625.14-1.281.438z\" /></g><g transform=\"translate(375, 155) scale(0.75, 0.75)\" fill=\"#e5e5e5\" stroke=\"#e5e5e5\"><path d=\"M6.719 16.66h6.195v1.328h-4.75v2.86q.344-.118.688-.172.343-.063.687-.063 1.953 0 3.094 1.07 1.14 1.07 1.14 2.899 0 1.883-1.171 2.93-1.172 1.039-3.305 1.039-.735 0-1.5-.125-.758-.125-1.57-.375v-1.586q.703.383 1.453.57.75.188 1.586.188 1.351 0 2.14-.711.79-.711.79-1.93 0-1.219-.79-1.93-.789-.71-2.14-.71-.633 0-1.266.14-.625.14-1.281.438z\" /></g><g transform=\"translate(0, 110) scale(0.75, 0.75)\" fill=\"#e5e5e5\" stroke=\"#e5e5e5\"><path d=\"M10.137 21.863q-1.063 0-1.688.727-.617.726-.617 1.992 0 1.258.617 1.992.625.727 1.688.727 1.062 0 1.68-.727.624-.734.624-1.992 0-1.266-.625-1.992-.617-.727-1.68-.727zm3.133-4.945v1.437q-.594-.28-1.204-.43-.601-.148-1.195-.148-1.562 0-2.39 1.055-.82 1.055-.938 3.188.46-.68 1.156-1.04.696-.367 1.531-.367 1.758 0 2.774 1.07 1.023 1.063 1.023 2.899 0 1.797-1.062 2.883-1.063 1.086-2.828 1.086-2.024 0-3.094-1.547-1.07-1.555-1.07-4.5 0-2.766 1.312-4.406 1.313-1.649 3.524-1.649.593 0 1.195.117.61.118 1.266.352z\" /></g><g transform=\"translate(375, 110) scale(0.75, 0.75)\" fill=\"#e5e5e5\" stroke=\"#e5e5e5\"><path d=\"M10.137 21.863q-1.063 0-1.688.727-.617.726-.617 1.992 0 1.258.617 1.992.625.727 1.688.727 1.062 0 1.68-.727.624-.734.624-1.992 0-1.266-.625-1.992-.617-.727-1.68-.727zm3.133-4.945v1.437q-.594-.28-1.204-.43-.601-.148-1.195-.148-1.562 0-2.39 1.055-.82 1.055-.938 3.188.46-.68 1.156-1.04.696-.367 1.531-.367 1.758 0 2.774 1.07 1.023 1.063 1.023 2.899 0 1.797-1.062 2.883-1.063 1.086-2.828 1.086-2.024 0-3.094-1.547-1.07-1.555-1.07-4.5 0-2.766 1.312-4.406 1.313-1.649 3.524-1.649.593 0 1.195.117.61.118 1.266.352z\" /></g><g transform=\"translate(0, 65) scale(0.75, 0.75)\" fill=\"#e5e5e5\" stroke=\"#e5e5e5\"><path d=\"M6.25 16.66h7.5v.672L9.516 28.324H7.867l3.985-10.336H6.25z\" /></g><g transform=\"translate(375, 65) scale(0.75, 0.75)\" fill=\"#e5e5e5\" stroke=\"#e5e5e5\"><path d=\"M6.25 16.66h7.5v.672L9.516 28.324H7.867l3.985-10.336H6.25z\" /></g><g transform=\"translate(0, 20) scale(0.75, 0.75)\" fill=\"#e5e5e5\" stroke=\"#e5e5e5\"><path d=\"M10 22.785q-1.125 0-1.773.602-.641.601-.641 1.656t.64 1.656q.649.602 1.774.602t1.773-.602q.649-.61.649-1.656 0-1.055-.649-1.656-.64-.602-1.773-.602zm-1.578-.672q-1.016-.25-1.586-.945-.563-.695-.563-1.695 0-1.399.993-2.211 1-.813 2.734-.813 1.742 0 2.734.813.993.812.993 2.21 0 1-.57 1.696-.563.695-1.571.945 1.14.266 1.773 1.04.641.773.641 1.89 0 1.695-1.04 2.602-1.03.906-2.96.906t-2.969-.906Q6 26.738 6 25.043q0-1.117.64-1.89.641-.774 1.782-1.04zm-.578-2.492q0 .906.562 1.414.57.508 1.594.508 1.016 0 1.586-.508.578-.508.578-1.414 0-.906-.578-1.414-.57-.508-1.586-.508-1.023 0-1.594.508-.562.508-.562 1.414z\" /></g><g transform=\"translate(375, 20) scale(0.75, 0.75)\" fill=\"#e5e5e5\" stroke=\"#e5e5e5\"><path d=\"M10 22.785q-1.125 0-1.773.602-.641.601-.641 1.656t.64 1.656q.649.602 1.774.602t1.773-.602q.649-.61.649-1.656 0-1.055-.649-1.656-.64-.602-1.773-.602zm-1.578-.672q-1.016-.25-1.586-.945-.563-.695-.563-1.695 0-1.399.993-2.211 1-.813 2.734-.813 1.742 0 2.734.813.993.812.993 2.21 0 1-.57 1.696-.563.695-1.571.945 1.14.266 1.773 1.04.641.773.641 1.89 0 1.695-1.04 2.602-1.03.906-2.96.906t-2.969-.906Q6 26.738 6 25.043q0-1.117.64-1.89.641-.774 1.782-1.04zm-.578-2.492q0 .906.562 1.414.57.508 1.594.508 1.016 0 1.586-.508.578-.508.578-1.414 0-.906-.578-1.414-.57-.508-1.586-.508-1.023 0-1.594.508-.562.508-.562 1.414z\" /></g><rect x=\"15\" y=\"330\" width=\"45\" height=\"45\" class=\"square dark a1\" stroke=\"none\" fill=\"#d18b47\" /><rect x=\"60\" y=\"330\" width=\"45\" height=\"45\" class=\"square light b1\" stroke=\"none\" fill=\"#ffce9e\" /><rect x=\"105\" y=\"330\" width=\"45\" height=\"45\" class=\"square dark c1\" stroke=\"none\" fill=\"#d18b47\" /><rect x=\"150\" y=\"330\" width=\"45\" height=\"45\" class=\"square light d1\" stroke=\"none\" fill=\"#ffce9e\" /><rect x=\"195\" y=\"330\" width=\"45\" height=\"45\" class=\"square dark e1\" stroke=\"none\" fill=\"#d18b47\" /><rect x=\"240\" y=\"330\" width=\"45\" height=\"45\" class=\"square light f1\" stroke=\"none\" fill=\"#ffce9e\" /><rect x=\"285\" y=\"330\" width=\"45\" height=\"45\" class=\"square dark g1\" stroke=\"none\" fill=\"#d18b47\" /><rect x=\"330\" y=\"330\" width=\"45\" height=\"45\" class=\"square light h1\" stroke=\"none\" fill=\"#ffce9e\" /><rect x=\"15\" y=\"285\" width=\"45\" height=\"45\" class=\"square light a2\" stroke=\"none\" fill=\"#ffce9e\" /><rect x=\"60\" y=\"285\" width=\"45\" height=\"45\" class=\"square dark b2\" stroke=\"none\" fill=\"#d18b47\" /><rect x=\"105\" y=\"285\" width=\"45\" height=\"45\" class=\"square light c2\" stroke=\"none\" fill=\"#ffce9e\" /><rect x=\"150\" y=\"285\" width=\"45\" height=\"45\" class=\"square dark d2\" stroke=\"none\" fill=\"#d18b47\" /><rect x=\"195\" y=\"285\" width=\"45\" height=\"45\" class=\"square light e2\" stroke=\"none\" fill=\"#ffce9e\" /><rect x=\"240\" y=\"285\" width=\"45\" height=\"45\" class=\"square dark f2\" stroke=\"none\" fill=\"#d18b47\" /><rect x=\"285\" y=\"285\" width=\"45\" height=\"45\" class=\"square light g2\" stroke=\"none\" fill=\"#ffce9e\" /><rect x=\"330\" y=\"285\" width=\"45\" height=\"45\" class=\"square dark h2\" stroke=\"none\" fill=\"#d18b47\" /><rect x=\"15\" y=\"240\" width=\"45\" height=\"45\" class=\"square dark a3\" stroke=\"none\" fill=\"#d18b47\" /><rect x=\"60\" y=\"240\" width=\"45\" height=\"45\" class=\"square light b3\" stroke=\"none\" fill=\"#ffce9e\" /><rect x=\"105\" y=\"240\" width=\"45\" height=\"45\" class=\"square dark c3\" stroke=\"none\" fill=\"#d18b47\" /><rect x=\"150\" y=\"240\" width=\"45\" height=\"45\" class=\"square light d3\" stroke=\"none\" fill=\"#ffce9e\" /><rect x=\"195\" y=\"240\" width=\"45\" height=\"45\" class=\"square dark e3\" stroke=\"none\" fill=\"#d18b47\" /><rect x=\"240\" y=\"240\" width=\"45\" height=\"45\" class=\"square light f3\" stroke=\"none\" fill=\"#ffce9e\" /><rect x=\"285\" y=\"240\" width=\"45\" height=\"45\" class=\"square dark g3\" stroke=\"none\" fill=\"#d18b47\" /><rect x=\"330\" y=\"240\" width=\"45\" height=\"45\" class=\"square light h3\" stroke=\"none\" fill=\"#ffce9e\" /><rect x=\"15\" y=\"195\" width=\"45\" height=\"45\" class=\"square light a4\" stroke=\"none\" fill=\"#ffce9e\" /><rect x=\"60\" y=\"195\" width=\"45\" height=\"45\" class=\"square dark b4\" stroke=\"none\" fill=\"#d18b47\" /><rect x=\"105\" y=\"195\" width=\"45\" height=\"45\" class=\"square light c4\" stroke=\"none\" fill=\"#ffce9e\" /><rect x=\"150\" y=\"195\" width=\"45\" height=\"45\" class=\"square dark d4\" stroke=\"none\" fill=\"#d18b47\" /><rect x=\"195\" y=\"195\" width=\"45\" height=\"45\" class=\"square light e4\" stroke=\"none\" fill=\"#ffce9e\" /><rect x=\"240\" y=\"195\" width=\"45\" height=\"45\" class=\"square dark f4\" stroke=\"none\" fill=\"#d18b47\" /><rect x=\"285\" y=\"195\" width=\"45\" height=\"45\" class=\"square light g4\" stroke=\"none\" fill=\"#ffce9e\" /><rect x=\"330\" y=\"195\" width=\"45\" height=\"45\" class=\"square dark h4\" stroke=\"none\" fill=\"#d18b47\" /><rect x=\"15\" y=\"150\" width=\"45\" height=\"45\" class=\"square dark a5\" stroke=\"none\" fill=\"#d18b47\" /><rect x=\"60\" y=\"150\" width=\"45\" height=\"45\" class=\"square light b5\" stroke=\"none\" fill=\"#ffce9e\" /><rect x=\"105\" y=\"150\" width=\"45\" height=\"45\" class=\"square dark c5\" stroke=\"none\" fill=\"#d18b47\" /><rect x=\"150\" y=\"150\" width=\"45\" height=\"45\" class=\"square light d5\" stroke=\"none\" fill=\"#ffce9e\" /><rect x=\"195\" y=\"150\" width=\"45\" height=\"45\" class=\"square dark e5\" stroke=\"none\" fill=\"#d18b47\" /><rect x=\"240\" y=\"150\" width=\"45\" height=\"45\" class=\"square light f5\" stroke=\"none\" fill=\"#ffce9e\" /><rect x=\"285\" y=\"150\" width=\"45\" height=\"45\" class=\"square dark g5\" stroke=\"none\" fill=\"#d18b47\" /><rect x=\"330\" y=\"150\" width=\"45\" height=\"45\" class=\"square light h5\" stroke=\"none\" fill=\"#ffce9e\" /><rect x=\"15\" y=\"105\" width=\"45\" height=\"45\" class=\"square light a6\" stroke=\"none\" fill=\"#ffce9e\" /><rect x=\"60\" y=\"105\" width=\"45\" height=\"45\" class=\"square dark b6\" stroke=\"none\" fill=\"#d18b47\" /><rect x=\"105\" y=\"105\" width=\"45\" height=\"45\" class=\"square light c6\" stroke=\"none\" fill=\"#ffce9e\" /><rect x=\"150\" y=\"105\" width=\"45\" height=\"45\" class=\"square dark d6\" stroke=\"none\" fill=\"#d18b47\" /><rect x=\"195\" y=\"105\" width=\"45\" height=\"45\" class=\"square light e6\" stroke=\"none\" fill=\"#ffce9e\" /><rect x=\"240\" y=\"105\" width=\"45\" height=\"45\" class=\"square dark f6\" stroke=\"none\" fill=\"#d18b47\" /><rect x=\"285\" y=\"105\" width=\"45\" height=\"45\" class=\"square light g6\" stroke=\"none\" fill=\"#ffce9e\" /><rect x=\"330\" y=\"105\" width=\"45\" height=\"45\" class=\"square dark h6\" stroke=\"none\" fill=\"#d18b47\" /><rect x=\"15\" y=\"60\" width=\"45\" height=\"45\" class=\"square dark a7\" stroke=\"none\" fill=\"#d18b47\" /><rect x=\"60\" y=\"60\" width=\"45\" height=\"45\" class=\"square light b7\" stroke=\"none\" fill=\"#ffce9e\" /><rect x=\"105\" y=\"60\" width=\"45\" height=\"45\" class=\"square dark c7\" stroke=\"none\" fill=\"#d18b47\" /><rect x=\"150\" y=\"60\" width=\"45\" height=\"45\" class=\"square light d7\" stroke=\"none\" fill=\"#ffce9e\" /><rect x=\"195\" y=\"60\" width=\"45\" height=\"45\" class=\"square dark e7\" stroke=\"none\" fill=\"#d18b47\" /><rect x=\"240\" y=\"60\" width=\"45\" height=\"45\" class=\"square light f7\" stroke=\"none\" fill=\"#ffce9e\" /><rect x=\"285\" y=\"60\" width=\"45\" height=\"45\" class=\"square dark g7\" stroke=\"none\" fill=\"#d18b47\" /><rect x=\"330\" y=\"60\" width=\"45\" height=\"45\" class=\"square light h7\" stroke=\"none\" fill=\"#ffce9e\" /><rect x=\"15\" y=\"15\" width=\"45\" height=\"45\" class=\"square light a8\" stroke=\"none\" fill=\"#ffce9e\" /><rect x=\"60\" y=\"15\" width=\"45\" height=\"45\" class=\"square dark b8\" stroke=\"none\" fill=\"#d18b47\" /><rect x=\"105\" y=\"15\" width=\"45\" height=\"45\" class=\"square light c8\" stroke=\"none\" fill=\"#ffce9e\" /><rect x=\"150\" y=\"15\" width=\"45\" height=\"45\" class=\"square dark d8\" stroke=\"none\" fill=\"#d18b47\" /><rect x=\"195\" y=\"15\" width=\"45\" height=\"45\" class=\"square light e8\" stroke=\"none\" fill=\"#ffce9e\" /><rect x=\"240\" y=\"15\" width=\"45\" height=\"45\" class=\"square dark f8\" stroke=\"none\" fill=\"#d18b47\" /><rect x=\"285\" y=\"15\" width=\"45\" height=\"45\" class=\"square light g8\" stroke=\"none\" fill=\"#ffce9e\" /><rect x=\"330\" y=\"15\" width=\"45\" height=\"45\" class=\"square dark h8\" stroke=\"none\" fill=\"#d18b47\" /><use href=\"#white-rook\" xlink:href=\"#white-rook\" transform=\"translate(15, 330)\" /><use href=\"#white-knight\" xlink:href=\"#white-knight\" transform=\"translate(60, 330)\" /><use href=\"#white-bishop\" xlink:href=\"#white-bishop\" transform=\"translate(105, 330)\" /><use href=\"#white-queen\" xlink:href=\"#white-queen\" transform=\"translate(150, 330)\" /><use href=\"#white-king\" xlink:href=\"#white-king\" transform=\"translate(195, 330)\" /><use href=\"#white-rook\" xlink:href=\"#white-rook\" transform=\"translate(330, 330)\" /><use href=\"#white-pawn\" xlink:href=\"#white-pawn\" transform=\"translate(15, 285)\" /><use href=\"#white-pawn\" xlink:href=\"#white-pawn\" transform=\"translate(60, 285)\" /><use href=\"#white-pawn\" xlink:href=\"#white-pawn\" transform=\"translate(105, 285)\" /><use href=\"#white-pawn\" xlink:href=\"#white-pawn\" transform=\"translate(150, 285)\" /><use href=\"#white-pawn\" xlink:href=\"#white-pawn\" transform=\"translate(240, 285)\" /><use href=\"#white-pawn\" xlink:href=\"#white-pawn\" transform=\"translate(285, 285)\" /><use href=\"#white-pawn\" xlink:href=\"#white-pawn\" transform=\"translate(330, 285)\" /><use href=\"#white-knight\" xlink:href=\"#white-knight\" transform=\"translate(240, 240)\" /><use href=\"#white-bishop\" xlink:href=\"#white-bishop\" transform=\"translate(105, 195)\" /><use href=\"#white-pawn\" xlink:href=\"#white-pawn\" transform=\"translate(195, 195)\" /><use href=\"#black-bishop\" xlink:href=\"#black-bishop\" transform=\"translate(105, 150)\" /><use href=\"#black-pawn\" xlink:href=\"#black-pawn\" transform=\"translate(195, 150)\" /><use href=\"#black-knight\" xlink:href=\"#black-knight\" transform=\"translate(105, 105)\" /><use href=\"#black-pawn\" xlink:href=\"#black-pawn\" transform=\"translate(15, 60)\" /><use href=\"#black-pawn\" xlink:href=\"#black-pawn\" transform=\"translate(60, 60)\" /><use href=\"#black-pawn\" xlink:href=\"#black-pawn\" transform=\"translate(105, 60)\" /><use href=\"#black-pawn\" xlink:href=\"#black-pawn\" transform=\"translate(150, 60)\" /><use href=\"#black-pawn\" xlink:href=\"#black-pawn\" transform=\"translate(240, 60)\" /><use href=\"#black-pawn\" xlink:href=\"#black-pawn\" transform=\"translate(285, 60)\" /><use href=\"#black-pawn\" xlink:href=\"#black-pawn\" transform=\"translate(330, 60)\" /><use href=\"#black-rook\" xlink:href=\"#black-rook\" transform=\"translate(15, 15)\" /><use href=\"#black-bishop\" xlink:href=\"#black-bishop\" transform=\"translate(105, 15)\" /><use href=\"#black-queen\" xlink:href=\"#black-queen\" transform=\"translate(150, 15)\" /><use href=\"#black-king\" xlink:href=\"#black-king\" transform=\"translate(195, 15)\" /><use href=\"#black-knight\" xlink:href=\"#black-knight\" transform=\"translate(285, 15)\" /><use href=\"#black-rook\" xlink:href=\"#black-rook\" transform=\"translate(330, 15)\" /></svg>"
      ],
      "text/plain": [
       "Board('r1bqk1nr/pppp1ppp/2n5/2b1p3/2B1P3/5N2/PPPP1PPP/RNBQK2R w KQkq - 0 4')"
      ]
     },
     "metadata": {},
     "output_type": "display_data"
    }
   ],
   "source": [
    "b = chess.Board('r1bqk1nr/pppp1ppp/2n5/2b1p3/2B1P3/5N2/PPPP1PPP/RNBQK2R w KQkq - 0 4')\n",
    "# b.push(chess.Move.from_uci('g2g4'))\n",
    "# b.push(chess.Move.from_uci('h7h5'))\n",
    "display(b)"
   ]
  },
  {
   "cell_type": "code",
   "execution_count": 14,
   "id": "4e7780be-f2e9-4dfe-8b75-61f0a81a775a",
   "metadata": {},
   "outputs": [
    {
     "data": {
      "text/plain": [
       "{Move.from_uci('c4f7'): 6.2731495e-05,\n",
       " Move.from_uci('c4e6'): 9.196387e-05,\n",
       " Move.from_uci('c4a6'): 4.0764255e-07,\n",
       " Move.from_uci('c4d5'): 8.782018e-05,\n",
       " Move.from_uci('c4b5'): 0.0018836113,\n",
       " Move.from_uci('c4d3'): 7.371598e-05,\n",
       " Move.from_uci('c4b3'): 0.0044525526,\n",
       " Move.from_uci('c4e2'): 2.7542761e-05,\n",
       " Move.from_uci('c4f1'): 1.0236866e-05,\n",
       " Move.from_uci('f3g5'): 0.00066685845,\n",
       " Move.from_uci('f3e5'): 0.0012502667,\n",
       " Move.from_uci('f3h4'): 1.4851178e-05,\n",
       " Move.from_uci('f3d4'): 1.1147082e-05,\n",
       " Move.from_uci('f3g1'): 5.262654e-07,\n",
       " Move.from_uci('h1g1'): 2.5513268e-07,\n",
       " Move.from_uci('h1f1'): 9.809323e-07,\n",
       " Move.from_uci('e1e2'): 0.000120196324,\n",
       " Move.from_uci('e1f1'): 6.4191576e-05,\n",
       " Move.from_uci('d1e2'): 0.0009843037,\n",
       " Move.from_uci('b1c3'): 0.052893348,\n",
       " Move.from_uci('b1a3'): 2.071033e-06,\n",
       " Move.from_uci('e1g1'): 0.18387671,\n",
       " Move.from_uci('h2h3'): 0.0032396992,\n",
       " Move.from_uci('g2g3'): 0.00016344346,\n",
       " Move.from_uci('d2d3'): 0.50992763,\n",
       " Move.from_uci('c2c3'): 0.19222558,\n",
       " Move.from_uci('b2b3'): 0.0015249469,\n",
       " Move.from_uci('a2a3'): 0.0050676237,\n",
       " Move.from_uci('h2h4'): 0.00032223866,\n",
       " Move.from_uci('g2g4'): 2.0785172e-05,\n",
       " Move.from_uci('d2d4'): 0.030825537,\n",
       " Move.from_uci('b2b4'): 0.0045487443,\n",
       " Move.from_uci('a2a4'): 0.0046086446}"
      ]
     },
     "execution_count": 14,
     "metadata": {},
     "output_type": "execute_result"
    }
   ],
   "source": [
    "decode_action(policy_model.predict(np.array([parse_fen('r1bqk1nr/pppp1ppp/2n5/2b1p3/2B1P3/5N2/PPPP1PPP/RNBQK2R w KQkq - 0 4')]), verbose = 0)[0].reshape((8,8,73)), 'r1bqk1nr/pppp1ppp/2n5/2b1p3/2B1P3/5N2/PPPP1PPP/RNBQK2R w KQkq - 0 4')"
   ]
  },
  {
   "cell_type": "code",
   "execution_count": 15,
   "id": "18d223f1-0aa1-45ce-87b0-ef58fc6d00f4",
   "metadata": {},
   "outputs": [],
   "source": [
    "def simul(state, policy_model, value_model, side_to_play):\n",
    "    \"\"\"\n",
    "    Function to perform single simulation of MCTS (selection of best move + expansion of leaf node)\n",
    "    \"\"\"\n",
    "    # stockfish_path = r\"C:\\Users\\DELL\\Desktop\\stockfish\\stockfish-windows-x86-64-avx2\\stockfish\\stockfish-windows-x86-64-avx2\"\n",
    "    # engine = chess.engine.SimpleEngine.popen_uci(stockfish_path)\n",
    "    state_turn = chess.Board(state.fen).turn\n",
    "    #print(state.fen, len(state.child))\n",
    "    if state.N == 0: #checking for leaf node\n",
    "        b = chess.Board(state.fen)\n",
    "        leg_moves = b.legal_moves\n",
    "        state.actions = list(leg_moves)\n",
    "        out_policy = policy_model.predict(np.array([parse_fen(state.fen)]), verbose = 0)[0].reshape((8, 8, 73))\n",
    "        policy_dict = decode_action(out_policy, state.fen)\n",
    "        for move in leg_moves:\n",
    "            move_prob = policy_dict[move]\n",
    "            b.push(move)\n",
    "            state.child.append(node(b.fen(), move_prob))\n",
    "            move_val = game_res(b) if game_end(b) else value_model.predict(np.array([parse_fen(b.fen())]), verbose = 0)[0][0]\n",
    "            # eval = str(engine.analyse(b, chess.engine.Limit(time = 0.1))['score'].white())\n",
    "            # if eval[-1] == '#':\n",
    "            #     if eval[0] == '-':\n",
    "            #         move_val = -10000\n",
    "            #     else:\n",
    "            #         move_val = 10000\n",
    "            # else:\n",
    "            #     move_val = int(eval)\n",
    "            # move_val = side_to_play*move_val - (1 - side_to_play)*move_val\n",
    "            state.W += (int(state_turn) == side_to_play)*move_val - (1 - (int(state_turn) == side_to_play))*move_val\n",
    "            b.pop()\n",
    "    else:\n",
    "        ucb_scores = []\n",
    "        for child in state.child:\n",
    "            #EVAL THE BEST MOVE USING UCB\n",
    "            U = 2*child.P*np.sqrt(state.N)/(1 + child.N) #choosing c = 1 for the UCB, exploration parameter\n",
    "            #print(U, child.Q, child.Q + U)\n",
    "            ucb_scores.append(child.Q + U)\n",
    "        #print(ucb_scores), np.argmax(ucb_scores))\n",
    "        if len(ucb_scores):\n",
    "            max_idx = np.argmax(ucb_scores)\n",
    "            best_child_W = state.child[max_idx].W\n",
    "            best_move_val = simul(state.child[max_idx], policy_model, value_model, side_to_play) - best_child_W  \n",
    "            state.W += (int(state_turn) == side_to_play)*best_move_val - (1 - (int(state_turn) == side_to_play))*best_move_val\n",
    "    state.N += 1\n",
    "    state.Q = state.W/state.N\n",
    "    return state.W"
   ]
  },
  {
   "cell_type": "code",
   "execution_count": 16,
   "id": "5f89ba75-1ab4-467b-953e-3effa6ef86f4",
   "metadata": {},
   "outputs": [],
   "source": [
    "def MCTS(root, policy_model, value_model, side_to_play, num_simul = 10): #root is the current game state/ node\n",
    "    for i in range(num_simul):\n",
    "        #print(i)\n",
    "        simul(root, policy_model, value_model, side_to_play)\n",
    "    # ucb_scores = []\n",
    "    # for child in root.child:\n",
    "    #     U = 1*child.P*np.sqrt(node.N)/(1 + child.N) #choosing c = 1 for the UCB\n",
    "    #     ucb_scores.append(child.Q + U)\n",
    "    # best_idx = np.argmax(ucb_scores)\n",
    "    # prob = [child.N/root.N for child in root.child]\n",
    "    # samp_idx = random.choices(np.arange(len(root.child)), weights = prob, k = 1)[0]\n",
    "    best_idx = np.argmax([child.N for child in root.child])\n",
    "    #return samp_idx\n",
    "    return best_idx"
   ]
  },
  {
   "cell_type": "code",
   "execution_count": 17,
   "id": "a9a1f9ea-0476-4891-8664-be27c7082d5b",
   "metadata": {},
   "outputs": [],
   "source": [
    "def play_stockfish(root, engine, engine_color, policy_model, value_model, num_simul, time_limit = 1): #1 for white, 0 for black\n",
    "    board = chess.Board(root.fen)\n",
    "    cp_loss = []\n",
    "    while not game_end(board):\n",
    "        if int(board.turn) == engine_color:\n",
    "            move = engine.play(board, chess.engine.Limit(time = time_limit)).move\n",
    "            board.push(move)\n",
    "            root = node(board.fen(), not engine_color)\n",
    "        else:\n",
    "            best_idx = MCTS(root, policy_model, value_model, not engine_color, num_simul)\n",
    "            try:\n",
    "                eval_init_w = int(str(engine.analyse(board, chess.engine.Limit(time = time_limit))['score'].white()))\n",
    "                int_eval_init = (1 - 2*engine_color)*eval_init_w\n",
    "            except:\n",
    "                break\n",
    "            move = root.actions[best_idx]\n",
    "            #root = root.child[best_idx]\n",
    "            board.push(move)\n",
    "            try:\n",
    "                eval_final_w = int(str(engine.analyse(board, chess.engine.Limit(time = time_limit))['score'].white()))\n",
    "                int_eval_final = (1 - 2*engine_color)*eval_final_w\n",
    "                cp_loss.append(int_eval_init - int_eval_final)\n",
    "            except:\n",
    "                break\n",
    "        print(move)\n",
    "    return cp_loss"
   ]
  },
  {
   "cell_type": "markdown",
   "id": "d305118d-f9c8-4695-a75a-539f04959ed2",
   "metadata": {},
   "source": [
    "PLAYING AGAINST STOCKFISH AND COLLECTING CENTIPAWN LOSSES"
   ]
  },
  {
   "cell_type": "code",
   "execution_count": 18,
   "id": "197e6df0-dff6-422d-930f-6b337ef23eb6",
   "metadata": {},
   "outputs": [],
   "source": [
    "# # 10 different opening positions\n",
    "# start_fens = [\n",
    "#     'r1bqk1nr/pppp1ppp/2n5/1Bb1p3/4P3/5N2/PPPP1PPP/RNBQK2R w KQkq - 0 4', \n",
    "#     'rnbqkb1r/ppp2ppp/5n2/3p4/3P4/2N5/PP2PPPP/R1BQKBNR w KQkq - 0 5',\n",
    "#     'rnbqk2r/pppp1ppp/4pn2/8/1bPP4/2N5/PP2PPPP/R1BQKBNR w KQkq - 0 4',\n",
    "#     'rnbqkb1r/pp2pp1p/3p1np1/8/3NP3/2N5/PPP2PPP/R1BQKB1R w KQkq - 0 6',\n",
    "#     'r1bqkb1r/pppp1ppp/2n2n2/4p3/3PP3/2N2N2/PPP2PPP/R1BQKB1R b KQkq - 0 4',\n",
    "#     'rn1qkbnr/pp2pppp/2p5/5b2/3PN3/8/PPP2PPP/R1BQKBNR w KQkq - 0 5',\n",
    "#     'rnbqkb1r/pp3p1p/3p1np1/2pP4/8/2N2NP1/PP2PP1P/R1BQKB1R b KQkq - 0 7',\n",
    "#     'rnbqkb1r/pp4pp/2p1pn2/3p1p2/2PP4/5NP1/PP2PPBP/RNBQK2R w KQkq - 0 6',\n",
    "#     'r1bqk2r/ppp2ppp/2np1n2/2b1p1B1/2B1P3/2NP1N2/PPP2PPP/R2QK2R b KQkq - 0 6',\n",
    "#     'rnbqkbnr/ppp2ppp/8/3p4/3P4/8/PPP2PPP/RNBQKBNR w KQkq - 0 4'\n",
    "# ]\n",
    "# start_fens = start_fens + start_fens\n",
    "# # 1 for white, 0 for black\n",
    "# engine_colors = [1]*10 + [0]*10\n",
    "# stockfish_path = r\"C:\\Users\\DELL\\Desktop\\stockfish\\stockfish-windows-x86-64-avx2\\stockfish\\stockfish-windows-x86-64-avx2\"\n",
    "# engine = chess.engine.SimpleEngine.popen_uci(stockfish_path)"
   ]
  },
  {
   "cell_type": "code",
   "execution_count": 19,
   "id": "8c225e24-d155-4c13-af85-122cc52ebf86",
   "metadata": {},
   "outputs": [
    {
     "name": "stdout",
     "output_type": "stream",
     "text": [
      "d2d3\n",
      "g8f6\n",
      "c2c3\n",
      "e8g8\n",
      "e1g1\n",
      "h7h6\n",
      "b2b4\n",
      "c5e7\n",
      "c1b2\n",
      "d7d6\n",
      "f1e1\n",
      "a7a6\n",
      "b1d2\n",
      "c8e6\n",
      "a2a3\n",
      "d8d7\n",
      "d1c2\n",
      "e6g4\n",
      "d3d4\n",
      "f6h7\n",
      "c4f1\n",
      "h7g5\n",
      "d4d5\n",
      "c6b8\n",
      "f3g5\n",
      "e7g5\n",
      "c3c4\n",
      "h6h5\n",
      "f2f3\n",
      "g4e6\n",
      "d2b3\n",
      "e6g4\n",
      "f3g4\n",
      "d7g4\n",
      "f1e2\n",
      "g4c8\n",
      "e2h5\n",
      "b8d7\n",
      "h5g4\n",
      "d7f6\n",
      "g4c8\n",
      "f8c8\n",
      "b3a5\n",
      "f6d7\n",
      "a5b7\n",
      "a8b8\n",
      "b7a5\n",
      "g5d2\n",
      "c2d2\n",
      "f7f6\n",
      "d2f2\n",
      "g8f7\n",
      "f2f5\n",
      "39.57692307692308\n",
      "2086.8022715994152\n"
     ]
    }
   ],
   "source": [
    "root = node('r1bqk1nr/pppp1ppp/2n5/2b1p3/2B1P3/5N2/PPPP1PPP/RNBQK2R w KQkq - 0 4', 1)\n",
    "stockfish_path = r\"C:\\Users\\DELL\\Desktop\\stockfish\\stockfish-windows-x86-64-avx2\\stockfish\\stockfish-windows-x86-64-avx2\"\n",
    "engine = chess.engine.SimpleEngine.popen_uci(stockfish_path)\n",
    "loss = np.mean(play_stockfish(root, engine, 1, policy_model, value_model, 3))\n",
    "elo = 3100*np.exp(-0.01*loss)\n",
    "print(loss)\n",
    "print(elo)"
   ]
  },
  {
   "cell_type": "code",
   "execution_count": null,
   "id": "f465d5e2-d1c8-4186-b85d-7fedd0a96a30",
   "metadata": {},
   "outputs": [],
   "source": [
    "beep()"
   ]
  },
  {
   "cell_type": "code",
   "execution_count": 17,
   "id": "1e365c3f-8dc1-459e-b816-f93cb8935575",
   "metadata": {},
   "outputs": [],
   "source": [
    "start_fens = ['r1bqk1nr/pppp1ppp/2n5/2b1p3/2B1P3/5N2/PPPP1PPP/RNBQK2R w KQkq - 0 4']*2\n",
    "engine_colors = [0, 1]"
   ]
  },
  {
   "cell_type": "code",
   "execution_count": 18,
   "id": "7f86b14b-8db5-43c6-b192-eb642fc6f3cf",
   "metadata": {},
   "outputs": [],
   "source": [
    "cp_loss_master = []\n",
    "cp_loss_n = []\n",
    "stockfish_path = r\"C:\\Users\\DELL\\Desktop\\stockfish\\stockfish-windows-x86-64-avx2\\stockfish\\stockfish-windows-x86-64-avx2\"\n",
    "engine = chess.engine.SimpleEngine.popen_uci(stockfish_path)"
   ]
  },
  {
   "cell_type": "code",
   "execution_count": 19,
   "id": "a757e50b-e582-4178-a6f7-36ee1ee9de63",
   "metadata": {},
   "outputs": [],
   "source": [
    "# root = node('r1bqk1nr/pppp1ppp/2n5/2b1p3/2B1P3/5N2/PPPP1PPP/RNBQK2R w KQkq - 0 4', 1)\n",
    "# cp_loss_n.append(play_stockfish(root, engine, 0, policy_model, value_model, 50))\n",
    "# del root"
   ]
  },
  {
   "cell_type": "code",
   "execution_count": 21,
   "id": "0499e234-de52-47b0-b9c6-2274498b1b7a",
   "metadata": {},
   "outputs": [
    {
     "name": "stderr",
     "output_type": "stream",
     "text": [
      "  0%|                                                                                            | 0/1 [00:00<?, ?it/s]\n",
      "0it [00:00, ?it/s]\u001b[A"
     ]
    },
    {
     "name": "stdout",
     "output_type": "stream",
     "text": [
      "d2d3\n",
      "g8f6\n",
      "e1g1\n",
      "d7d6\n",
      "b1c3\n",
      "c6a5\n",
      "c4b5\n",
      "c7c6\n",
      "b5a4\n",
      "b7b5\n",
      "a4b5\n",
      "c6b5\n",
      "c3b5\n",
      "e8g8\n",
      "c1g5\n",
      "h7h6\n",
      "g5f6\n",
      "d8f6\n",
      "b5c3\n",
      "a5c6\n",
      "c3d5\n",
      "f6d8\n",
      "c2c3\n",
      "a7a5\n",
      "f3d2\n",
      "c6e7\n",
      "d5e7\n",
      "d8e7\n",
      "d2c4\n",
      "c8e6\n",
      "c4e3\n",
      "c5a7\n",
      "d1d2\n",
      "e7g5\n",
      "g2g3\n",
      "f7f5\n",
      "e3f5\n",
      "g5d2\n",
      "f5e7\n",
      "g8h7\n"
     ]
    },
    {
     "name": "stderr",
     "output_type": "stream",
     "text": [
      "\n",
      "1it [04:30, 270.17s/it]\u001b[A"
     ]
    },
    {
     "name": "stdout",
     "output_type": "stream",
     "text": [
      "c2c3\n",
      "g8f6\n",
      "d2d3\n",
      "e8g8\n",
      "e1g1\n",
      "h7h6\n",
      "d3d4\n",
      "c5d4\n",
      "c3d4\n",
      "e5d4\n",
      "f3d4\n",
      "f8e8\n",
      "b1c3\n"
     ]
    },
    {
     "name": "stderr",
     "output_type": "stream",
     "text": [
      "1it [06:06, 366.41s/it]\n",
      "  0%|                                                                                            | 0/1 [06:06<?, ?it/s]\n"
     ]
    },
    {
     "ename": "KeyboardInterrupt",
     "evalue": "",
     "output_type": "error",
     "traceback": [
      "\u001b[1;31m---------------------------------------------------------------------------\u001b[0m",
      "\u001b[1;31mKeyboardInterrupt\u001b[0m                         Traceback (most recent call last)",
      "Cell \u001b[1;32mIn[21], line 8\u001b[0m\n\u001b[0;32m      6\u001b[0m \u001b[38;5;28;01mfor\u001b[39;00m i, start_fen \u001b[38;5;129;01min\u001b[39;00m tqdm(\u001b[38;5;28menumerate\u001b[39m(start_fens)):\n\u001b[0;32m      7\u001b[0m     root \u001b[38;5;241m=\u001b[39m node(start_fen, \u001b[38;5;241m1\u001b[39m)\n\u001b[1;32m----> 8\u001b[0m     cp_loss_n\u001b[38;5;241m.\u001b[39mappend(play_stockfish(root, engine, engine_colors[i], policy_model, value_model, num_simul))\n\u001b[0;32m      9\u001b[0m     \u001b[38;5;28;01mdel\u001b[39;00m root\n\u001b[0;32m     10\u001b[0m cp_loss_master\u001b[38;5;241m.\u001b[39mappend(cp_loss_n)\n",
      "Cell \u001b[1;32mIn[14], line 10\u001b[0m, in \u001b[0;36mplay_stockfish\u001b[1;34m(root, engine, engine_color, policy_model, value_model, num_simul, time_limit)\u001b[0m\n\u001b[0;32m      8\u001b[0m     root \u001b[38;5;241m=\u001b[39m node(board\u001b[38;5;241m.\u001b[39mfen(), \u001b[38;5;129;01mnot\u001b[39;00m engine_color)\n\u001b[0;32m      9\u001b[0m \u001b[38;5;28;01melse\u001b[39;00m:\n\u001b[1;32m---> 10\u001b[0m     best_idx \u001b[38;5;241m=\u001b[39m MCTS(root, policy_model, value_model, \u001b[38;5;129;01mnot\u001b[39;00m engine_color, num_simul)\n\u001b[0;32m     11\u001b[0m     \u001b[38;5;28;01mtry\u001b[39;00m:\n\u001b[0;32m     12\u001b[0m         eval_init_w \u001b[38;5;241m=\u001b[39m \u001b[38;5;28mint\u001b[39m(\u001b[38;5;28mstr\u001b[39m(engine\u001b[38;5;241m.\u001b[39manalyse(board, chess\u001b[38;5;241m.\u001b[39mengine\u001b[38;5;241m.\u001b[39mLimit(time \u001b[38;5;241m=\u001b[39m time_limit))[\u001b[38;5;124m'\u001b[39m\u001b[38;5;124mscore\u001b[39m\u001b[38;5;124m'\u001b[39m]\u001b[38;5;241m.\u001b[39mwhite()))\n",
      "Cell \u001b[1;32mIn[13], line 4\u001b[0m, in \u001b[0;36mMCTS\u001b[1;34m(root, policy_model, value_model, side_to_play, num_simul)\u001b[0m\n\u001b[0;32m      1\u001b[0m \u001b[38;5;28;01mdef\u001b[39;00m \u001b[38;5;21mMCTS\u001b[39m(root, policy_model, value_model, side_to_play, num_simul \u001b[38;5;241m=\u001b[39m \u001b[38;5;241m10\u001b[39m): \u001b[38;5;66;03m#root is the current game state/ node\u001b[39;00m\n\u001b[0;32m      2\u001b[0m     \u001b[38;5;28;01mfor\u001b[39;00m i \u001b[38;5;129;01min\u001b[39;00m \u001b[38;5;28mrange\u001b[39m(num_simul):\n\u001b[0;32m      3\u001b[0m         \u001b[38;5;66;03m#print(i)\u001b[39;00m\n\u001b[1;32m----> 4\u001b[0m         simul(root, policy_model, value_model, side_to_play)\n\u001b[0;32m      5\u001b[0m     \u001b[38;5;66;03m# ucb_scores = []\u001b[39;00m\n\u001b[0;32m      6\u001b[0m     \u001b[38;5;66;03m# for child in root.child:\u001b[39;00m\n\u001b[0;32m      7\u001b[0m     \u001b[38;5;66;03m#     U = 1*child.P*np.sqrt(node.N)/(1 + child.N) #choosing c = 1 for the UCB\u001b[39;00m\n\u001b[1;32m   (...)\u001b[0m\n\u001b[0;32m     10\u001b[0m     \u001b[38;5;66;03m# prob = [child.N/root.N for child in root.child]\u001b[39;00m\n\u001b[0;32m     11\u001b[0m     \u001b[38;5;66;03m# samp_idx = random.choices(np.arange(len(root.child)), weights = prob, k = 1)[0]\u001b[39;00m\n\u001b[0;32m     12\u001b[0m     best_idx \u001b[38;5;241m=\u001b[39m np\u001b[38;5;241m.\u001b[39margmax([child\u001b[38;5;241m.\u001b[39mN \u001b[38;5;28;01mfor\u001b[39;00m child \u001b[38;5;129;01min\u001b[39;00m root\u001b[38;5;241m.\u001b[39mchild])\n",
      "Cell \u001b[1;32mIn[12], line 31\u001b[0m, in \u001b[0;36msimul\u001b[1;34m(state, policy_model, value_model, side_to_play)\u001b[0m\n\u001b[0;32m     29\u001b[0m         max_idx \u001b[38;5;241m=\u001b[39m np\u001b[38;5;241m.\u001b[39margmax(ucb_scores)\n\u001b[0;32m     30\u001b[0m         best_child_W \u001b[38;5;241m=\u001b[39m state\u001b[38;5;241m.\u001b[39mchild[max_idx]\u001b[38;5;241m.\u001b[39mW\n\u001b[1;32m---> 31\u001b[0m         best_move_val \u001b[38;5;241m=\u001b[39m simul(state\u001b[38;5;241m.\u001b[39mchild[max_idx], policy_model, value_model, side_to_play) \u001b[38;5;241m-\u001b[39m best_child_W  \n\u001b[0;32m     32\u001b[0m         state\u001b[38;5;241m.\u001b[39mW \u001b[38;5;241m+\u001b[39m\u001b[38;5;241m=\u001b[39m (\u001b[38;5;28mint\u001b[39m(state_turn) \u001b[38;5;241m==\u001b[39m side_to_play)\u001b[38;5;241m*\u001b[39mbest_move_val \u001b[38;5;241m-\u001b[39m (\u001b[38;5;241m1\u001b[39m \u001b[38;5;241m-\u001b[39m (\u001b[38;5;28mint\u001b[39m(state_turn) \u001b[38;5;241m==\u001b[39m side_to_play))\u001b[38;5;241m*\u001b[39mbest_move_val\n\u001b[0;32m     33\u001b[0m state\u001b[38;5;241m.\u001b[39mN \u001b[38;5;241m+\u001b[39m\u001b[38;5;241m=\u001b[39m \u001b[38;5;241m1\u001b[39m\n",
      "Cell \u001b[1;32mIn[12], line 17\u001b[0m, in \u001b[0;36msimul\u001b[1;34m(state, policy_model, value_model, side_to_play)\u001b[0m\n\u001b[0;32m     15\u001b[0m b\u001b[38;5;241m.\u001b[39mpush(move)\n\u001b[0;32m     16\u001b[0m state\u001b[38;5;241m.\u001b[39mchild\u001b[38;5;241m.\u001b[39mappend(node(b\u001b[38;5;241m.\u001b[39mfen(), move_prob))\n\u001b[1;32m---> 17\u001b[0m move_val \u001b[38;5;241m=\u001b[39m game_res(b) \u001b[38;5;28;01mif\u001b[39;00m game_end(b) \u001b[38;5;28;01melse\u001b[39;00m value_model\u001b[38;5;241m.\u001b[39mpredict(np\u001b[38;5;241m.\u001b[39marray([parse_fen(b\u001b[38;5;241m.\u001b[39mfen())]), verbose \u001b[38;5;241m=\u001b[39m \u001b[38;5;241m0\u001b[39m)[\u001b[38;5;241m0\u001b[39m][\u001b[38;5;241m0\u001b[39m]\n\u001b[0;32m     18\u001b[0m state\u001b[38;5;241m.\u001b[39mW \u001b[38;5;241m+\u001b[39m\u001b[38;5;241m=\u001b[39m (\u001b[38;5;28mint\u001b[39m(state_turn) \u001b[38;5;241m==\u001b[39m side_to_play)\u001b[38;5;241m*\u001b[39mmove_val \u001b[38;5;241m-\u001b[39m (\u001b[38;5;241m1\u001b[39m \u001b[38;5;241m-\u001b[39m (\u001b[38;5;28mint\u001b[39m(state_turn) \u001b[38;5;241m==\u001b[39m side_to_play))\u001b[38;5;241m*\u001b[39mmove_val\n\u001b[0;32m     19\u001b[0m b\u001b[38;5;241m.\u001b[39mpop()\n",
      "File \u001b[1;32m~\\anaconda3\\envs\\ddp\\Lib\\site-packages\\keras\\src\\utils\\traceback_utils.py:65\u001b[0m, in \u001b[0;36mfilter_traceback.<locals>.error_handler\u001b[1;34m(*args, **kwargs)\u001b[0m\n\u001b[0;32m     63\u001b[0m filtered_tb \u001b[38;5;241m=\u001b[39m \u001b[38;5;28;01mNone\u001b[39;00m\n\u001b[0;32m     64\u001b[0m \u001b[38;5;28;01mtry\u001b[39;00m:\n\u001b[1;32m---> 65\u001b[0m     \u001b[38;5;28;01mreturn\u001b[39;00m fn(\u001b[38;5;241m*\u001b[39margs, \u001b[38;5;241m*\u001b[39m\u001b[38;5;241m*\u001b[39mkwargs)\n\u001b[0;32m     66\u001b[0m \u001b[38;5;28;01mexcept\u001b[39;00m \u001b[38;5;167;01mException\u001b[39;00m \u001b[38;5;28;01mas\u001b[39;00m e:\n\u001b[0;32m     67\u001b[0m     filtered_tb \u001b[38;5;241m=\u001b[39m _process_traceback_frames(e\u001b[38;5;241m.\u001b[39m__traceback__)\n",
      "File \u001b[1;32m~\\anaconda3\\envs\\ddp\\Lib\\site-packages\\keras\\src\\engine\\training.py:2521\u001b[0m, in \u001b[0;36mModel.predict\u001b[1;34m(self, x, batch_size, verbose, steps, callbacks, max_queue_size, workers, use_multiprocessing)\u001b[0m\n\u001b[0;32m   2512\u001b[0m     \u001b[38;5;28;01mexcept\u001b[39;00m \u001b[38;5;167;01mValueError\u001b[39;00m:\n\u001b[0;32m   2513\u001b[0m         warnings\u001b[38;5;241m.\u001b[39mwarn(\n\u001b[0;32m   2514\u001b[0m             \u001b[38;5;124m\"\u001b[39m\u001b[38;5;124mUsing Model.predict with MultiWorkerMirroredStrategy \u001b[39m\u001b[38;5;124m\"\u001b[39m\n\u001b[0;32m   2515\u001b[0m             \u001b[38;5;124m\"\u001b[39m\u001b[38;5;124mor TPUStrategy and AutoShardPolicy.FILE might lead to \u001b[39m\u001b[38;5;124m\"\u001b[39m\n\u001b[1;32m   (...)\u001b[0m\n\u001b[0;32m   2518\u001b[0m             stacklevel\u001b[38;5;241m=\u001b[39m\u001b[38;5;241m2\u001b[39m,\n\u001b[0;32m   2519\u001b[0m         )\n\u001b[1;32m-> 2521\u001b[0m data_handler \u001b[38;5;241m=\u001b[39m data_adapter\u001b[38;5;241m.\u001b[39mget_data_handler(\n\u001b[0;32m   2522\u001b[0m     x\u001b[38;5;241m=\u001b[39mx,\n\u001b[0;32m   2523\u001b[0m     batch_size\u001b[38;5;241m=\u001b[39mbatch_size,\n\u001b[0;32m   2524\u001b[0m     steps_per_epoch\u001b[38;5;241m=\u001b[39msteps,\n\u001b[0;32m   2525\u001b[0m     initial_epoch\u001b[38;5;241m=\u001b[39m\u001b[38;5;241m0\u001b[39m,\n\u001b[0;32m   2526\u001b[0m     epochs\u001b[38;5;241m=\u001b[39m\u001b[38;5;241m1\u001b[39m,\n\u001b[0;32m   2527\u001b[0m     max_queue_size\u001b[38;5;241m=\u001b[39mmax_queue_size,\n\u001b[0;32m   2528\u001b[0m     workers\u001b[38;5;241m=\u001b[39mworkers,\n\u001b[0;32m   2529\u001b[0m     use_multiprocessing\u001b[38;5;241m=\u001b[39muse_multiprocessing,\n\u001b[0;32m   2530\u001b[0m     model\u001b[38;5;241m=\u001b[39m\u001b[38;5;28mself\u001b[39m,\n\u001b[0;32m   2531\u001b[0m     steps_per_execution\u001b[38;5;241m=\u001b[39m\u001b[38;5;28mself\u001b[39m\u001b[38;5;241m.\u001b[39m_steps_per_execution,\n\u001b[0;32m   2532\u001b[0m )\n\u001b[0;32m   2534\u001b[0m \u001b[38;5;66;03m# Container that configures and calls `tf.keras.Callback`s.\u001b[39;00m\n\u001b[0;32m   2535\u001b[0m \u001b[38;5;28;01mif\u001b[39;00m \u001b[38;5;129;01mnot\u001b[39;00m \u001b[38;5;28misinstance\u001b[39m(callbacks, callbacks_module\u001b[38;5;241m.\u001b[39mCallbackList):\n",
      "File \u001b[1;32m~\\anaconda3\\envs\\ddp\\Lib\\site-packages\\keras\\src\\engine\\data_adapter.py:1678\u001b[0m, in \u001b[0;36mget_data_handler\u001b[1;34m(*args, **kwargs)\u001b[0m\n\u001b[0;32m   1676\u001b[0m         \u001b[38;5;28;01mreturn\u001b[39;00m _ClusterCoordinatorExactEvalDataHandler(\u001b[38;5;241m*\u001b[39margs, \u001b[38;5;241m*\u001b[39m\u001b[38;5;241m*\u001b[39mkwargs)\n\u001b[0;32m   1677\u001b[0m     \u001b[38;5;28;01mreturn\u001b[39;00m _ClusterCoordinatorDataHandler(\u001b[38;5;241m*\u001b[39margs, \u001b[38;5;241m*\u001b[39m\u001b[38;5;241m*\u001b[39mkwargs)\n\u001b[1;32m-> 1678\u001b[0m \u001b[38;5;28;01mreturn\u001b[39;00m DataHandler(\u001b[38;5;241m*\u001b[39margs, \u001b[38;5;241m*\u001b[39m\u001b[38;5;241m*\u001b[39mkwargs)\n",
      "File \u001b[1;32m~\\anaconda3\\envs\\ddp\\Lib\\site-packages\\keras\\src\\engine\\data_adapter.py:1285\u001b[0m, in \u001b[0;36mDataHandler.__init__\u001b[1;34m(self, x, y, sample_weight, batch_size, steps_per_epoch, initial_epoch, epochs, shuffle, class_weight, max_queue_size, workers, use_multiprocessing, model, steps_per_execution, distribute, pss_evaluation_shards)\u001b[0m\n\u001b[0;32m   1282\u001b[0m     \u001b[38;5;28mself\u001b[39m\u001b[38;5;241m.\u001b[39m_steps_per_execution \u001b[38;5;241m=\u001b[39m steps_per_execution\n\u001b[0;32m   1284\u001b[0m adapter_cls \u001b[38;5;241m=\u001b[39m select_data_adapter(x, y)\n\u001b[1;32m-> 1285\u001b[0m \u001b[38;5;28mself\u001b[39m\u001b[38;5;241m.\u001b[39m_adapter \u001b[38;5;241m=\u001b[39m adapter_cls(\n\u001b[0;32m   1286\u001b[0m     x,\n\u001b[0;32m   1287\u001b[0m     y,\n\u001b[0;32m   1288\u001b[0m     batch_size\u001b[38;5;241m=\u001b[39mbatch_size,\n\u001b[0;32m   1289\u001b[0m     steps\u001b[38;5;241m=\u001b[39msteps_per_epoch,\n\u001b[0;32m   1290\u001b[0m     epochs\u001b[38;5;241m=\u001b[39mepochs \u001b[38;5;241m-\u001b[39m initial_epoch,\n\u001b[0;32m   1291\u001b[0m     sample_weights\u001b[38;5;241m=\u001b[39msample_weight,\n\u001b[0;32m   1292\u001b[0m     shuffle\u001b[38;5;241m=\u001b[39mshuffle,\n\u001b[0;32m   1293\u001b[0m     max_queue_size\u001b[38;5;241m=\u001b[39mmax_queue_size,\n\u001b[0;32m   1294\u001b[0m     workers\u001b[38;5;241m=\u001b[39mworkers,\n\u001b[0;32m   1295\u001b[0m     use_multiprocessing\u001b[38;5;241m=\u001b[39muse_multiprocessing,\n\u001b[0;32m   1296\u001b[0m     distribution_strategy\u001b[38;5;241m=\u001b[39mtf\u001b[38;5;241m.\u001b[39mdistribute\u001b[38;5;241m.\u001b[39mget_strategy(),\n\u001b[0;32m   1297\u001b[0m     model\u001b[38;5;241m=\u001b[39mmodel,\n\u001b[0;32m   1298\u001b[0m     pss_evaluation_shards\u001b[38;5;241m=\u001b[39mpss_evaluation_shards,\n\u001b[0;32m   1299\u001b[0m )\n\u001b[0;32m   1301\u001b[0m strategy \u001b[38;5;241m=\u001b[39m tf\u001b[38;5;241m.\u001b[39mdistribute\u001b[38;5;241m.\u001b[39mget_strategy()\n\u001b[0;32m   1303\u001b[0m \u001b[38;5;28mself\u001b[39m\u001b[38;5;241m.\u001b[39m_current_step \u001b[38;5;241m=\u001b[39m \u001b[38;5;241m0\u001b[39m\n",
      "File \u001b[1;32m~\\anaconda3\\envs\\ddp\\Lib\\site-packages\\keras\\src\\engine\\data_adapter.py:296\u001b[0m, in \u001b[0;36mTensorLikeDataAdapter.__init__\u001b[1;34m(self, x, y, sample_weights, sample_weight_modes, batch_size, epochs, steps, shuffle, **kwargs)\u001b[0m\n\u001b[0;32m    284\u001b[0m \u001b[38;5;28mself\u001b[39m\u001b[38;5;241m.\u001b[39m_shuffle \u001b[38;5;241m=\u001b[39m shuffle\n\u001b[0;32m    285\u001b[0m \u001b[38;5;66;03m# Vectorized version of shuffle.\u001b[39;00m\n\u001b[0;32m    286\u001b[0m \u001b[38;5;66;03m# This is a performance improvement over using `from_tensor_slices`.\u001b[39;00m\n\u001b[0;32m    287\u001b[0m \u001b[38;5;66;03m# The indices of the data are shuffled and batched, and these indices\u001b[39;00m\n\u001b[1;32m   (...)\u001b[0m\n\u001b[0;32m    293\u001b[0m \u001b[38;5;66;03m# 4. optimized permutation batching\u001b[39;00m\n\u001b[0;32m    294\u001b[0m \u001b[38;5;66;03m# 5. disabled static optimizations\u001b[39;00m\n\u001b[1;32m--> 296\u001b[0m indices_dataset \u001b[38;5;241m=\u001b[39m tf\u001b[38;5;241m.\u001b[39mdata\u001b[38;5;241m.\u001b[39mDataset\u001b[38;5;241m.\u001b[39mrange(\u001b[38;5;241m1\u001b[39m)\n\u001b[0;32m    297\u001b[0m \u001b[38;5;28;01mif\u001b[39;00m shuffle \u001b[38;5;241m!=\u001b[39m \u001b[38;5;124m\"\u001b[39m\u001b[38;5;124mbatch\u001b[39m\u001b[38;5;124m\"\u001b[39m:\n\u001b[0;32m    298\u001b[0m     indices_dataset \u001b[38;5;241m=\u001b[39m indices_dataset\u001b[38;5;241m.\u001b[39mrepeat(epochs)\n",
      "File \u001b[1;32m~\\anaconda3\\envs\\ddp\\Lib\\site-packages\\tensorflow\\python\\data\\ops\\dataset_ops.py:1016\u001b[0m, in \u001b[0;36mDatasetV2.range\u001b[1;34m(*args, **kwargs)\u001b[0m\n\u001b[0;32m   1012\u001b[0m \u001b[38;5;66;03m# Loaded lazily due to a circular dependency (dataset_ops -> range_op ->\u001b[39;00m\n\u001b[0;32m   1013\u001b[0m \u001b[38;5;66;03m# -> dataset_ops).\u001b[39;00m\n\u001b[0;32m   1014\u001b[0m \u001b[38;5;66;03m# pylint: disable=g-import-not-at-top,protected-access\u001b[39;00m\n\u001b[0;32m   1015\u001b[0m \u001b[38;5;28;01mfrom\u001b[39;00m \u001b[38;5;21;01mtensorflow\u001b[39;00m\u001b[38;5;21;01m.\u001b[39;00m\u001b[38;5;21;01mpython\u001b[39;00m\u001b[38;5;21;01m.\u001b[39;00m\u001b[38;5;21;01mdata\u001b[39;00m\u001b[38;5;21;01m.\u001b[39;00m\u001b[38;5;21;01mops\u001b[39;00m \u001b[38;5;28;01mimport\u001b[39;00m range_op\n\u001b[1;32m-> 1016\u001b[0m \u001b[38;5;28;01mreturn\u001b[39;00m range_op\u001b[38;5;241m.\u001b[39m_range(\u001b[38;5;241m*\u001b[39margs, \u001b[38;5;241m*\u001b[39m\u001b[38;5;241m*\u001b[39mkwargs)\n",
      "File \u001b[1;32m~\\anaconda3\\envs\\ddp\\Lib\\site-packages\\tensorflow\\python\\data\\ops\\range_op.py:25\u001b[0m, in \u001b[0;36m_range\u001b[1;34m(*args, **kwargs)\u001b[0m\n\u001b[0;32m     24\u001b[0m \u001b[38;5;28;01mdef\u001b[39;00m \u001b[38;5;21m_range\u001b[39m(\u001b[38;5;241m*\u001b[39margs, \u001b[38;5;241m*\u001b[39m\u001b[38;5;241m*\u001b[39mkwargs):  \u001b[38;5;66;03m# pylint: disable=unused-private-name\u001b[39;00m\n\u001b[1;32m---> 25\u001b[0m   \u001b[38;5;28;01mreturn\u001b[39;00m _RangeDataset(\u001b[38;5;241m*\u001b[39margs, \u001b[38;5;241m*\u001b[39m\u001b[38;5;241m*\u001b[39mkwargs)\n",
      "File \u001b[1;32m~\\anaconda3\\envs\\ddp\\Lib\\site-packages\\tensorflow\\python\\data\\ops\\range_op.py:35\u001b[0m, in \u001b[0;36m_RangeDataset.__init__\u001b[1;34m(self, *args, **kwargs)\u001b[0m\n\u001b[0;32m     33\u001b[0m \u001b[38;5;28mself\u001b[39m\u001b[38;5;241m.\u001b[39m_parse_args(\u001b[38;5;241m*\u001b[39margs, \u001b[38;5;241m*\u001b[39m\u001b[38;5;241m*\u001b[39mkwargs)\n\u001b[0;32m     34\u001b[0m \u001b[38;5;28mself\u001b[39m\u001b[38;5;241m.\u001b[39m_structure \u001b[38;5;241m=\u001b[39m tensor_spec\u001b[38;5;241m.\u001b[39mTensorSpec([], \u001b[38;5;28mself\u001b[39m\u001b[38;5;241m.\u001b[39m_output_type)\n\u001b[1;32m---> 35\u001b[0m variant_tensor \u001b[38;5;241m=\u001b[39m gen_dataset_ops\u001b[38;5;241m.\u001b[39mrange_dataset(\n\u001b[0;32m     36\u001b[0m     start\u001b[38;5;241m=\u001b[39m\u001b[38;5;28mself\u001b[39m\u001b[38;5;241m.\u001b[39m_start,\n\u001b[0;32m     37\u001b[0m     stop\u001b[38;5;241m=\u001b[39m\u001b[38;5;28mself\u001b[39m\u001b[38;5;241m.\u001b[39m_stop,\n\u001b[0;32m     38\u001b[0m     step\u001b[38;5;241m=\u001b[39m\u001b[38;5;28mself\u001b[39m\u001b[38;5;241m.\u001b[39m_step,\n\u001b[0;32m     39\u001b[0m     \u001b[38;5;241m*\u001b[39m\u001b[38;5;241m*\u001b[39m\u001b[38;5;28mself\u001b[39m\u001b[38;5;241m.\u001b[39m_common_args)\n\u001b[0;32m     40\u001b[0m \u001b[38;5;28msuper\u001b[39m()\u001b[38;5;241m.\u001b[39m\u001b[38;5;21m__init__\u001b[39m(variant_tensor)\n",
      "File \u001b[1;32m~\\anaconda3\\envs\\ddp\\Lib\\site-packages\\tensorflow\\python\\ops\\gen_dataset_ops.py:6221\u001b[0m, in \u001b[0;36mrange_dataset\u001b[1;34m(start, stop, step, output_types, output_shapes, metadata, replicate_on_split, name)\u001b[0m\n\u001b[0;32m   6219\u001b[0m \u001b[38;5;28;01mif\u001b[39;00m tld\u001b[38;5;241m.\u001b[39mis_eager:\n\u001b[0;32m   6220\u001b[0m   \u001b[38;5;28;01mtry\u001b[39;00m:\n\u001b[1;32m-> 6221\u001b[0m     _result \u001b[38;5;241m=\u001b[39m pywrap_tfe\u001b[38;5;241m.\u001b[39mTFE_Py_FastPathExecute(\n\u001b[0;32m   6222\u001b[0m       _ctx, \u001b[38;5;124m\"\u001b[39m\u001b[38;5;124mRangeDataset\u001b[39m\u001b[38;5;124m\"\u001b[39m, name, start, stop, step, \u001b[38;5;124m\"\u001b[39m\u001b[38;5;124moutput_types\u001b[39m\u001b[38;5;124m\"\u001b[39m,\n\u001b[0;32m   6223\u001b[0m       output_types, \u001b[38;5;124m\"\u001b[39m\u001b[38;5;124moutput_shapes\u001b[39m\u001b[38;5;124m\"\u001b[39m, output_shapes, \u001b[38;5;124m\"\u001b[39m\u001b[38;5;124mmetadata\u001b[39m\u001b[38;5;124m\"\u001b[39m, metadata,\n\u001b[0;32m   6224\u001b[0m       \u001b[38;5;124m\"\u001b[39m\u001b[38;5;124mreplicate_on_split\u001b[39m\u001b[38;5;124m\"\u001b[39m, replicate_on_split)\n\u001b[0;32m   6225\u001b[0m     \u001b[38;5;28;01mreturn\u001b[39;00m _result\n\u001b[0;32m   6226\u001b[0m   \u001b[38;5;28;01mexcept\u001b[39;00m _core\u001b[38;5;241m.\u001b[39m_NotOkStatusException \u001b[38;5;28;01mas\u001b[39;00m e:\n",
      "\u001b[1;31mKeyboardInterrupt\u001b[0m: "
     ]
    }
   ],
   "source": [
    "cp_loss_master = []\n",
    "#num_simuls = [5, 10, 50, 100]\n",
    "num_simuls = [6]\n",
    "for num_simul in tqdm(num_simuls):\n",
    "    cp_loss_n = []\n",
    "    for i, start_fen in tqdm(enumerate(start_fens)):\n",
    "        root = node(start_fen, 1)\n",
    "        cp_loss_n.append(play_stockfish(root, engine, engine_colors[i], policy_model, value_model, num_simul))\n",
    "        del root\n",
    "    cp_loss_master.append(cp_loss_n)"
   ]
  },
  {
   "cell_type": "code",
   "execution_count": null,
   "id": "95bca66d-aa12-409e-8861-deffe923cf8f",
   "metadata": {},
   "outputs": [],
   "source": [
    "with open('cp_loss_c1.pkl', 'wb') as m:\n",
    "    pickle.dump(cp_loss_master, m)"
   ]
  },
  {
   "cell_type": "code",
   "execution_count": null,
   "id": "38b84f99-e20d-4693-a984-f4abae682eb2",
   "metadata": {},
   "outputs": [],
   "source": [
    "cp_loss_avg = np.array([0.5*(np.mean(row[0]) + np.mean(row[1])) for row in cp_loss_master])\n",
    "cp_loss_avg"
   ]
  },
  {
   "cell_type": "code",
   "execution_count": null,
   "id": "e6bf3369-b912-483b-bad7-b89a54f69414",
   "metadata": {},
   "outputs": [],
   "source": [
    "elo = 3100*np.exp(-0.01*cp_loss_avg)\n",
    "elo"
   ]
  },
  {
   "cell_type": "markdown",
   "id": "929e1e6f-cd06-4ff6-a0ba-d7a6149e8bc6",
   "metadata": {},
   "source": [
    "for c = 2 (high exploration factor),\n",
    "1. @ n = 3, elo = 2123\n",
    "2. @ n = 5, elo = 234 ??\n",
    "3. @ n = 10, elo = 1561 </ol>\n",
    "for c = 1 (low exploration factor),\n",
    "1. @ n = 3, elo = \n",
    "2. @ n = 5, elo = \n",
    "3. @ n = 10, elo =  </ol>\n"
   ]
  },
  {
   "cell_type": "code",
   "execution_count": null,
   "id": "65ac0f9f-6e03-4859-a23d-63b83b795df5",
   "metadata": {},
   "outputs": [],
   "source": [
    "beep()"
   ]
  }
 ],
 "metadata": {
  "kernelspec": {
   "display_name": "Python 3 (ipykernel)",
   "language": "python",
   "name": "python3"
  },
  "language_info": {
   "codemirror_mode": {
    "name": "ipython",
    "version": 3
   },
   "file_extension": ".py",
   "mimetype": "text/x-python",
   "name": "python",
   "nbconvert_exporter": "python",
   "pygments_lexer": "ipython3",
   "version": "3.11.7"
  }
 },
 "nbformat": 4,
 "nbformat_minor": 5
}
