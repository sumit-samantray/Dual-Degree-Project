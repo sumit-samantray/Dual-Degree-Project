{
 "cells": [
  {
   "cell_type": "markdown",
   "id": "5870b9d9-c2e6-447c-93c9-c52eb919fc0a",
   "metadata": {
    "id": "5870b9d9-c2e6-447c-93c9-c52eb919fc0a",
    "tags": []
   },
   "source": [
    "INSTALLING LIBRARIES"
   ]
  },
  {
   "cell_type": "code",
   "execution_count": 1,
   "id": "d7ba079d-788f-49d6-bb05-adbede76f237",
   "metadata": {
    "colab": {
     "base_uri": "https://localhost:8080/"
    },
    "id": "d7ba079d-788f-49d6-bb05-adbede76f237",
    "outputId": "7f4de772-2af9-43b4-f864-9fe17860e008",
    "scrolled": true,
    "tags": []
   },
   "outputs": [],
   "source": [
    "#!pip install chess"
   ]
  },
  {
   "cell_type": "markdown",
   "id": "53f23a17-9200-4687-bf14-a8a724cbd60e",
   "metadata": {
    "id": "53f23a17-9200-4687-bf14-a8a724cbd60e"
   },
   "source": [
    "IMPORTING LIBRARIES"
   ]
  },
  {
   "cell_type": "code",
   "execution_count": 2,
   "id": "f0355423-3563-4ddd-9142-e710a1b4fa82",
   "metadata": {
    "id": "f0355423-3563-4ddd-9142-e710a1b4fa82",
    "tags": []
   },
   "outputs": [],
   "source": [
    "import chess\n",
    "import numpy as np\n",
    "from sklearn.model_selection import train_test_split\n",
    "import tensorflow as tf\n",
    "from tensorflow.keras import layers, models"
   ]
  },
  {
   "cell_type": "markdown",
   "id": "4a9f6299-0161-440b-968c-f95b1ce4cd0a",
   "metadata": {
    "id": "4a9f6299-0161-440b-968c-f95b1ce4cd0a"
   },
   "source": [
    "UTILITY FUNCTIONS"
   ]
  },
  {
   "cell_type": "markdown",
   "id": "a9c8e9cd-dbab-4c3f-8c34-84172da3a1f3",
   "metadata": {
    "id": "a9c8e9cd-dbab-4c3f-8c34-84172da3a1f3"
   },
   "source": [
    "ENCODING THE BOARD"
   ]
  },
  {
   "cell_type": "code",
   "execution_count": 3,
   "id": "ab7f3f6e-6d97-4a88-808a-467132ec682c",
   "metadata": {
    "id": "ab7f3f6e-6d97-4a88-808a-467132ec682c",
    "tags": []
   },
   "outputs": [],
   "source": [
    "def parse_fen(fen):\n",
    "    #print(fen)\n",
    "    #not flipping the board for perspective since self-play is not required\n",
    "    file_to_num = {'a': 1, 'b': 2, 'c': 3, 'd':4, 'e':5, 'f':6, 'g':7, 'h':8}\n",
    "    enc = np.zeros([8,8,49]).astype(int)\n",
    "    fen_elem = fen.split(' ')\n",
    "    fen_pos = fen_elem[0]\n",
    "    if fen_elem[1] == 'w':\n",
    "        player = 1\n",
    "        enc_dict = {\"R\":0, \"N\":1, \"B\":2, \"Q\":3, \"K\":4, \"P\":5, \"r\":6, \"n\":7, \"b\":8, \"q\":9, \"k\":10, \"p\":11}\n",
    "    else:\n",
    "        player = 0\n",
    "        enc_dict = {\"r\":0, \"n\":1, \"b\":2, \"q\":3, \"k\":4, \"p\":5, \"R\":6, \"N\":7, \"B\":8, \"Q\":9, \"K\":10, \"P\":11}\n",
    "    enc[:,:,12] = player\n",
    "    castle = fen_elem[2]\n",
    "    if player:\n",
    "        if 'Q' not in castle:\n",
    "            enc[:,:,13] = 1\n",
    "        if 'K' not in castle:\n",
    "            enc[:,:,14] = 1\n",
    "        if 'q' not in castle:\n",
    "            enc[:,:,15] = 1\n",
    "        if 'k' not in castle:\n",
    "            enc[:,:,16] = 1\n",
    "    else:\n",
    "        if 'Q' not in castle:\n",
    "            enc[:,:,15] = 1\n",
    "        if 'K' not in castle:\n",
    "            enc[:,:,16] = 1\n",
    "        if 'q' not in castle:\n",
    "            enc[:,:,13] = 1\n",
    "        if 'k' not in castle:\n",
    "            enc[:,:,14] = 1\n",
    "    #enc[:,:,17] = int(fen_elem[-1])\n",
    "    ranks = fen_pos.split('/')\n",
    "    for i, rank in enumerate(ranks):\n",
    "        j = 0\n",
    "        k = 0\n",
    "        while k < len(rank):\n",
    "            if rank[k].isdigit():\n",
    "                j += int(rank[k])\n",
    "                k += 1\n",
    "                continue\n",
    "            enc[(7 - i)*player + (1 - player)*i, j*player + (1 - player)*(7 - j), enc_dict[rank[k]]] = 1\n",
    "            j += 1\n",
    "            k += 1\n",
    "    # appending the squares covered by pieces of both sides\n",
    "    l = 17\n",
    "    for j in range(2):\n",
    "        pawns_sq = []\n",
    "        if j == 1:\n",
    "            fen = board.push(chess.Move.null())\n",
    "        board = chess.Board(fen)\n",
    "        legal_moves = board.legal_moves\n",
    "        pieces = [enc_dict[str(board.piece_at(move.from_square))] for move in legal_moves]\n",
    "        legal_moves_ordered = np.array(list(legal_moves))[np.argsort(pieces, kind = 'stable')]\n",
    "        n = len(legal_moves_ordered)\n",
    "        chg_dir = 1\n",
    "        for i in range(n):\n",
    "            move = legal_moves_ordered[i]\n",
    "            move_str = str(move)\n",
    "            initial_file = player*(file_to_num[move_str[0]] - 1) + (1 - player)*(8 - file_to_num[move_str[0]])\n",
    "            initial_rank = player*(int(move_str[1]) - 1) + (1 - player)*(8 - int(move_str[1])) \n",
    "            from_sq = move.from_square\n",
    "            if str(board.piece_at(from_sq)).upper() == 'P':\n",
    "                if from_sq not in pawns_sq:\n",
    "                    if str(board.piece_at(from_sq)) == 'P':\n",
    "                        if initial_rank + 1 < 8 and initial_file - 1 >= 0:\n",
    "                            enc[initial_rank + 1, initial_file - 1, l] = 1\n",
    "                        if initial_rank + 1 < 8 and initial_file + 1 < 8:\n",
    "                            enc[initial_rank + 1, initial_file + 1, l] = 1\n",
    "                    else:\n",
    "                        if initial_rank - 1 >= 0 and initial_file - 1 >= 0:\n",
    "                            enc[initial_rank - 1, initial_file - 1, l] = 1\n",
    "                        if initial_rank - 1 >= 0 and initial_file + 1 < 8:\n",
    "                            enc[initial_rank - 1, initial_file + 1, l] = 1\n",
    "#                     while i + 1 < n and legal_moves_ordered[i + 1].from_square == from_sq:\n",
    "#                         i += 1\n",
    "                    pawns_sq.append(from_sq)\n",
    "                    l += 1\n",
    "                    #print(str(move))\n",
    "                continue\n",
    "            if str(board.piece_at(from_sq)).upper() == 'N':\n",
    "                if initial_file + 2 < 8 and initial_rank + 1 < 8:\n",
    "                    enc[initial_rank + 1, initial_file + 2, l] = 1\n",
    "                if initial_file + 2 < 8 and initial_rank - 1 >= 0:\n",
    "                    enc[initial_rank - 1, initial_file + 2, l] = 1\n",
    "                if initial_file + 1 < 8 and initial_rank + 2 < 8:\n",
    "                    enc[initial_rank + 2, initial_file + 1, l] = 1\n",
    "                if initial_file - 1 >= 0 and initial_rank + 2 < 8:\n",
    "                    enc[initial_rank + 2, initial_file - 1, l] = 1\n",
    "                if initial_file - 2 >= 0 and initial_rank + 1 < 8:\n",
    "                    enc[initial_rank + 1, initial_file - 2, l] = 1\n",
    "                if initial_file - 2 >= 0 and initial_rank - 1 >= 0:\n",
    "                    enc[initial_rank - 1, initial_file - 2, l] = 1\n",
    "                if initial_file - 1 >= 0 and initial_rank - 2 >= 0:\n",
    "                    enc[initial_rank - 2, initial_file - 1, l] = 1\n",
    "                if initial_file + 1 < 8 and initial_rank - 2 >= 0:\n",
    "                    enc[initial_rank - 2, initial_file + 1, l] = 1\n",
    "                while i + 1 < n and legal_moves_ordered[i + 1].from_square == from_sq:\n",
    "                    i += 1\n",
    "                l += 1\n",
    "                #print(str(move))\n",
    "                continue\n",
    "            final_file = player*(file_to_num[move_str[2]] - 1) + (1 - player)*(8 - file_to_num[move_str[2]])\n",
    "            final_rank = player*(int(move_str[3]) - 1) + (1 - player)*(8 - int(move_str[3]))\n",
    "            if chg_dir:\n",
    "                if not board.is_capture(move) and 0 <= final_rank + np.sign(final_rank - initial_rank) < 8 and 0 <= final_file + np.sign(final_file - initial_file) < 8:\n",
    "                    enc[final_rank + np.sign(final_rank - initial_rank), final_file + np.sign(final_file - initial_file), l] = 1\n",
    "                chg_dir = 0\n",
    "            elif abs(final_rank - initial_rank) == 1 or abs(final_file - initial_file) == 1:\n",
    "                chg_dir = 1\n",
    "            enc[final_rank, final_file, l] = 1\n",
    "            if i + 1 < n and legal_moves_ordered[i + 1].from_square != from_sq:\n",
    "                w_sq = (initial_rank, initial_file - 1)\n",
    "                e_sq = (initial_rank, initial_file + 1)\n",
    "                n_sq = (initial_rank + 1, initial_file)\n",
    "                s_sq = (initial_rank - 1, initial_file)\n",
    "                ne_sq = (initial_rank + 1, initial_file + 1)\n",
    "                nw_sq = (initial_rank + 1, initial_file - 1)\n",
    "                se_sq = (initial_rank - 1, initial_file + 1)\n",
    "                sw_sq = (initial_rank - 1, initial_file - 1)\n",
    "                if str(board.piece_at(from_sq)).upper():\n",
    "                    if w_sq[1] >= 0:\n",
    "                        enc[w_sq[0], w_sq[1], l] = 1\n",
    "                    if e_sq[1] < 8:\n",
    "                        enc[e_sq[0], e_sq[1], l] = 1\n",
    "                    if n_sq[0] < 8:\n",
    "                        enc[n_sq[0], n_sq[1], l] = 1\n",
    "                    if s_sq[0] >= 0:\n",
    "                        enc[s_sq[0], s_sq[1], l] = 1\n",
    "                elif str(board.piece_at(from_sq)).upper():\n",
    "                    if ne_sq[0] < 8 and ne_sq[1] < 8:\n",
    "                        enc[ne_sq[0], ne_sq[1], l] = 1\n",
    "                    if nw_sq[0] < 8 and nw_sq[1] >= 0:\n",
    "                        enc[nw_sq[0], nw_sq[1], l] = 1\n",
    "                    if se_sq[0] >= 0 and se_sq[1] < 8:\n",
    "                        enc[se_sq[0], se_sq[1], l] = 1\n",
    "                    if sw_sq[0] >= 0 and sw_sq[1] >= 0:\n",
    "                        enc[sw_sq[0], sw_sq[1], l] = 1\n",
    "                else: #for king and queen all directions\n",
    "                    if w_sq[1] >= 0:\n",
    "                        enc[w_sq[0], w_sq[1], l] = 1\n",
    "                    if e_sq[1] < 8:\n",
    "                        enc[e_sq[0], e_sq[1], l] = 1\n",
    "                    if n_sq[0] < 8:\n",
    "                        enc[n_sq[0], n_sq[1], l] = 1\n",
    "                    if s_sq[0] >= 0:\n",
    "                        enc[s_sq[0], s_sq[1], l] = 1\n",
    "                    if ne_sq[0] < 8 and ne_sq[1] < 8:\n",
    "                        enc[ne_sq[0], ne_sq[1], l] = 1\n",
    "                    if nw_sq[0] < 8 and nw_sq[1] >= 0:\n",
    "                        enc[nw_sq[0], nw_sq[1], l] = 1\n",
    "                    if se_sq[0] >= 0 and se_sq[1] < 8:\n",
    "                        enc[se_sq[0], se_sq[1], l] = 1\n",
    "                    if sw_sq[0] >= 0 and sw_sq[1] >= 0:\n",
    "                        enc[sw_sq[0], sw_sq[1], l] = 1\n",
    "                l += 1        \n",
    "                #print(str(move))\n",
    "    return enc"
   ]
  },
  {
   "cell_type": "code",
   "execution_count": 4,
   "id": "16f4c835",
   "metadata": {},
   "outputs": [
    {
     "data": {
      "text/plain": [
       "array([Move.from_uci('d1d2'), Move.from_uci('d1f1'),\n",
       "       Move.from_uci('d1e1'), Move.from_uci('d1c1'),\n",
       "       Move.from_uci('d1b1'), Move.from_uci('a1c1'),\n",
       "       Move.from_uci('a1b1'), Move.from_uci('f3g5'),\n",
       "       Move.from_uci('f3e5'), Move.from_uci('f3h4'),\n",
       "       Move.from_uci('f3h2'), Move.from_uci('f3d2'),\n",
       "       Move.from_uci('f3e1'), Move.from_uci('c3d5'),\n",
       "       Move.from_uci('c3b5'), Move.from_uci('c3e4'),\n",
       "       Move.from_uci('c3a4'), Move.from_uci('c3e2'),\n",
       "       Move.from_uci('c3b1'), Move.from_uci('f4b8'),\n",
       "       Move.from_uci('f4c7'), Move.from_uci('f4h6'),\n",
       "       Move.from_uci('f4d6'), Move.from_uci('f4g5'),\n",
       "       Move.from_uci('f4e5'), Move.from_uci('f4g3'),\n",
       "       Move.from_uci('f4h2'), Move.from_uci('d3h7'),\n",
       "       Move.from_uci('d3g6'), Move.from_uci('d3a6'),\n",
       "       Move.from_uci('d3f5'), Move.from_uci('d3b5'),\n",
       "       Move.from_uci('d3e4'), Move.from_uci('d3c4'),\n",
       "       Move.from_uci('d3e2'), Move.from_uci('d3f1'),\n",
       "       Move.from_uci('c2a4'), Move.from_uci('c2b3'),\n",
       "       Move.from_uci('c2e2'), Move.from_uci('c2d2'),\n",
       "       Move.from_uci('c2c1'), Move.from_uci('c2b1'),\n",
       "       Move.from_uci('g1h2'), Move.from_uci('g1h1'),\n",
       "       Move.from_uci('g1f1'), Move.from_uci('d4c5'),\n",
       "       Move.from_uci('h3h4'), Move.from_uci('e3e4'),\n",
       "       Move.from_uci('g2g3'), Move.from_uci('b2b3'),\n",
       "       Move.from_uci('a2a3'), Move.from_uci('g2g4'),\n",
       "       Move.from_uci('b2b4'), Move.from_uci('a2a4')], dtype=object)"
      ]
     },
     "execution_count": 4,
     "metadata": {},
     "output_type": "execute_result"
    }
   ],
   "source": [
    "fen = 'r2qnrk1/pb1nbpp1/1p5p/2pp4/3P1B2/2NBPN1P/PPQ2PP1/R2R2K1 w - - 2 14'\n",
    "#fen = '1r1q1rk1/4npbp/2npb1p1/pppNp3/2P5/3P2P1/PPNBPPBP/1R1Q1RK1 w - - 0 13'\n",
    "b = chess.Board(fen)\n",
    "enc_dict = {\"R\":0, \"N\":1, \"B\":2, \"Q\":3, \"K\":4, \"P\":5, \"r\":6, \"n\":7, \"b\":8, \"q\":9, \"k\":10, \"p\":11}\n",
    "legal_moves = b.legal_moves\n",
    "pieces = [enc_dict[str(b.piece_at(move.from_square))] for move in legal_moves]\n",
    "legal_moves_ordered = np.array(list(legal_moves))[np.argsort(pieces, kind = 'stable')]\n",
    "legal_moves_ordered"
   ]
  },
  {
   "cell_type": "code",
   "execution_count": 5,
   "id": "6a7e5741",
   "metadata": {},
   "outputs": [
    {
     "data": {
      "text/plain": [
       "array([38, 39, 40, 41, 42, 43, 44,  8,  9, 10, 11, 12, 13, 23, 24, 25, 26,\n",
       "       27, 28,  0,  1,  2,  3,  4,  5,  6,  7, 14, 15, 16, 17, 18, 19, 20,\n",
       "       21, 22, 29, 30, 31, 32, 33, 34, 35, 36, 37, 45, 46, 47, 48, 49, 50,\n",
       "       51, 52, 53], dtype=int64)"
      ]
     },
     "execution_count": 5,
     "metadata": {},
     "output_type": "execute_result"
    }
   ],
   "source": [
    "idx = np.argsort(pieces, kind = 'stable')\n",
    "idx"
   ]
  },
  {
   "cell_type": "code",
   "execution_count": 6,
   "id": "3cdc16a7",
   "metadata": {},
   "outputs": [
    {
     "data": {
      "text/plain": [
       "['f4b8',\n",
       " 'f4c7',\n",
       " 'f4h6',\n",
       " 'f4d6',\n",
       " 'f4g5',\n",
       " 'f4e5',\n",
       " 'f4g3',\n",
       " 'f4h2',\n",
       " 'f3g5',\n",
       " 'f3e5',\n",
       " 'f3h4',\n",
       " 'f3h2',\n",
       " 'f3d2',\n",
       " 'f3e1',\n",
       " 'd3h7',\n",
       " 'd3g6',\n",
       " 'd3a6',\n",
       " 'd3f5',\n",
       " 'd3b5',\n",
       " 'd3e4',\n",
       " 'd3c4',\n",
       " 'd3e2',\n",
       " 'd3f1',\n",
       " 'c3d5',\n",
       " 'c3b5',\n",
       " 'c3e4',\n",
       " 'c3a4',\n",
       " 'c3e2',\n",
       " 'c3b1',\n",
       " 'c2a4',\n",
       " 'c2b3',\n",
       " 'c2e2',\n",
       " 'c2d2',\n",
       " 'c2c1',\n",
       " 'c2b1',\n",
       " 'g1h2',\n",
       " 'g1h1',\n",
       " 'g1f1',\n",
       " 'd1d2',\n",
       " 'd1f1',\n",
       " 'd1e1',\n",
       " 'd1c1',\n",
       " 'd1b1',\n",
       " 'a1c1',\n",
       " 'a1b1',\n",
       " 'd4c5',\n",
       " 'h3h4',\n",
       " 'e3e4',\n",
       " 'g2g3',\n",
       " 'b2b3',\n",
       " 'a2a3',\n",
       " 'g2g4',\n",
       " 'b2b4',\n",
       " 'a2a4']"
      ]
     },
     "execution_count": 6,
     "metadata": {},
     "output_type": "execute_result"
    }
   ],
   "source": [
    "[str(move) for move in legal_moves]"
   ]
  },
  {
   "cell_type": "code",
   "execution_count": 7,
   "id": "c4ae6049",
   "metadata": {},
   "outputs": [
    {
     "data": {
      "text/plain": [
       "['d1d2',\n",
       " 'd1f1',\n",
       " 'd1e1',\n",
       " 'd1c1',\n",
       " 'd1b1',\n",
       " 'a1c1',\n",
       " 'a1b1',\n",
       " 'f3g5',\n",
       " 'f3e5',\n",
       " 'f3h4',\n",
       " 'f3h2',\n",
       " 'f3d2',\n",
       " 'f3e1',\n",
       " 'c3d5',\n",
       " 'c3b5',\n",
       " 'c3e4',\n",
       " 'c3a4',\n",
       " 'c3e2',\n",
       " 'c3b1',\n",
       " 'f4b8',\n",
       " 'f4c7',\n",
       " 'f4h6',\n",
       " 'f4d6',\n",
       " 'f4g5',\n",
       " 'f4e5',\n",
       " 'f4g3',\n",
       " 'f4h2',\n",
       " 'd3h7',\n",
       " 'd3g6',\n",
       " 'd3a6',\n",
       " 'd3f5',\n",
       " 'd3b5',\n",
       " 'd3e4',\n",
       " 'd3c4',\n",
       " 'd3e2',\n",
       " 'd3f1',\n",
       " 'c2a4',\n",
       " 'c2b3',\n",
       " 'c2e2',\n",
       " 'c2d2',\n",
       " 'c2c1',\n",
       " 'c2b1',\n",
       " 'g1h2',\n",
       " 'g1h1',\n",
       " 'g1f1',\n",
       " 'd4c5',\n",
       " 'h3h4',\n",
       " 'e3e4',\n",
       " 'g2g3',\n",
       " 'b2b3',\n",
       " 'a2a3',\n",
       " 'g2g4',\n",
       " 'b2b4',\n",
       " 'a2a4']"
      ]
     },
     "execution_count": 7,
     "metadata": {},
     "output_type": "execute_result"
    }
   ],
   "source": [
    "[str(move) for move in legal_moves_ordered]"
   ]
  },
  {
   "cell_type": "code",
   "execution_count": 8,
   "id": "2d8f82da",
   "metadata": {},
   "outputs": [],
   "source": [
    "f = parse_fen(fen)"
   ]
  },
  {
   "cell_type": "markdown",
   "id": "5debe940-2046-4e30-b4e2-cfd39fe83d3b",
   "metadata": {
    "id": "5debe940-2046-4e30-b4e2-cfd39fe83d3b"
   },
   "source": [
    "ENCODING THE ACTION"
   ]
  },
  {
   "cell_type": "code",
   "execution_count": 9,
   "id": "ed7b5c91-73cc-451b-9037-129f46b0d791",
   "metadata": {
    "id": "ed7b5c91-73cc-451b-9037-129f46b0d791",
    "tags": []
   },
   "outputs": [],
   "source": [
    "def parse_actions(move, fen):\n",
    "    if fen.split(' ')[1] == 'w':\n",
    "        player = 1\n",
    "    else:\n",
    "        player = 0\n",
    "    enc = np.zeros([8,8,73]).astype(int)\n",
    "    file_to_num = {'a': 1, 'b': 2, 'c': 3, 'd':4, 'e':5, 'f':6, 'g':7, 'h':8}\n",
    "    init_file = file_to_num[move[0]]\n",
    "    init_rank = int(move[1])\n",
    "    final_file = file_to_num[move[2]]\n",
    "    final_rank = int(move[3])\n",
    "    under_promo = move[-1] if move[-1] in ['n', 'N', 'b', 'B', 'r', 'R'] else None\n",
    "    file_diff = (init_file - final_file)*player + (final_file - init_file)*(1 - player)\n",
    "    rank_diff = (init_rank - final_rank)*player + (final_rank - init_rank)*(1 - player)\n",
    "    if under_promo is not None: #underpromotions\n",
    "        if file_diff == 0: #no capture\n",
    "            if under_promo in ['r', 'R']:\n",
    "                idx = 64\n",
    "            elif under_promo in ['b', 'B']:\n",
    "                idx = 65\n",
    "            else:\n",
    "                idx = 66\n",
    "        elif file_diff > 0: # left capture\n",
    "            if under_promo in ['r', 'R']:\n",
    "                idx = 67\n",
    "            elif under_promo in ['b', 'B']:\n",
    "                idx = 68\n",
    "            else:\n",
    "                idx = 69\n",
    "        else: # right capture\n",
    "            if under_promo in ['r', 'R']:\n",
    "                idx = 70\n",
    "            elif under_promo in ['b', 'B']:\n",
    "                idx = 71\n",
    "            else:\n",
    "                idx = 72\n",
    "    elif file_diff == 0: #NS direction\n",
    "        if rank_diff < 0: #upward\n",
    "            idx = -rank_diff - 1\n",
    "        else: #downward\n",
    "            idx = 6 + rank_diff\n",
    "    elif rank_diff == 0: #EW direction\n",
    "        if file_diff < 0: #right\n",
    "            idx = 13 - file_diff\n",
    "        else: #left\n",
    "            idx = 20 + file_diff\n",
    "    elif abs(file_diff) == abs(rank_diff): #diagonal moves\n",
    "        if rank_diff < 0 and file_diff < 0: #NE\n",
    "            idx = 27 - rank_diff\n",
    "        elif rank_diff > 0 and file_diff > 0: #SW\n",
    "            idx = 34 + rank_diff\n",
    "        elif rank_diff < 0 and file_diff > 0: #NW\n",
    "            idx = 41 + file_diff\n",
    "        else: #SE\n",
    "            idx = 48 + rank_diff\n",
    "    elif file_diff == 1 and rank_diff == -2:\n",
    "        idx = 56\n",
    "    elif file_diff == -1 and rank_diff == -2:\n",
    "        idx = 57\n",
    "    elif file_diff == 2 and rank_diff == 1:\n",
    "        idx = 58\n",
    "    elif file_diff == 2 and rank_diff == -1:\n",
    "        idx = 59\n",
    "    elif file_diff == 1 and rank_diff == 2:\n",
    "        idx = 60\n",
    "    elif file_diff == -1 and rank_diff == 2:\n",
    "        idx = 61\n",
    "    elif file_diff == -2 and rank_diff == 1:\n",
    "        idx = 62\n",
    "    elif file_diff == -2 and rank_diff == -1:\n",
    "        idx = 63\n",
    "    #enc[init_file - 1, init_rank - 1, idx] = 1\n",
    "    enc[(init_rank - 1)*player + (8 - init_rank)*(1 - player), (init_file - 1)*player + (8 - init_file)*(1 - player), idx] = 1\n",
    "    #return enc, init_file, init_rank, idx\n",
    "    return enc, (init_file - 1)*player + (8 - init_file)*(1 - player), (init_rank - 1)*player + (8 - init_rank)*(1 - player), idx"
   ]
  },
  {
   "cell_type": "markdown",
   "id": "a781a7c4-1a62-425b-afad-f7b29aa54f0b",
   "metadata": {
    "id": "a781a7c4-1a62-425b-afad-f7b29aa54f0b"
   },
   "source": [
    "DECODING THE TENSOR OUTPUT"
   ]
  },
  {
   "cell_type": "code",
   "execution_count": 10,
   "id": "7a475797-ec97-4f2d-871e-208d55c2dd78",
   "metadata": {
    "id": "7a475797-ec97-4f2d-871e-208d55c2dd78",
    "tags": []
   },
   "outputs": [],
   "source": [
    "def decode_action(out_policy, fen):\n",
    "    board = chess.Board(fen)\n",
    "    legal_moves = list(board.legal_moves)\n",
    "    legal_moves_str = np.array([str(move) for move in legal_moves])\n",
    "    prob = np.zeros(len(legal_moves))\n",
    "    for i, move in enumerate(legal_moves_str):\n",
    "        _, x, y, z = parse_actions(move, fen) #x = file, y = rank\n",
    "        #prob[i] = out_policy[x - 1, y - 1, z]\n",
    "        #prob[i] = out_policy[y - 1, x - 1, z]\n",
    "        prob[i] = out_policy[y, x, z]\n",
    "    prob /= np.sum(prob)\n",
    "    idx = prob.argsort()[::-1]\n",
    "    prob = prob[idx]\n",
    "    legal_moves_str = legal_moves_str[idx]\n",
    "    policy_dict = {move: p for move, p in zip(legal_moves_str, prob)}\n",
    "    best_move = legal_moves_str[0]\n",
    "    return policy_dict, best_move"
   ]
  },
  {
   "cell_type": "markdown",
   "id": "8113478e-2107-4530-9e70-1f1d562f623b",
   "metadata": {
    "id": "8113478e-2107-4530-9e70-1f1d562f623b"
   },
   "source": [
    "COLLECTING DATA FROM GRANDMASTER GAMES FOR TRAINING"
   ]
  },
  {
   "cell_type": "code",
   "execution_count": 11,
   "id": "994eb3bb-91d1-40b8-9a85-4aa4f8428b05",
   "metadata": {
    "id": "994eb3bb-91d1-40b8-9a85-4aa4f8428b05"
   },
   "outputs": [],
   "source": [
    "fen = []\n",
    "action = []\n",
    "all_fen = []\n",
    "pre_sum = []\n",
    "game_nos = []\n",
    "with open('move.txt', 'r') as fm:\n",
    "    action = [line.strip() for line in fm.readlines()]\n",
    "with open('all_fen.txt', 'r') as faf:\n",
    "    all_fen = [line.strip() for line in faf.readlines()]\n",
    "with open('fen.txt', 'r') as ff:\n",
    "    fen = [line.strip() for line in ff.readlines()]\n",
    "with open('game_nos.txt', 'r') as fg:\n",
    "    game_nos = [int(line.strip()) for line in fg.readlines()]\n",
    "# with open('pre_sum.txt', 'r') as fp:\n",
    "#     pre_sum = [int(line.strip()) for line in fp.readlines()]\n",
    "# with open('puzzle_fen.txt', 'r') as fpf:\n",
    "#     fen += [line.strip() for line in fpf.readlines()]\n",
    "# with open('puzzle_action.txt', 'r') as fpa:\n",
    "#     action += [line.strip() for line in fpa.readlines()]\n",
    "# for i in range(1, 11):\n",
    "#     with open('fen_' + str(i) + '.txt', 'r') as ff:\n",
    "#         fen += [line.strip() for line in ff.readlines()]"
   ]
  },
  {
   "cell_type": "markdown",
   "id": "7d86ed40-a2c5-4d5d-89b7-c15c1af99ad3",
   "metadata": {
    "id": "7d86ed40-a2c5-4d5d-89b7-c15c1af99ad3"
   },
   "source": [
    "TRAIN-TEST SPLIT"
   ]
  },
  {
   "cell_type": "code",
   "execution_count": 12,
   "id": "d06d98c2",
   "metadata": {},
   "outputs": [],
   "source": [
    "indices = np.arange(len(fen))\n",
    "ind_train, ind_test_val = train_test_split(indices, test_size = 0.3, shuffle = True, random_state = 42)\n",
    "ind_test, ind_val = train_test_split(ind_test_val, test_size = 0.4, random_state = 0)"
   ]
  },
  {
   "cell_type": "markdown",
   "id": "40cfYK89S6LW",
   "metadata": {
    "id": "40cfYK89S6LW"
   },
   "source": [
    "TRAIN DATA GENERATOR FUNCTION (MEMORY EFFICIENT)"
   ]
  },
  {
   "cell_type": "code",
   "execution_count": 13,
   "id": "TUyT77WeS_0c",
   "metadata": {
    "id": "TUyT77WeS_0c"
   },
   "outputs": [],
   "source": [
    "# def data_generator(X, Y, batch_size, is_validation = False):\n",
    "#     num_samples = len(X)\n",
    "#     indices = np.arange(num_samples)\n",
    "\n",
    "#     if is_validation:\n",
    "#         data_indices = indices  # Use all data for validation\n",
    "#     else:\n",
    "#         np.random.shuffle(indices)  # Shuffle indices only for training data\n",
    "#         data_indices = indices\n",
    "\n",
    "#     while True:\n",
    "#         for start in range(0, num_samples, batch_size):\n",
    "#             batch_indices = data_indices[start: start + batch_size]\n",
    "#             batch_X = [parse_fen(X[i]) for i in batch_indices]\n",
    "#             batch_Y = [parse_actions(Y[i])[0] for i in batch_indices]\n",
    "#             yield np.array(batch_X), np.array(batch_Y)"
   ]
  },
  {
   "cell_type": "markdown",
   "id": "ca40980d",
   "metadata": {},
   "source": [
    "DATA GENERATOR WITH HISTORY INCLUDED"
   ]
  },
  {
   "cell_type": "code",
   "execution_count": 14,
   "id": "bf0d833d",
   "metadata": {},
   "outputs": [],
   "source": [
    "def data_generator(X, Y, indices, game_nos, pre_sum, all_fen, batch_size, is_validation = False, history = 3):\n",
    "    # Here X and Y are the original data (before splitting)\n",
    "    # total stack height = history + 1\n",
    "    while True:\n",
    "        for start in range(0, len(X), batch_size):\n",
    "            batch_indices = indices[start: start + batch_size]\n",
    "            if history > 0:\n",
    "                batch_X = []\n",
    "                for i in batch_indices:\n",
    "                    board = chess.Board(X[i])\n",
    "                    n_moves = board.fullmove_number\n",
    "                    hash_id = pre_sum[game_nos[i]] + n_moves - 1\n",
    "                    stack_height = 49*(history + 1)\n",
    "                    stack_input = np.empty((8, 8, stack_height))\n",
    "                    for j in range(history, -1, -1):\n",
    "                        stack_input[:, :, 48*(history - j):48*(history + 1 - j)] = parse_fen(all_fen[hash_id - j])\n",
    "                    batch_X.append(stack_input)\n",
    "            else:\n",
    "                batch_X = [parse_fen(X[i]) for i in batch_indices]               \n",
    "            batch_Y = [parse_actions(Y[i], X[i])[0] for i in batch_indices]\n",
    "            yield np.array(batch_X), np.array(batch_Y)"
   ]
  },
  {
   "cell_type": "markdown",
   "id": "337efbd4-e97c-45b6-800a-2aea089932a8",
   "metadata": {
    "id": "337efbd4-e97c-45b6-800a-2aea089932a8"
   },
   "source": [
    "POLICY NETWORK"
   ]
  },
  {
   "cell_type": "code",
   "execution_count": 15,
   "id": "2a04f669",
   "metadata": {},
   "outputs": [
    {
     "name": "stdout",
     "output_type": "stream",
     "text": [
      "Model: \"model\"\n",
      "__________________________________________________________________________________________________\n",
      " Layer (type)                Output Shape                 Param #   Connected to                  \n",
      "==================================================================================================\n",
      " input_1 (InputLayer)        [(None, 8, 8, 49)]           0         []                            \n",
      "                                                                                                  \n",
      " conv2d (Conv2D)             (None, 8, 8, 128)            56576     ['input_1[0][0]']             \n",
      "                                                                                                  \n",
      " conv2d_1 (Conv2D)           (None, 8, 8, 128)            147584    ['conv2d[0][0]']              \n",
      "                                                                                                  \n",
      " conv2d_2 (Conv2D)           (None, 8, 8, 128)            147584    ['conv2d_1[0][0]']            \n",
      "                                                                                                  \n",
      " conv2d_3 (Conv2D)           (None, 8, 8, 128)            147584    ['conv2d_2[0][0]']            \n",
      "                                                                                                  \n",
      " add (Add)                   (None, 8, 8, 128)            0         ['conv2d[0][0]',              \n",
      "                                                                     'conv2d_3[0][0]']            \n",
      "                                                                                                  \n",
      " conv2d_4 (Conv2D)           (None, 8, 8, 128)            147584    ['add[0][0]']                 \n",
      "                                                                                                  \n",
      " conv2d_5 (Conv2D)           (None, 8, 8, 128)            147584    ['conv2d_4[0][0]']            \n",
      "                                                                                                  \n",
      " conv2d_6 (Conv2D)           (None, 8, 8, 128)            147584    ['conv2d_5[0][0]']            \n",
      "                                                                                                  \n",
      " add_1 (Add)                 (None, 8, 8, 128)            0         ['add[0][0]',                 \n",
      "                                                                     'conv2d_6[0][0]']            \n",
      "                                                                                                  \n",
      " conv2d_7 (Conv2D)           (None, 8, 8, 128)            147584    ['add_1[0][0]']               \n",
      "                                                                                                  \n",
      " conv2d_8 (Conv2D)           (None, 8, 8, 128)            147584    ['conv2d_7[0][0]']            \n",
      "                                                                                                  \n",
      " conv2d_9 (Conv2D)           (None, 8, 8, 128)            147584    ['conv2d_8[0][0]']            \n",
      "                                                                                                  \n",
      " add_2 (Add)                 (None, 8, 8, 128)            0         ['add_1[0][0]',               \n",
      "                                                                     'conv2d_9[0][0]']            \n",
      "                                                                                                  \n",
      " flatten (Flatten)           (None, 8192)                 0         ['add_2[0][0]']               \n",
      "                                                                                                  \n",
      " dense (Dense)               (None, 512)                  4194816   ['flatten[0][0]']             \n",
      "                                                                                                  \n",
      " dense_1 (Dense)             (None, 4672)                 2396736   ['dense[0][0]']               \n",
      "                                                                                                  \n",
      " reshape (Reshape)           (None, 8, 8, 73)             0         ['dense_1[0][0]']             \n",
      "                                                                                                  \n",
      "==================================================================================================\n",
      "Total params: 7976384 (30.43 MB)\n",
      "Trainable params: 7976384 (30.43 MB)\n",
      "Non-trainable params: 0 (0.00 Byte)\n",
      "__________________________________________________________________________________________________\n"
     ]
    }
   ],
   "source": [
    "from tensorflow.keras.models import Model\n",
    "from tensorflow.keras.layers import Input, Conv2D, Flatten, Dense, Reshape, Add\n",
    "#from tensorflow.keras import backend as K\n",
    "\n",
    "# Residual block\n",
    "def residual_block(x, filters, kernel_size = (3, 3)):\n",
    "    y = Conv2D(filters, kernel_size, padding = 'same', activation = 'relu')(x)\n",
    "    y = Conv2D(filters, kernel_size, padding = 'same', activation = 'relu')(y)\n",
    "    y = Conv2D(filters, kernel_size, padding = 'same', activation = 'relu')(y)\n",
    "    return Add()([x, y])\n",
    "\n",
    "# Define the neural network model with skip connections\n",
    "input_layer = Input(shape = (8, 8, 49))\n",
    "\n",
    "# Initial convolutional layer\n",
    "conv1 = Conv2D(128, (3, 3), padding = 'same', activation = 'relu')(input_layer)\n",
    "\n",
    "# Stack of residual blocks\n",
    "residual = residual_block(conv1, 128)\n",
    "for _ in range(2):  # Add more residual blocks if needed\n",
    "    residual = residual_block(residual, 128)\n",
    "\n",
    "# Flatten the output and add fully connected layers\n",
    "flatten = Flatten()(residual)\n",
    "dense1 = Dense(512, activation = 'relu')(flatten)\n",
    "output_layer = Dense(8*8*73, activation = 'softmax')(dense1)\n",
    "\n",
    "# Reshape output to 8x8x73 tensor\n",
    "reshaped_output = Reshape((8, 8, 73))(output_layer)\n",
    "\n",
    "# Create the model\n",
    "model = Model(inputs = input_layer, outputs = reshaped_output)\n",
    "\n",
    "# Compile the model\n",
    "model.compile(optimizer = 'adam', loss = 'categorical_crossentropy', metrics = ['accuracy'])\n",
    "\n",
    "# Display the model summary\n",
    "model.summary()"
   ]
  },
  {
   "cell_type": "markdown",
   "id": "30df4128",
   "metadata": {
    "id": "ad0b60b4-a692-4b5f-b682-349d10d1076b"
   },
   "source": [
    "#input layer\n",
    "n_kernels = 128\n",
    "kernel_size = 3\n",
    "history = 0\n",
    "activation = 'relu'\n",
    "input_layer = tf.keras.layers.Input(shape = (8, 8, 49*(history + 1)))\n",
    "conv1 = layers.Conv2D(n_kernels, kernel_size + 1, activation = activation, padding = 'same')(input_layer) #128 kernels/ filters, 3x3, Relu\n",
    "conv2 = layers.Conv2D(n_kernels, kernel_size, activation = activation, padding = 'same')(conv1) #128 kernels/ filters, 3x3, Relu\n",
    "conv3 = layers.Conv2D(n_kernels, kernel_size, activation = activation, padding = 'same')(conv2) #128 kernels/ filters, 3x3, Relu\n",
    "conv4 = layers.Conv2D(n_kernels, kernel_size, activation = activation, padding = 'same')(conv3) #128 kernels/ filters, 3x3, Relu\n",
    "conv5 = layers.Conv2D(n_kernels, kernel_size, activation = activation, padding = 'same')(conv4) #128 kernels/ filters, 3x3, Relu\n",
    "conv6 = layers.Conv2D(n_kernels, kernel_size, activation = activation, padding = 'same')(conv5) #128 kernels/ filters, 3x3, Relu\n",
    "conv7 = layers.Conv2D(n_kernels, kernel_size, activation = activation, padding = 'same')(conv6) #128 kernels/ filters, 3x3, Relu\n",
    "conv8 = layers.Conv2D(n_kernels, kernel_size, activation = activation, padding = 'same')(conv7) #128 kernels/ filters, 3x3, Relu\n",
    "conv9 = layers.Conv2D(n_kernels, kernel_size, activation = activation, padding = 'same')(conv8) #128 kernels/ filters, 3x3, Relu\n",
    "conv10 = layers.Conv2D(n_kernels, kernel_size, activation = activation, padding = 'same')(conv9) #128 kernels/ filters, 3x3, Relu\n",
    "conv11 = layers.Conv2D(n_kernels, kernel_size, activation = activation, padding = 'same')(conv10) #128 kernels/ filters, 3x3, Relu\n",
    "conv12 = layers.Conv2D(n_kernels, kernel_size, activation = activation, padding = 'same')(conv11) #128 kernels/ filters, 3x3, Relu\n",
    "conv13 = layers.Conv2D(n_kernels, kernel_size, activation = activation, padding = 'same')(conv12) #128 kernels/ filters, 3x3, Relu\n",
    "conv14 = layers.Conv2D(n_kernels, kernel_size, activation = activation, padding = 'same')(conv13)\n",
    "conv15 = layers.Conv2D(n_kernels, kernel_size, activation = activation, padding = 'same')(conv14)\n",
    "#policy output layer\n",
    "policy = layers.Conv2D(73, 1, activation = activation, padding = 'same')(conv15) #8X8X73 policy map\n",
    "flat_policy = layers.Flatten()(policy)\n",
    "soft_policy = layers.Activation('softmax')(flat_policy)\n",
    "output_layer = tf.reshape(soft_policy, (-1, 8, 8, 73))\n",
    "#create the model\n",
    "model = models.Model(inputs = input_layer, outputs = output_layer)\n",
    "#compiling the model\n",
    "model.compile(optimizer = 'adam', loss = 'categorical_crossentropy', metrics = ['accuracy'])"
   ]
  },
  {
   "cell_type": "markdown",
   "id": "dba22419-7d1e-495c-9413-5ded64a58395",
   "metadata": {
    "id": "dba22419-7d1e-495c-9413-5ded64a58395"
   },
   "source": [
    "TRAINING THE POLICY NETWORK"
   ]
  },
  {
   "cell_type": "code",
   "execution_count": 16,
   "id": "8cde9ad0-a0d2-41d7-b377-e84bcf9cc9fc",
   "metadata": {
    "colab": {
     "base_uri": "https://localhost:8080/"
    },
    "id": "8cde9ad0-a0d2-41d7-b377-e84bcf9cc9fc",
    "outputId": "c59a80c3-8eb9-4e79-929b-46f0ba73e006"
   },
   "outputs": [
    {
     "name": "stdout",
     "output_type": "stream",
     "text": [
      "46385/46385 [==============================] - 13054s 281ms/step - loss: nan - accuracy: 0.4535 - val_loss: nan - val_accuracy: 0.9867\n"
     ]
    }
   ],
   "source": [
    "batch_size = 32\n",
    "steps_per_epoch = len(ind_train) // batch_size\n",
    "train_data_generator = data_generator(fen, action, ind_train, game_nos, pre_sum, all_fen, batch_size, history = 0)\n",
    "val_batch_size = 32\n",
    "val_steps_per_epoch = len(ind_val) // val_batch_size\n",
    "val_data_generator = data_generator(fen, action, ind_val, game_nos, pre_sum, all_fen, val_batch_size, is_validation = True, history = 0)\n",
    "model.fit(train_data_generator,\n",
    "          epochs = 1,\n",
    "          steps_per_epoch = steps_per_epoch,\n",
    "          validation_data = val_data_generator,\n",
    "          validation_steps = val_steps_per_epoch)\n",
    "train_data_generator.close()\n",
    "val_data_generator.close()"
   ]
  },
  {
   "cell_type": "code",
   "execution_count": 17,
   "id": "3b08bf1a",
   "metadata": {},
   "outputs": [],
   "source": [
    "model.save('new_model_2.keras')"
   ]
  },
  {
   "cell_type": "code",
   "execution_count": 18,
   "id": "c68cfeb2",
   "metadata": {},
   "outputs": [],
   "source": [
    "#model2 = tf.keras.models.load_model('gen_model_large_3.keras') #best model is gen_model_large_3.keras\n",
    "model2 = tf.keras.models.load_model('new_model_2.keras')"
   ]
  },
  {
   "cell_type": "code",
   "execution_count": 19,
   "id": "2d2cb094",
   "metadata": {},
   "outputs": [],
   "source": [
    "# def play_best_move(model, fen):\n",
    "#     enc_fen = parse_fen(fen)\n",
    "#     out_policy = model.predict(np.array([enc_fen]))[0]\n",
    "#     return out_policy, decode_action(out_policy, fen)"
   ]
  },
  {
   "cell_type": "code",
   "execution_count": 20,
   "id": "1e3d8424",
   "metadata": {},
   "outputs": [],
   "source": [
    "def play_best_move_hist(model, fen, history = 3):\n",
    "    enc_fen = parse_fen(fen)\n",
    "    stack_fen = np.tile(enc_fen, (1, 1, history + 1))\n",
    "    out_policy = model.predict(np.array([stack_fen]))[0]\n",
    "    return out_policy, decode_action(out_policy, fen)"
   ]
  },
  {
   "cell_type": "code",
   "execution_count": 21,
   "id": "2e04fd88",
   "metadata": {},
   "outputs": [
    {
     "data": {
      "image/svg+xml": [
       "<svg xmlns=\"http://www.w3.org/2000/svg\" xmlns:xlink=\"http://www.w3.org/1999/xlink\" viewBox=\"0 0 390 390\" width=\"390\" height=\"390\"><desc><pre>r . . q k b . r\n",
       "p p . . n p p p\n",
       ". . . p . . . .\n",
       ". . p N N . B .\n",
       ". . B n P . . .\n",
       ". . . P . . . .\n",
       "P P P . . P P P\n",
       "R . . b K . . R</pre></desc><defs><g id=\"white-pawn\" class=\"white pawn\"><path d=\"M22.5 9c-2.21 0-4 1.79-4 4 0 .89.29 1.71.78 2.38C17.33 16.5 16 18.59 16 21c0 2.03.94 3.84 2.41 5.03-3 1.06-7.41 5.55-7.41 13.47h23c0-7.92-4.41-12.41-7.41-13.47 1.47-1.19 2.41-3 2.41-5.03 0-2.41-1.33-4.5-3.28-5.62.49-.67.78-1.49.78-2.38 0-2.21-1.79-4-4-4z\" fill=\"#fff\" stroke=\"#000\" stroke-width=\"1.5\" stroke-linecap=\"round\" /></g><g id=\"white-knight\" class=\"white knight\" fill=\"none\" fill-rule=\"evenodd\" stroke=\"#000\" stroke-width=\"1.5\" stroke-linecap=\"round\" stroke-linejoin=\"round\"><path d=\"M 22,10 C 32.5,11 38.5,18 38,39 L 15,39 C 15,30 25,32.5 23,18\" style=\"fill:#ffffff; stroke:#000000;\" /><path d=\"M 24,18 C 24.38,20.91 18.45,25.37 16,27 C 13,29 13.18,31.34 11,31 C 9.958,30.06 12.41,27.96 11,28 C 10,28 11.19,29.23 10,30 C 9,30 5.997,31 6,26 C 6,24 12,14 12,14 C 12,14 13.89,12.1 14,10.5 C 13.27,9.506 13.5,8.5 13.5,7.5 C 14.5,6.5 16.5,10 16.5,10 L 18.5,10 C 18.5,10 19.28,8.008 21,7 C 22,7 22,10 22,10\" style=\"fill:#ffffff; stroke:#000000;\" /><path d=\"M 9.5 25.5 A 0.5 0.5 0 1 1 8.5,25.5 A 0.5 0.5 0 1 1 9.5 25.5 z\" style=\"fill:#000000; stroke:#000000;\" /><path d=\"M 15 15.5 A 0.5 1.5 0 1 1 14,15.5 A 0.5 1.5 0 1 1 15 15.5 z\" transform=\"matrix(0.866,0.5,-0.5,0.866,9.693,-5.173)\" style=\"fill:#000000; stroke:#000000;\" /></g><g id=\"white-bishop\" class=\"white bishop\" fill=\"none\" fill-rule=\"evenodd\" stroke=\"#000\" stroke-width=\"1.5\" stroke-linecap=\"round\" stroke-linejoin=\"round\"><g fill=\"#fff\" stroke-linecap=\"butt\"><path d=\"M9 36c3.39-.97 10.11.43 13.5-2 3.39 2.43 10.11 1.03 13.5 2 0 0 1.65.54 3 2-.68.97-1.65.99-3 .5-3.39-.97-10.11.46-13.5-1-3.39 1.46-10.11.03-13.5 1-1.354.49-2.323.47-3-.5 1.354-1.94 3-2 3-2zM15 32c2.5 2.5 12.5 2.5 15 0 .5-1.5 0-2 0-2 0-2.5-2.5-4-2.5-4 5.5-1.5 6-11.5-5-15.5-11 4-10.5 14-5 15.5 0 0-2.5 1.5-2.5 4 0 0-.5.5 0 2zM25 8a2.5 2.5 0 1 1-5 0 2.5 2.5 0 1 1 5 0z\" /></g><path d=\"M17.5 26h10M15 30h15m-7.5-14.5v5M20 18h5\" stroke-linejoin=\"miter\" /></g><g id=\"white-rook\" class=\"white rook\" fill=\"#fff\" fill-rule=\"evenodd\" stroke=\"#000\" stroke-width=\"1.5\" stroke-linecap=\"round\" stroke-linejoin=\"round\"><path d=\"M9 39h27v-3H9v3zM12 36v-4h21v4H12zM11 14V9h4v2h5V9h5v2h5V9h4v5\" stroke-linecap=\"butt\" /><path d=\"M34 14l-3 3H14l-3-3\" /><path d=\"M31 17v12.5H14V17\" stroke-linecap=\"butt\" stroke-linejoin=\"miter\" /><path d=\"M31 29.5l1.5 2.5h-20l1.5-2.5\" /><path d=\"M11 14h23\" fill=\"none\" stroke-linejoin=\"miter\" /></g><g id=\"white-king\" class=\"white king\" fill=\"none\" fill-rule=\"evenodd\" stroke=\"#000\" stroke-width=\"1.5\" stroke-linecap=\"round\" stroke-linejoin=\"round\"><path d=\"M22.5 11.63V6M20 8h5\" stroke-linejoin=\"miter\" /><path d=\"M22.5 25s4.5-7.5 3-10.5c0 0-1-2.5-3-2.5s-3 2.5-3 2.5c-1.5 3 3 10.5 3 10.5\" fill=\"#fff\" stroke-linecap=\"butt\" stroke-linejoin=\"miter\" /><path d=\"M11.5 37c5.5 3.5 15.5 3.5 21 0v-7s9-4.5 6-10.5c-4-6.5-13.5-3.5-16 4V27v-3.5c-3.5-7.5-13-10.5-16-4-3 6 5 10 5 10V37z\" fill=\"#fff\" /><path d=\"M11.5 30c5.5-3 15.5-3 21 0m-21 3.5c5.5-3 15.5-3 21 0m-21 3.5c5.5-3 15.5-3 21 0\" /></g><g id=\"black-pawn\" class=\"black pawn\"><path d=\"M22.5 9c-2.21 0-4 1.79-4 4 0 .89.29 1.71.78 2.38C17.33 16.5 16 18.59 16 21c0 2.03.94 3.84 2.41 5.03-3 1.06-7.41 5.55-7.41 13.47h23c0-7.92-4.41-12.41-7.41-13.47 1.47-1.19 2.41-3 2.41-5.03 0-2.41-1.33-4.5-3.28-5.62.49-.67.78-1.49.78-2.38 0-2.21-1.79-4-4-4z\" fill=\"#000\" stroke=\"#000\" stroke-width=\"1.5\" stroke-linecap=\"round\" /></g><g id=\"black-knight\" class=\"black knight\" fill=\"none\" fill-rule=\"evenodd\" stroke=\"#000\" stroke-width=\"1.5\" stroke-linecap=\"round\" stroke-linejoin=\"round\"><path d=\"M 22,10 C 32.5,11 38.5,18 38,39 L 15,39 C 15,30 25,32.5 23,18\" style=\"fill:#000000; stroke:#000000;\" /><path d=\"M 24,18 C 24.38,20.91 18.45,25.37 16,27 C 13,29 13.18,31.34 11,31 C 9.958,30.06 12.41,27.96 11,28 C 10,28 11.19,29.23 10,30 C 9,30 5.997,31 6,26 C 6,24 12,14 12,14 C 12,14 13.89,12.1 14,10.5 C 13.27,9.506 13.5,8.5 13.5,7.5 C 14.5,6.5 16.5,10 16.5,10 L 18.5,10 C 18.5,10 19.28,8.008 21,7 C 22,7 22,10 22,10\" style=\"fill:#000000; stroke:#000000;\" /><path d=\"M 9.5 25.5 A 0.5 0.5 0 1 1 8.5,25.5 A 0.5 0.5 0 1 1 9.5 25.5 z\" style=\"fill:#ececec; stroke:#ececec;\" /><path d=\"M 15 15.5 A 0.5 1.5 0 1 1 14,15.5 A 0.5 1.5 0 1 1 15 15.5 z\" transform=\"matrix(0.866,0.5,-0.5,0.866,9.693,-5.173)\" style=\"fill:#ececec; stroke:#ececec;\" /><path d=\"M 24.55,10.4 L 24.1,11.85 L 24.6,12 C 27.75,13 30.25,14.49 32.5,18.75 C 34.75,23.01 35.75,29.06 35.25,39 L 35.2,39.5 L 37.45,39.5 L 37.5,39 C 38,28.94 36.62,22.15 34.25,17.66 C 31.88,13.17 28.46,11.02 25.06,10.5 L 24.55,10.4 z \" style=\"fill:#ececec; stroke:none;\" /></g><g id=\"black-bishop\" class=\"black bishop\" fill=\"none\" fill-rule=\"evenodd\" stroke=\"#000\" stroke-width=\"1.5\" stroke-linecap=\"round\" stroke-linejoin=\"round\"><path d=\"M9 36c3.39-.97 10.11.43 13.5-2 3.39 2.43 10.11 1.03 13.5 2 0 0 1.65.54 3 2-.68.97-1.65.99-3 .5-3.39-.97-10.11.46-13.5-1-3.39 1.46-10.11.03-13.5 1-1.354.49-2.323.47-3-.5 1.354-1.94 3-2 3-2zm6-4c2.5 2.5 12.5 2.5 15 0 .5-1.5 0-2 0-2 0-2.5-2.5-4-2.5-4 5.5-1.5 6-11.5-5-15.5-11 4-10.5 14-5 15.5 0 0-2.5 1.5-2.5 4 0 0-.5.5 0 2zM25 8a2.5 2.5 0 1 1-5 0 2.5 2.5 0 1 1 5 0z\" fill=\"#000\" stroke-linecap=\"butt\" /><path d=\"M17.5 26h10M15 30h15m-7.5-14.5v5M20 18h5\" stroke=\"#fff\" stroke-linejoin=\"miter\" /></g><g id=\"black-rook\" class=\"black rook\" fill=\"#000\" fill-rule=\"evenodd\" stroke=\"#000\" stroke-width=\"1.5\" stroke-linecap=\"round\" stroke-linejoin=\"round\"><path d=\"M9 39h27v-3H9v3zM12.5 32l1.5-2.5h17l1.5 2.5h-20zM12 36v-4h21v4H12z\" stroke-linecap=\"butt\" /><path d=\"M14 29.5v-13h17v13H14z\" stroke-linecap=\"butt\" stroke-linejoin=\"miter\" /><path d=\"M14 16.5L11 14h23l-3 2.5H14zM11 14V9h4v2h5V9h5v2h5V9h4v5H11z\" stroke-linecap=\"butt\" /><path d=\"M12 35.5h21M13 31.5h19M14 29.5h17M14 16.5h17M11 14h23\" fill=\"none\" stroke=\"#fff\" stroke-width=\"1\" stroke-linejoin=\"miter\" /></g><g id=\"black-queen\" class=\"black queen\" fill=\"#000\" fill-rule=\"evenodd\" stroke=\"#000\" stroke-width=\"1.5\" stroke-linecap=\"round\" stroke-linejoin=\"round\"><g fill=\"#000\" stroke=\"none\"><circle cx=\"6\" cy=\"12\" r=\"2.75\" /><circle cx=\"14\" cy=\"9\" r=\"2.75\" /><circle cx=\"22.5\" cy=\"8\" r=\"2.75\" /><circle cx=\"31\" cy=\"9\" r=\"2.75\" /><circle cx=\"39\" cy=\"12\" r=\"2.75\" /></g><path d=\"M9 26c8.5-1.5 21-1.5 27 0l2.5-12.5L31 25l-.3-14.1-5.2 13.6-3-14.5-3 14.5-5.2-13.6L14 25 6.5 13.5 9 26zM9 26c0 2 1.5 2 2.5 4 1 1.5 1 1 .5 3.5-1.5 1-1.5 2.5-1.5 2.5-1.5 1.5.5 2.5.5 2.5 6.5 1 16.5 1 23 0 0 0 1.5-1 0-2.5 0 0 .5-1.5-1-2.5-.5-2.5-.5-2 .5-3.5 1-2 2.5-2 2.5-4-8.5-1.5-18.5-1.5-27 0z\" stroke-linecap=\"butt\" /><path d=\"M11 38.5a35 35 1 0 0 23 0\" fill=\"none\" stroke-linecap=\"butt\" /><path d=\"M11 29a35 35 1 0 1 23 0M12.5 31.5h20M11.5 34.5a35 35 1 0 0 22 0M10.5 37.5a35 35 1 0 0 24 0\" fill=\"none\" stroke=\"#fff\" /></g><g id=\"black-king\" class=\"black king\" fill=\"none\" fill-rule=\"evenodd\" stroke=\"#000\" stroke-width=\"1.5\" stroke-linecap=\"round\" stroke-linejoin=\"round\"><path d=\"M22.5 11.63V6\" stroke-linejoin=\"miter\" /><path d=\"M22.5 25s4.5-7.5 3-10.5c0 0-1-2.5-3-2.5s-3 2.5-3 2.5c-1.5 3 3 10.5 3 10.5\" fill=\"#000\" stroke-linecap=\"butt\" stroke-linejoin=\"miter\" /><path d=\"M11.5 37c5.5 3.5 15.5 3.5 21 0v-7s9-4.5 6-10.5c-4-6.5-13.5-3.5-16 4V27v-3.5c-3.5-7.5-13-10.5-16-4-3 6 5 10 5 10V37z\" fill=\"#000\" /><path d=\"M20 8h5\" stroke-linejoin=\"miter\" /><path d=\"M32 29.5s8.5-4 6.03-9.65C34.15 14 25 18 22.5 24.5l.01 2.1-.01-2.1C20 18 9.906 14 6.997 19.85c-2.497 5.65 4.853 9 4.853 9M11.5 30c5.5-3 15.5-3 21 0m-21 3.5c5.5-3 15.5-3 21 0m-21 3.5c5.5-3 15.5-3 21 0\" stroke=\"#fff\" /></g></defs><rect x=\"7.5\" y=\"7.5\" width=\"375\" height=\"375\" fill=\"none\" stroke=\"#212121\" stroke-width=\"15\" /><g transform=\"translate(20, 1) scale(0.75, 0.75)\" fill=\"#e5e5e5\" stroke=\"#e5e5e5\"><path d=\"M23.328 10.016q-1.742 0-2.414.398-.672.398-.672 1.36 0 .765.5 1.218.508.445 1.375.445 1.196 0 1.914-.843.727-.852.727-2.258v-.32zm2.867-.594v4.992h-1.437v-1.328q-.492.797-1.227 1.18-.734.375-1.797.375-1.343 0-2.14-.75-.79-.758-.79-2.024 0-1.476.985-2.226.992-.75 2.953-.75h2.016V8.75q0-.992-.656-1.531-.649-.547-1.829-.547-.75 0-1.46.18-.711.18-1.368.539V6.062q.79-.304 1.532-.453.742-.156 1.445-.156 1.898 0 2.836.984.937.985.937 2.985z\" /></g><g transform=\"translate(20, 375) scale(0.75, 0.75)\" fill=\"#e5e5e5\" stroke=\"#e5e5e5\"><path d=\"M23.328 10.016q-1.742 0-2.414.398-.672.398-.672 1.36 0 .765.5 1.218.508.445 1.375.445 1.196 0 1.914-.843.727-.852.727-2.258v-.32zm2.867-.594v4.992h-1.437v-1.328q-.492.797-1.227 1.18-.734.375-1.797.375-1.343 0-2.14-.75-.79-.758-.79-2.024 0-1.476.985-2.226.992-.75 2.953-.75h2.016V8.75q0-.992-.656-1.531-.649-.547-1.829-.547-.75 0-1.46.18-.711.18-1.368.539V6.062q.79-.304 1.532-.453.742-.156 1.445-.156 1.898 0 2.836.984.937.985.937 2.985z\" /></g><g transform=\"translate(65, 1) scale(0.75, 0.75)\" fill=\"#e5e5e5\" stroke=\"#e5e5e5\"><path d=\"M24.922 10.047q0-1.586-.656-2.485-.649-.906-1.79-.906-1.14 0-1.796.906-.649.899-.649 2.485 0 1.586.649 2.492.656.898 1.797.898 1.14 0 1.789-.898.656-.906.656-2.492zm-4.89-3.055q.452-.781 1.14-1.156.695-.383 1.656-.383 1.594 0 2.586 1.266 1 1.265 1 3.328 0 2.062-1 3.328-.992 1.266-2.586 1.266-.96 0-1.656-.375-.688-.383-1.14-1.164v1.312h-1.446V2.258h1.445z\" /></g><g transform=\"translate(65, 375) scale(0.75, 0.75)\" fill=\"#e5e5e5\" stroke=\"#e5e5e5\"><path d=\"M24.922 10.047q0-1.586-.656-2.485-.649-.906-1.79-.906-1.14 0-1.796.906-.649.899-.649 2.485 0 1.586.649 2.492.656.898 1.797.898 1.14 0 1.789-.898.656-.906.656-2.492zm-4.89-3.055q.452-.781 1.14-1.156.695-.383 1.656-.383 1.594 0 2.586 1.266 1 1.265 1 3.328 0 2.062-1 3.328-.992 1.266-2.586 1.266-.96 0-1.656-.375-.688-.383-1.14-1.164v1.312h-1.446V2.258h1.445z\" /></g><g transform=\"translate(110, 1) scale(0.75, 0.75)\" fill=\"#e5e5e5\" stroke=\"#e5e5e5\"><path d=\"M25.96 6v1.344q-.608-.336-1.226-.5-.609-.172-1.234-.172-1.398 0-2.172.89-.773.883-.773 2.485 0 1.601.773 2.492.774.883 2.172.883.625 0 1.234-.164.618-.172 1.227-.508v1.328q-.602.281-1.25.422-.64.14-1.367.14-1.977 0-3.14-1.242-1.165-1.242-1.165-3.351 0-2.14 1.172-3.367 1.18-1.227 3.227-1.227.664 0 1.296.14.633.134 1.227.407z\" /></g><g transform=\"translate(110, 375) scale(0.75, 0.75)\" fill=\"#e5e5e5\" stroke=\"#e5e5e5\"><path d=\"M25.96 6v1.344q-.608-.336-1.226-.5-.609-.172-1.234-.172-1.398 0-2.172.89-.773.883-.773 2.485 0 1.601.773 2.492.774.883 2.172.883.625 0 1.234-.164.618-.172 1.227-.508v1.328q-.602.281-1.25.422-.64.14-1.367.14-1.977 0-3.14-1.242-1.165-1.242-1.165-3.351 0-2.14 1.172-3.367 1.18-1.227 3.227-1.227.664 0 1.296.14.633.134 1.227.407z\" /></g><g transform=\"translate(155, 1) scale(0.75, 0.75)\" fill=\"#e5e5e5\" stroke=\"#e5e5e5\"><path d=\"M24.973 6.992V2.258h1.437v12.156h-1.437v-1.312q-.453.78-1.149 1.164-.687.375-1.656.375-1.586 0-2.586-1.266-.992-1.266-.992-3.328 0-2.063.992-3.328 1-1.266 2.586-1.266.969 0 1.656.383.696.375 1.149 1.156zm-4.899 3.055q0 1.586.649 2.492.656.898 1.797.898 1.14 0 1.796-.898.657-.906.657-2.492 0-1.586-.657-2.485-.656-.906-1.796-.906-1.141 0-1.797.906-.649.899-.649 2.485z\" /></g><g transform=\"translate(155, 375) scale(0.75, 0.75)\" fill=\"#e5e5e5\" stroke=\"#e5e5e5\"><path d=\"M24.973 6.992V2.258h1.437v12.156h-1.437v-1.312q-.453.78-1.149 1.164-.687.375-1.656.375-1.586 0-2.586-1.266-.992-1.266-.992-3.328 0-2.063.992-3.328 1-1.266 2.586-1.266.969 0 1.656.383.696.375 1.149 1.156zm-4.899 3.055q0 1.586.649 2.492.656.898 1.797.898 1.14 0 1.796-.898.657-.906.657-2.492 0-1.586-.657-2.485-.656-.906-1.796-.906-1.141 0-1.797.906-.649.899-.649 2.485z\" /></g><g transform=\"translate(200, 1) scale(0.75, 0.75)\" fill=\"#e5e5e5\" stroke=\"#e5e5e5\"><path d=\"M26.555 9.68v.703h-6.61q.094 1.484.89 2.265.806.774 2.235.774.828 0 1.602-.203.781-.203 1.547-.61v1.36q-.774.328-1.586.5-.813.172-1.649.172-2.093 0-3.32-1.22-1.219-1.218-1.219-3.296 0-2.148 1.157-3.406 1.164-1.266 3.132-1.266 1.766 0 2.79 1.14 1.03 1.134 1.03 3.087zm-1.438-.422q-.015-1.18-.664-1.883-.64-.703-1.703-.703-1.203 0-1.93.68-.718.68-.828 1.914z\" /></g><g transform=\"translate(200, 375) scale(0.75, 0.75)\" fill=\"#e5e5e5\" stroke=\"#e5e5e5\"><path d=\"M26.555 9.68v.703h-6.61q.094 1.484.89 2.265.806.774 2.235.774.828 0 1.602-.203.781-.203 1.547-.61v1.36q-.774.328-1.586.5-.813.172-1.649.172-2.093 0-3.32-1.22-1.219-1.218-1.219-3.296 0-2.148 1.157-3.406 1.164-1.266 3.132-1.266 1.766 0 2.79 1.14 1.03 1.134 1.03 3.087zm-1.438-.422q-.015-1.18-.664-1.883-.64-.703-1.703-.703-1.203 0-1.93.68-.718.68-.828 1.914z\" /></g><g transform=\"translate(245, 1) scale(0.75, 0.75)\" fill=\"#e5e5e5\" stroke=\"#e5e5e5\"><path d=\"M25.285 2.258v1.195H23.91q-.773 0-1.078.313-.297.312-.297 1.125v.773h2.367v1.117h-2.367v7.633H21.09V6.781h-1.375V5.664h1.375v-.61q0-1.46.68-2.124.68-.672 2.156-.672z\" /></g><g transform=\"translate(245, 375) scale(0.75, 0.75)\" fill=\"#e5e5e5\" stroke=\"#e5e5e5\"><path d=\"M25.285 2.258v1.195H23.91q-.773 0-1.078.313-.297.312-.297 1.125v.773h2.367v1.117h-2.367v7.633H21.09V6.781h-1.375V5.664h1.375v-.61q0-1.46.68-2.124.68-.672 2.156-.672z\" /></g><g transform=\"translate(290, 1) scale(0.75, 0.75)\" fill=\"#e5e5e5\" stroke=\"#e5e5e5\"><path d=\"M24.973 9.937q0-1.562-.649-2.421-.64-.86-1.804-.86-1.157 0-1.805.86-.64.859-.64 2.421 0 1.555.64 2.415.648.859 1.805.859 1.164 0 1.804-.86.649-.859.649-2.414zm1.437 3.391q0 2.234-.992 3.32-.992 1.094-3.04 1.094-.757 0-1.429-.117-.672-.11-1.304-.344v-1.398q.632.344 1.25.508.617.164 1.257.164 1.414 0 2.118-.743.703-.734.703-2.226v-.711q-.446.773-1.141 1.156-.695.383-1.664.383-1.61 0-2.594-1.227-.984-1.226-.984-3.25 0-2.03.984-3.257.985-1.227 2.594-1.227.969 0 1.664.383t1.14 1.156V5.664h1.438z\" /></g><g transform=\"translate(290, 375) scale(0.75, 0.75)\" fill=\"#e5e5e5\" stroke=\"#e5e5e5\"><path d=\"M24.973 9.937q0-1.562-.649-2.421-.64-.86-1.804-.86-1.157 0-1.805.86-.64.859-.64 2.421 0 1.555.64 2.415.648.859 1.805.859 1.164 0 1.804-.86.649-.859.649-2.414zm1.437 3.391q0 2.234-.992 3.32-.992 1.094-3.04 1.094-.757 0-1.429-.117-.672-.11-1.304-.344v-1.398q.632.344 1.25.508.617.164 1.257.164 1.414 0 2.118-.743.703-.734.703-2.226v-.711q-.446.773-1.141 1.156-.695.383-1.664.383-1.61 0-2.594-1.227-.984-1.226-.984-3.25 0-2.03.984-3.257.985-1.227 2.594-1.227.969 0 1.664.383t1.14 1.156V5.664h1.438z\" /></g><g transform=\"translate(335, 1) scale(0.75, 0.75)\" fill=\"#e5e5e5\" stroke=\"#e5e5e5\"><path d=\"M26.164 9.133v5.281h-1.437V9.18q0-1.243-.485-1.86-.484-.617-1.453-.617-1.164 0-1.836.742-.672.742-.672 2.024v4.945h-1.445V2.258h1.445v4.765q.516-.789 1.211-1.18.703-.39 1.617-.39 1.508 0 2.282.938.773.93.773 2.742z\" /></g><g transform=\"translate(335, 375) scale(0.75, 0.75)\" fill=\"#e5e5e5\" stroke=\"#e5e5e5\"><path d=\"M26.164 9.133v5.281h-1.437V9.18q0-1.243-.485-1.86-.484-.617-1.453-.617-1.164 0-1.836.742-.672.742-.672 2.024v4.945h-1.445V2.258h1.445v4.765q.516-.789 1.211-1.18.703-.39 1.617-.39 1.508 0 2.282.938.773.93.773 2.742z\" /></g><g transform=\"translate(0, 335) scale(0.75, 0.75)\" fill=\"#e5e5e5\" stroke=\"#e5e5e5\"><path d=\"M6.754 26.996h2.578v-8.898l-2.805.562v-1.437l2.79-.563h1.578v10.336h2.578v1.328h-6.72z\" /></g><g transform=\"translate(375, 335) scale(0.75, 0.75)\" fill=\"#e5e5e5\" stroke=\"#e5e5e5\"><path d=\"M6.754 26.996h2.578v-8.898l-2.805.562v-1.437l2.79-.563h1.578v10.336h2.578v1.328h-6.72z\" /></g><g transform=\"translate(0, 290) scale(0.75, 0.75)\" fill=\"#e5e5e5\" stroke=\"#e5e5e5\"><path d=\"M8.195 26.996h5.508v1.328H6.297v-1.328q.898-.93 2.445-2.492 1.555-1.57 1.953-2.024.758-.851 1.055-1.437.305-.594.305-1.164 0-.93-.657-1.516-.648-.586-1.695-.586-.742 0-1.57.258-.82.258-1.758.781v-1.593q.953-.383 1.781-.578.828-.196 1.516-.196 1.812 0 2.89.906 1.079.907 1.079 2.422 0 .72-.274 1.368-.265.64-.976 1.515-.196.227-1.243 1.313-1.046 1.078-2.953 3.023z\" /></g><g transform=\"translate(375, 290) scale(0.75, 0.75)\" fill=\"#e5e5e5\" stroke=\"#e5e5e5\"><path d=\"M8.195 26.996h5.508v1.328H6.297v-1.328q.898-.93 2.445-2.492 1.555-1.57 1.953-2.024.758-.851 1.055-1.437.305-.594.305-1.164 0-.93-.657-1.516-.648-.586-1.695-.586-.742 0-1.57.258-.82.258-1.758.781v-1.593q.953-.383 1.781-.578.828-.196 1.516-.196 1.812 0 2.89.906 1.079.907 1.079 2.422 0 .72-.274 1.368-.265.64-.976 1.515-.196.227-1.243 1.313-1.046 1.078-2.953 3.023z\" /></g><g transform=\"translate(0, 245) scale(0.75, 0.75)\" fill=\"#e5e5e5\" stroke=\"#e5e5e5\"><path d=\"M11.434 22.035q1.132.242 1.765 1.008.64.766.64 1.89 0 1.727-1.187 2.672-1.187.946-3.375.946-.734 0-1.515-.149-.774-.14-1.602-.43V26.45q.656.383 1.438.578.78.196 1.632.196 1.485 0 2.258-.586.782-.586.782-1.703 0-1.032-.727-1.61-.719-.586-2.008-.586h-1.36v-1.297h1.423q1.164 0 1.78-.46.618-.47.618-1.344 0-.899-.64-1.375-.633-.485-1.82-.485-.65 0-1.391.141-.743.14-1.633.437V16.95q.898-.25 1.68-.375.788-.125 1.484-.125 1.797 0 2.844.82 1.046.813 1.046 2.204 0 .968-.554 1.64-.555.664-1.578.922z\" /></g><g transform=\"translate(375, 245) scale(0.75, 0.75)\" fill=\"#e5e5e5\" stroke=\"#e5e5e5\"><path d=\"M11.434 22.035q1.132.242 1.765 1.008.64.766.64 1.89 0 1.727-1.187 2.672-1.187.946-3.375.946-.734 0-1.515-.149-.774-.14-1.602-.43V26.45q.656.383 1.438.578.78.196 1.632.196 1.485 0 2.258-.586.782-.586.782-1.703 0-1.032-.727-1.61-.719-.586-2.008-.586h-1.36v-1.297h1.423q1.164 0 1.78-.46.618-.47.618-1.344 0-.899-.64-1.375-.633-.485-1.82-.485-.65 0-1.391.141-.743.14-1.633.437V16.95q.898-.25 1.68-.375.788-.125 1.484-.125 1.797 0 2.844.82 1.046.813 1.046 2.204 0 .968-.554 1.64-.555.664-1.578.922z\" /></g><g transform=\"translate(0, 200) scale(0.75, 0.75)\" fill=\"#e5e5e5\" stroke=\"#e5e5e5\"><path d=\"M11.016 18.035L7.03 24.262h3.985zm-.414-1.375h1.984v7.602h1.664v1.312h-1.664v2.75h-1.57v-2.75H5.75v-1.523z\" /></g><g transform=\"translate(375, 200) scale(0.75, 0.75)\" fill=\"#e5e5e5\" stroke=\"#e5e5e5\"><path d=\"M11.016 18.035L7.03 24.262h3.985zm-.414-1.375h1.984v7.602h1.664v1.312h-1.664v2.75h-1.57v-2.75H5.75v-1.523z\" /></g><g transform=\"translate(0, 155) scale(0.75, 0.75)\" fill=\"#e5e5e5\" stroke=\"#e5e5e5\"><path d=\"M6.719 16.66h6.195v1.328h-4.75v2.86q.344-.118.688-.172.343-.063.687-.063 1.953 0 3.094 1.07 1.14 1.07 1.14 2.899 0 1.883-1.171 2.93-1.172 1.039-3.305 1.039-.735 0-1.5-.125-.758-.125-1.57-.375v-1.586q.703.383 1.453.57.75.188 1.586.188 1.351 0 2.14-.711.79-.711.79-1.93 0-1.219-.79-1.93-.789-.71-2.14-.71-.633 0-1.266.14-.625.14-1.281.438z\" /></g><g transform=\"translate(375, 155) scale(0.75, 0.75)\" fill=\"#e5e5e5\" stroke=\"#e5e5e5\"><path d=\"M6.719 16.66h6.195v1.328h-4.75v2.86q.344-.118.688-.172.343-.063.687-.063 1.953 0 3.094 1.07 1.14 1.07 1.14 2.899 0 1.883-1.171 2.93-1.172 1.039-3.305 1.039-.735 0-1.5-.125-.758-.125-1.57-.375v-1.586q.703.383 1.453.57.75.188 1.586.188 1.351 0 2.14-.711.79-.711.79-1.93 0-1.219-.79-1.93-.789-.71-2.14-.71-.633 0-1.266.14-.625.14-1.281.438z\" /></g><g transform=\"translate(0, 110) scale(0.75, 0.75)\" fill=\"#e5e5e5\" stroke=\"#e5e5e5\"><path d=\"M10.137 21.863q-1.063 0-1.688.727-.617.726-.617 1.992 0 1.258.617 1.992.625.727 1.688.727 1.062 0 1.68-.727.624-.734.624-1.992 0-1.266-.625-1.992-.617-.727-1.68-.727zm3.133-4.945v1.437q-.594-.28-1.204-.43-.601-.148-1.195-.148-1.562 0-2.39 1.055-.82 1.055-.938 3.188.46-.68 1.156-1.04.696-.367 1.531-.367 1.758 0 2.774 1.07 1.023 1.063 1.023 2.899 0 1.797-1.062 2.883-1.063 1.086-2.828 1.086-2.024 0-3.094-1.547-1.07-1.555-1.07-4.5 0-2.766 1.312-4.406 1.313-1.649 3.524-1.649.593 0 1.195.117.61.118 1.266.352z\" /></g><g transform=\"translate(375, 110) scale(0.75, 0.75)\" fill=\"#e5e5e5\" stroke=\"#e5e5e5\"><path d=\"M10.137 21.863q-1.063 0-1.688.727-.617.726-.617 1.992 0 1.258.617 1.992.625.727 1.688.727 1.062 0 1.68-.727.624-.734.624-1.992 0-1.266-.625-1.992-.617-.727-1.68-.727zm3.133-4.945v1.437q-.594-.28-1.204-.43-.601-.148-1.195-.148-1.562 0-2.39 1.055-.82 1.055-.938 3.188.46-.68 1.156-1.04.696-.367 1.531-.367 1.758 0 2.774 1.07 1.023 1.063 1.023 2.899 0 1.797-1.062 2.883-1.063 1.086-2.828 1.086-2.024 0-3.094-1.547-1.07-1.555-1.07-4.5 0-2.766 1.312-4.406 1.313-1.649 3.524-1.649.593 0 1.195.117.61.118 1.266.352z\" /></g><g transform=\"translate(0, 65) scale(0.75, 0.75)\" fill=\"#e5e5e5\" stroke=\"#e5e5e5\"><path d=\"M6.25 16.66h7.5v.672L9.516 28.324H7.867l3.985-10.336H6.25z\" /></g><g transform=\"translate(375, 65) scale(0.75, 0.75)\" fill=\"#e5e5e5\" stroke=\"#e5e5e5\"><path d=\"M6.25 16.66h7.5v.672L9.516 28.324H7.867l3.985-10.336H6.25z\" /></g><g transform=\"translate(0, 20) scale(0.75, 0.75)\" fill=\"#e5e5e5\" stroke=\"#e5e5e5\"><path d=\"M10 22.785q-1.125 0-1.773.602-.641.601-.641 1.656t.64 1.656q.649.602 1.774.602t1.773-.602q.649-.61.649-1.656 0-1.055-.649-1.656-.64-.602-1.773-.602zm-1.578-.672q-1.016-.25-1.586-.945-.563-.695-.563-1.695 0-1.399.993-2.211 1-.813 2.734-.813 1.742 0 2.734.813.993.812.993 2.21 0 1-.57 1.696-.563.695-1.571.945 1.14.266 1.773 1.04.641.773.641 1.89 0 1.695-1.04 2.602-1.03.906-2.96.906t-2.969-.906Q6 26.738 6 25.043q0-1.117.64-1.89.641-.774 1.782-1.04zm-.578-2.492q0 .906.562 1.414.57.508 1.594.508 1.016 0 1.586-.508.578-.508.578-1.414 0-.906-.578-1.414-.57-.508-1.586-.508-1.023 0-1.594.508-.562.508-.562 1.414z\" /></g><g transform=\"translate(375, 20) scale(0.75, 0.75)\" fill=\"#e5e5e5\" stroke=\"#e5e5e5\"><path d=\"M10 22.785q-1.125 0-1.773.602-.641.601-.641 1.656t.64 1.656q.649.602 1.774.602t1.773-.602q.649-.61.649-1.656 0-1.055-.649-1.656-.64-.602-1.773-.602zm-1.578-.672q-1.016-.25-1.586-.945-.563-.695-.563-1.695 0-1.399.993-2.211 1-.813 2.734-.813 1.742 0 2.734.813.993.812.993 2.21 0 1-.57 1.696-.563.695-1.571.945 1.14.266 1.773 1.04.641.773.641 1.89 0 1.695-1.04 2.602-1.03.906-2.96.906t-2.969-.906Q6 26.738 6 25.043q0-1.117.64-1.89.641-.774 1.782-1.04zm-.578-2.492q0 .906.562 1.414.57.508 1.594.508 1.016 0 1.586-.508.578-.508.578-1.414 0-.906-.578-1.414-.57-.508-1.586-.508-1.023 0-1.594.508-.562.508-.562 1.414z\" /></g><rect x=\"15\" y=\"330\" width=\"45\" height=\"45\" class=\"square dark a1\" stroke=\"none\" fill=\"#d18b47\" /><rect x=\"60\" y=\"330\" width=\"45\" height=\"45\" class=\"square light b1\" stroke=\"none\" fill=\"#ffce9e\" /><rect x=\"105\" y=\"330\" width=\"45\" height=\"45\" class=\"square dark c1\" stroke=\"none\" fill=\"#d18b47\" /><rect x=\"150\" y=\"330\" width=\"45\" height=\"45\" class=\"square light d1\" stroke=\"none\" fill=\"#ffce9e\" /><rect x=\"195\" y=\"330\" width=\"45\" height=\"45\" class=\"square dark e1\" stroke=\"none\" fill=\"#d18b47\" /><rect x=\"240\" y=\"330\" width=\"45\" height=\"45\" class=\"square light f1\" stroke=\"none\" fill=\"#ffce9e\" /><rect x=\"285\" y=\"330\" width=\"45\" height=\"45\" class=\"square dark g1\" stroke=\"none\" fill=\"#d18b47\" /><rect x=\"330\" y=\"330\" width=\"45\" height=\"45\" class=\"square light h1\" stroke=\"none\" fill=\"#ffce9e\" /><rect x=\"15\" y=\"285\" width=\"45\" height=\"45\" class=\"square light a2\" stroke=\"none\" fill=\"#ffce9e\" /><rect x=\"60\" y=\"285\" width=\"45\" height=\"45\" class=\"square dark b2\" stroke=\"none\" fill=\"#d18b47\" /><rect x=\"105\" y=\"285\" width=\"45\" height=\"45\" class=\"square light c2\" stroke=\"none\" fill=\"#ffce9e\" /><rect x=\"150\" y=\"285\" width=\"45\" height=\"45\" class=\"square dark d2\" stroke=\"none\" fill=\"#d18b47\" /><rect x=\"195\" y=\"285\" width=\"45\" height=\"45\" class=\"square light e2\" stroke=\"none\" fill=\"#ffce9e\" /><rect x=\"240\" y=\"285\" width=\"45\" height=\"45\" class=\"square dark f2\" stroke=\"none\" fill=\"#d18b47\" /><rect x=\"285\" y=\"285\" width=\"45\" height=\"45\" class=\"square light g2\" stroke=\"none\" fill=\"#ffce9e\" /><rect x=\"330\" y=\"285\" width=\"45\" height=\"45\" class=\"square dark h2\" stroke=\"none\" fill=\"#d18b47\" /><rect x=\"15\" y=\"240\" width=\"45\" height=\"45\" class=\"square dark a3\" stroke=\"none\" fill=\"#d18b47\" /><rect x=\"60\" y=\"240\" width=\"45\" height=\"45\" class=\"square light b3\" stroke=\"none\" fill=\"#ffce9e\" /><rect x=\"105\" y=\"240\" width=\"45\" height=\"45\" class=\"square dark c3\" stroke=\"none\" fill=\"#d18b47\" /><rect x=\"150\" y=\"240\" width=\"45\" height=\"45\" class=\"square light d3\" stroke=\"none\" fill=\"#ffce9e\" /><rect x=\"195\" y=\"240\" width=\"45\" height=\"45\" class=\"square dark e3\" stroke=\"none\" fill=\"#d18b47\" /><rect x=\"240\" y=\"240\" width=\"45\" height=\"45\" class=\"square light f3\" stroke=\"none\" fill=\"#ffce9e\" /><rect x=\"285\" y=\"240\" width=\"45\" height=\"45\" class=\"square dark g3\" stroke=\"none\" fill=\"#d18b47\" /><rect x=\"330\" y=\"240\" width=\"45\" height=\"45\" class=\"square light h3\" stroke=\"none\" fill=\"#ffce9e\" /><rect x=\"15\" y=\"195\" width=\"45\" height=\"45\" class=\"square light a4\" stroke=\"none\" fill=\"#ffce9e\" /><rect x=\"60\" y=\"195\" width=\"45\" height=\"45\" class=\"square dark b4\" stroke=\"none\" fill=\"#d18b47\" /><rect x=\"105\" y=\"195\" width=\"45\" height=\"45\" class=\"square light c4\" stroke=\"none\" fill=\"#ffce9e\" /><rect x=\"150\" y=\"195\" width=\"45\" height=\"45\" class=\"square dark d4\" stroke=\"none\" fill=\"#d18b47\" /><rect x=\"195\" y=\"195\" width=\"45\" height=\"45\" class=\"square light e4\" stroke=\"none\" fill=\"#ffce9e\" /><rect x=\"240\" y=\"195\" width=\"45\" height=\"45\" class=\"square dark f4\" stroke=\"none\" fill=\"#d18b47\" /><rect x=\"285\" y=\"195\" width=\"45\" height=\"45\" class=\"square light g4\" stroke=\"none\" fill=\"#ffce9e\" /><rect x=\"330\" y=\"195\" width=\"45\" height=\"45\" class=\"square dark h4\" stroke=\"none\" fill=\"#d18b47\" /><rect x=\"15\" y=\"150\" width=\"45\" height=\"45\" class=\"square dark a5\" stroke=\"none\" fill=\"#d18b47\" /><rect x=\"60\" y=\"150\" width=\"45\" height=\"45\" class=\"square light b5\" stroke=\"none\" fill=\"#ffce9e\" /><rect x=\"105\" y=\"150\" width=\"45\" height=\"45\" class=\"square dark c5\" stroke=\"none\" fill=\"#d18b47\" /><rect x=\"150\" y=\"150\" width=\"45\" height=\"45\" class=\"square light d5\" stroke=\"none\" fill=\"#ffce9e\" /><rect x=\"195\" y=\"150\" width=\"45\" height=\"45\" class=\"square dark e5\" stroke=\"none\" fill=\"#d18b47\" /><rect x=\"240\" y=\"150\" width=\"45\" height=\"45\" class=\"square light f5\" stroke=\"none\" fill=\"#ffce9e\" /><rect x=\"285\" y=\"150\" width=\"45\" height=\"45\" class=\"square dark g5\" stroke=\"none\" fill=\"#d18b47\" /><rect x=\"330\" y=\"150\" width=\"45\" height=\"45\" class=\"square light h5\" stroke=\"none\" fill=\"#ffce9e\" /><rect x=\"15\" y=\"105\" width=\"45\" height=\"45\" class=\"square light a6\" stroke=\"none\" fill=\"#ffce9e\" /><rect x=\"60\" y=\"105\" width=\"45\" height=\"45\" class=\"square dark b6\" stroke=\"none\" fill=\"#d18b47\" /><rect x=\"105\" y=\"105\" width=\"45\" height=\"45\" class=\"square light c6\" stroke=\"none\" fill=\"#ffce9e\" /><rect x=\"150\" y=\"105\" width=\"45\" height=\"45\" class=\"square dark d6\" stroke=\"none\" fill=\"#d18b47\" /><rect x=\"195\" y=\"105\" width=\"45\" height=\"45\" class=\"square light e6\" stroke=\"none\" fill=\"#ffce9e\" /><rect x=\"240\" y=\"105\" width=\"45\" height=\"45\" class=\"square dark f6\" stroke=\"none\" fill=\"#d18b47\" /><rect x=\"285\" y=\"105\" width=\"45\" height=\"45\" class=\"square light g6\" stroke=\"none\" fill=\"#ffce9e\" /><rect x=\"330\" y=\"105\" width=\"45\" height=\"45\" class=\"square dark h6\" stroke=\"none\" fill=\"#d18b47\" /><rect x=\"15\" y=\"60\" width=\"45\" height=\"45\" class=\"square dark a7\" stroke=\"none\" fill=\"#d18b47\" /><rect x=\"60\" y=\"60\" width=\"45\" height=\"45\" class=\"square light b7\" stroke=\"none\" fill=\"#ffce9e\" /><rect x=\"105\" y=\"60\" width=\"45\" height=\"45\" class=\"square dark c7\" stroke=\"none\" fill=\"#d18b47\" /><rect x=\"150\" y=\"60\" width=\"45\" height=\"45\" class=\"square light d7\" stroke=\"none\" fill=\"#ffce9e\" /><rect x=\"195\" y=\"60\" width=\"45\" height=\"45\" class=\"square dark e7\" stroke=\"none\" fill=\"#d18b47\" /><rect x=\"240\" y=\"60\" width=\"45\" height=\"45\" class=\"square light f7\" stroke=\"none\" fill=\"#ffce9e\" /><rect x=\"285\" y=\"60\" width=\"45\" height=\"45\" class=\"square dark g7\" stroke=\"none\" fill=\"#d18b47\" /><rect x=\"330\" y=\"60\" width=\"45\" height=\"45\" class=\"square light h7\" stroke=\"none\" fill=\"#ffce9e\" /><rect x=\"15\" y=\"15\" width=\"45\" height=\"45\" class=\"square light a8\" stroke=\"none\" fill=\"#ffce9e\" /><rect x=\"60\" y=\"15\" width=\"45\" height=\"45\" class=\"square dark b8\" stroke=\"none\" fill=\"#d18b47\" /><rect x=\"105\" y=\"15\" width=\"45\" height=\"45\" class=\"square light c8\" stroke=\"none\" fill=\"#ffce9e\" /><rect x=\"150\" y=\"15\" width=\"45\" height=\"45\" class=\"square dark d8\" stroke=\"none\" fill=\"#d18b47\" /><rect x=\"195\" y=\"15\" width=\"45\" height=\"45\" class=\"square light e8\" stroke=\"none\" fill=\"#ffce9e\" /><rect x=\"240\" y=\"15\" width=\"45\" height=\"45\" class=\"square dark f8\" stroke=\"none\" fill=\"#d18b47\" /><rect x=\"285\" y=\"15\" width=\"45\" height=\"45\" class=\"square light g8\" stroke=\"none\" fill=\"#ffce9e\" /><rect x=\"330\" y=\"15\" width=\"45\" height=\"45\" class=\"square dark h8\" stroke=\"none\" fill=\"#d18b47\" /><use href=\"#white-rook\" xlink:href=\"#white-rook\" transform=\"translate(15, 330)\" /><use href=\"#black-bishop\" xlink:href=\"#black-bishop\" transform=\"translate(150, 330)\" /><use href=\"#white-king\" xlink:href=\"#white-king\" transform=\"translate(195, 330)\" /><use href=\"#white-rook\" xlink:href=\"#white-rook\" transform=\"translate(330, 330)\" /><use href=\"#white-pawn\" xlink:href=\"#white-pawn\" transform=\"translate(15, 285)\" /><use href=\"#white-pawn\" xlink:href=\"#white-pawn\" transform=\"translate(60, 285)\" /><use href=\"#white-pawn\" xlink:href=\"#white-pawn\" transform=\"translate(105, 285)\" /><use href=\"#white-pawn\" xlink:href=\"#white-pawn\" transform=\"translate(240, 285)\" /><use href=\"#white-pawn\" xlink:href=\"#white-pawn\" transform=\"translate(285, 285)\" /><use href=\"#white-pawn\" xlink:href=\"#white-pawn\" transform=\"translate(330, 285)\" /><use href=\"#white-pawn\" xlink:href=\"#white-pawn\" transform=\"translate(150, 240)\" /><use href=\"#white-bishop\" xlink:href=\"#white-bishop\" transform=\"translate(105, 195)\" /><use href=\"#black-knight\" xlink:href=\"#black-knight\" transform=\"translate(150, 195)\" /><use href=\"#white-pawn\" xlink:href=\"#white-pawn\" transform=\"translate(195, 195)\" /><use href=\"#black-pawn\" xlink:href=\"#black-pawn\" transform=\"translate(105, 150)\" /><use href=\"#white-knight\" xlink:href=\"#white-knight\" transform=\"translate(150, 150)\" /><use href=\"#white-knight\" xlink:href=\"#white-knight\" transform=\"translate(195, 150)\" /><use href=\"#white-bishop\" xlink:href=\"#white-bishop\" transform=\"translate(285, 150)\" /><use href=\"#black-pawn\" xlink:href=\"#black-pawn\" transform=\"translate(150, 105)\" /><use href=\"#black-pawn\" xlink:href=\"#black-pawn\" transform=\"translate(15, 60)\" /><use href=\"#black-pawn\" xlink:href=\"#black-pawn\" transform=\"translate(60, 60)\" /><use href=\"#black-knight\" xlink:href=\"#black-knight\" transform=\"translate(195, 60)\" /><use href=\"#black-pawn\" xlink:href=\"#black-pawn\" transform=\"translate(240, 60)\" /><use href=\"#black-pawn\" xlink:href=\"#black-pawn\" transform=\"translate(285, 60)\" /><use href=\"#black-pawn\" xlink:href=\"#black-pawn\" transform=\"translate(330, 60)\" /><use href=\"#black-rook\" xlink:href=\"#black-rook\" transform=\"translate(15, 15)\" /><use href=\"#black-queen\" xlink:href=\"#black-queen\" transform=\"translate(150, 15)\" /><use href=\"#black-king\" xlink:href=\"#black-king\" transform=\"translate(195, 15)\" /><use href=\"#black-bishop\" xlink:href=\"#black-bishop\" transform=\"translate(240, 15)\" /><use href=\"#black-rook\" xlink:href=\"#black-rook\" transform=\"translate(330, 15)\" /></svg>"
      ],
      "text/plain": [
       "Board('r2qkb1r/pp2nppp/3p4/2pNN1B1/2BnP3/3P4/PPP2PPP/R2bK2R w KQkq - 1 1')"
      ]
     },
     "execution_count": 21,
     "metadata": {},
     "output_type": "execute_result"
    }
   ],
   "source": [
    "samp_fen = 'r2qkb1r/pp2nppp/3p4/2pNN1B1/2BnP3/3P4/PPP2PPP/R2bK2R w KQkq - 1 0'\n",
    "b = chess.Board(samp_fen)\n",
    "b"
   ]
  },
  {
   "cell_type": "code",
   "execution_count": 22,
   "id": "0602872e",
   "metadata": {},
   "outputs": [
    {
     "name": "stdout",
     "output_type": "stream",
     "text": [
      "1/1 [==============================] - 0s 361ms/step\n"
     ]
    },
    {
     "data": {
      "text/plain": [
       "{'a2a4': nan,\n",
       " 'd5c3': nan,\n",
       " 'd5b4': nan,\n",
       " 'd5f4': nan,\n",
       " 'd5b6': nan,\n",
       " 'd5f6': nan,\n",
       " 'd5c7': nan,\n",
       " 'd5e7': nan,\n",
       " 'e5f3': nan,\n",
       " 'e5g4': nan,\n",
       " 'e5c6': nan,\n",
       " 'e5g6': nan,\n",
       " 'e5d7': nan,\n",
       " 'e5f7': nan,\n",
       " 'g5c1': nan,\n",
       " 'g5d2': nan,\n",
       " 'g5e3': nan,\n",
       " 'g5f4': nan,\n",
       " 'g5h4': nan,\n",
       " 'g5f6': nan,\n",
       " 'g5h6': nan,\n",
       " 'd5e3': nan,\n",
       " 'c4a6': nan,\n",
       " 'b2b4': nan,\n",
       " 'c4b5': nan,\n",
       " 'f2f4': nan,\n",
       " 'g2g4': nan,\n",
       " 'h2h4': nan,\n",
       " 'a2a3': nan,\n",
       " 'b2b3': nan,\n",
       " 'c2c3': nan,\n",
       " 'f2f3': nan,\n",
       " 'g2g3': nan,\n",
       " 'h2h3': nan,\n",
       " 'e1g1': nan,\n",
       " 'a1b1': nan,\n",
       " 'a1c1': nan,\n",
       " 'a1d1': nan,\n",
       " 'e1d1': nan,\n",
       " 'e1f1': nan,\n",
       " 'e1d2': nan,\n",
       " 'h1f1': nan,\n",
       " 'h1g1': nan,\n",
       " 'c4b3': nan,\n",
       " 'g5e7': nan}"
      ]
     },
     "execution_count": 22,
     "metadata": {},
     "output_type": "execute_result"
    }
   ],
   "source": [
    "out, p = play_best_move_hist(model, samp_fen, history = 0)\n",
    "p[0]"
   ]
  },
  {
   "cell_type": "markdown",
   "id": "7d295e1f",
   "metadata": {},
   "source": [
    "SYSTEM SHUTDOWN AFTER EXECUTION"
   ]
  },
  {
   "cell_type": "code",
   "execution_count": 23,
   "id": "a81654cc",
   "metadata": {},
   "outputs": [],
   "source": [
    "#model.save('model6.keras')"
   ]
  },
  {
   "cell_type": "code",
   "execution_count": 24,
   "id": "fafd3015",
   "metadata": {},
   "outputs": [],
   "source": [
    "#import os\n",
    "#os.system(\"shutdown /s /t 1\") "
   ]
  }
 ],
 "metadata": {
  "colab": {
   "provenance": []
  },
  "environment": {
   "kernel": "conda-root-py",
   "name": "workbench-notebooks.m113",
   "type": "gcloud",
   "uri": "gcr.io/deeplearning-platform-release/workbench-notebooks:m113"
  },
  "kernelspec": {
   "display_name": "Python 3 (ipykernel)",
   "language": "python",
   "name": "python3"
  },
  "language_info": {
   "codemirror_mode": {
    "name": "ipython",
    "version": 3
   },
   "file_extension": ".py",
   "mimetype": "text/x-python",
   "name": "python",
   "nbconvert_exporter": "python",
   "pygments_lexer": "ipython3",
   "version": "3.11.7"
  }
 },
 "nbformat": 4,
 "nbformat_minor": 5
}
