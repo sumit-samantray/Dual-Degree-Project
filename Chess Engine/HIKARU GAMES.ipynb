{
 "cells": [
  {
   "cell_type": "markdown",
   "id": "d3e9d086",
   "metadata": {},
   "source": [
    "INSTALLING LIBRARIES"
   ]
  },
  {
   "cell_type": "code",
   "execution_count": 1,
   "id": "dc247f22",
   "metadata": {},
   "outputs": [],
   "source": [
    "# !pip install imblearn"
   ]
  },
  {
   "cell_type": "markdown",
   "id": "eddcb7b8",
   "metadata": {},
   "source": [
    "IMPORTING LIBRARIES"
   ]
  },
  {
   "cell_type": "code",
   "execution_count": 2,
   "id": "8b89f78c",
   "metadata": {},
   "outputs": [],
   "source": [
    "import chess\n",
    "import chess.pgn\n",
    "import numpy as np"
   ]
  },
  {
   "cell_type": "markdown",
   "id": "8d1c4b51",
   "metadata": {},
   "source": [
    "STOCKFISH EVALUATION"
   ]
  },
  {
   "cell_type": "code",
   "execution_count": 3,
   "id": "44334b87",
   "metadata": {},
   "outputs": [],
   "source": [
    "def stock_eval(fen, time_limit = 0.001):\n",
    "    board = chess.Board(fen)\n",
    "    stockfish = r\"C:\\Users\\DELL\\Desktop\\stockfish\\stockfish-windows-x86-64-avx2\\stockfish\\stockfish-windows-x86-64-avx2\"\n",
    "    engine = chess.engine.SimpleEngine.popen_uci(stockfish)\n",
    "    result = engine.analyse(board, chess.engine.Limit(time = time_limit))\n",
    "    engine.quit()\n",
    "    return result['score']"
   ]
  },
  {
   "cell_type": "markdown",
   "id": "88cc5dab",
   "metadata": {},
   "source": [
    "LOADING THE PGN FILES"
   ]
  },
  {
   "cell_type": "code",
   "execution_count": 4,
   "id": "0865db9d",
   "metadata": {},
   "outputs": [
    {
     "name": "stderr",
     "output_type": "stream",
     "text": [
      "illegal san: '1b3k' in rnbqkbnr/pppppppp/8/8/8/8/PPPPPPPP/RNBQKBNR w KQkq - 0 1 while parsing <Game at 0x21e3c50a410 ('?' vs. '?', '????.??.??' at '?')>\n",
      "invalid san: 'N@g6' while parsing <Game at 0x21e3c5d9ad0 ('?' vs. '?', '????.??.??' at '?')>\n",
      "illegal san: 'Nxe4' in rnbqkbnr/pppppppp/8/8/8/8/PPPPPPPP/RNBQKBNR w KQkq - 0 1 while parsing <Game at 0x21e3c11ec10 ('?' vs. '?', '????.??.??' at '?')>\n",
      "illegal san: 'b2' in rnbqkbnr/pppppppp/8/8/8/8/PPPPPPPP/RNBQKBNR w KQkq - 0 1 while parsing <Game at 0x21e3b7acd10 ('?' vs. '?', '????.??.??' at '?')>\n",
      "illegal san: 'Bg7' in rnbqkbnr/pppppppp/8/8/3P4/8/PPP1PPPP/RNBQKBNR b KQkq - 0 1 while parsing <Game at 0x21e3c177b50 ('?' vs. '?', '????.??.??' at '?')>\n",
      "illegal san: 'Nf6' in rnbqkbnr/pppppppp/8/8/8/8/PPPPPPPP/RNBQKBNR w KQkq - 0 1 while parsing <Game at 0x21e3b7c0d50 ('?' vs. '?', '????.??.??' at '?')>\n",
      "illegal san: 'g6' in rnbqkbnr/pppppppp/8/8/8/8/PPPPPPPP/RNBQKBNR w KQkq - 0 1 while parsing <Game at 0x21e3b165b90 ('?' vs. '?', '????.??.??' at '?')>\n"
     ]
    }
   ],
   "source": [
    "players = ['Hikaru', 'Nakamura'] #Note: pgn file name should be the same as the player's name!\n",
    "# all_fen = [] #contains fen notation of all moves including openings (to be used as a hashtable)\n",
    "# fen = [] \n",
    "value_fen = []\n",
    "values = []\n",
    "# action = []\n",
    "# game_nos = []\n",
    "# pre_sum = []\n",
    "# total_moves = 0\n",
    "# game_no = -1\n",
    "for player in players:\n",
    "    pgn = open(player + '.pgn')\n",
    "    while 1:\n",
    "        game = chess.pgn.read_game(pgn)\n",
    "        if game is None:\n",
    "            break\n",
    "        if game.headers['White'].split(',')[0] == player:\n",
    "            w = 1\n",
    "        elif game.headers['Black'].split(',')[0] == player:\n",
    "            w = 0\n",
    "        else:\n",
    "            continue\n",
    "        # game_no += 1\n",
    "        # pre_sum.append(total_moves)\n",
    "        result = game.headers['Result']\n",
    "        if result == '1-0':\n",
    "            if w:\n",
    "                v = 1\n",
    "            else:\n",
    "                v = -1\n",
    "        elif result == '0-1':\n",
    "            if w:\n",
    "                v = -1\n",
    "            else:\n",
    "                v = 1\n",
    "        else:\n",
    "            v = 0\n",
    "        board = chess.Board()\n",
    "        for n, move in enumerate(game.mainline_moves()): #n here represents plies and not full moves!\n",
    "            if move not in board.legal_moves: #handling illegal moves (errors) in the pgn files\n",
    "                break\n",
    "            if w:\n",
    "                if n % 2:\n",
    "                    board.push(move)\n",
    "                    continue\n",
    "            else:\n",
    "                if n % 2 == 0:\n",
    "                    board.push(move)\n",
    "                    continue\n",
    "            fen_pos = board.fen()\n",
    "            # if n % 10 == 9 - w:\n",
    "            value_fen.append(fen_pos)               \n",
    "            values.append(v)\n",
    "            # all_fen.append(fen_pos)\n",
    "            # fen.append(fen_pos)\n",
    "            # action.append(str(move))\n",
    "            # game_nos.append(game_no)\n",
    "            board.push(move)\n",
    "            # total_moves += 1\n",
    "    del pgn"
   ]
  },
  {
   "cell_type": "code",
   "execution_count": 5,
   "id": "57c724d5-58fc-4141-a5ce-a695e6f92080",
   "metadata": {},
   "outputs": [],
   "source": [
    "with open('value_fen_new.txt', 'w') as f6:\n",
    "    for vf in value_fen:\n",
    "        f6.write(\"%s\\n\" % vf)\n",
    "with open('values_new.txt', 'w') as f7:\n",
    "    for v in values:\n",
    "        f7.write(\"%s\\n\" % v)"
   ]
  },
  {
   "cell_type": "code",
   "execution_count": 5,
   "id": "51996453-8a96-4d73-9c5d-45784cec151d",
   "metadata": {},
   "outputs": [],
   "source": [
    "# players = ['Nakamura', 'Anand', 'Carlsen', 'Caruana', 'Kasparov', 'Karpov', 'Fischer', 'Giri', 'Duda', 'Firouzja', 'Morozevich', \n",
    "#            'Mamedyarov', 'Grischuk', 'Ivanchuk', 'Topalov', 'Petrosian', 'Radjabov', 'Shirov', 'Kramnik', 'Beliavsky', 'Bareev', 'Bacrot',\n",
    "#           'Aronian', 'Nisipeanu', 'Bronstein', 'Gashimov', 'Gelfand', 'Geller', 'Harikrishna', 'Svidler', 'Jobava', 'Karjakin',\n",
    "#           'Korchnoi', 'Leko', 'Tiviakov', 'Tal', 'Spassky', 'So', 'Keres', 'Gukesh', 'Nepomniachtchi', 'Praggnanandhaa', 'Ponomariov', \n",
    "#            'Rapport', 'Reshevsky', 'Rubinstein', 'Reti', 'Seirawan', 'Sasikiran', 'Short', 'Lasker']\n",
    "# fen = [] #beyond opening (12 moves). Opening excluded to avoid bias. Opening trees will be used instead.\n",
    "# action = []\n",
    "# #piece = []\n",
    "# game_nos = []\n",
    "# pre_sum = []\n",
    "# total_moves = 0\n",
    "# game_no = -1\n",
    "# for player in players:\n",
    "#     pgn = open(player + '.pgn')\n",
    "#     while 1:\n",
    "#         game = chess.pgn.read_game(pgn)\n",
    "#         if game is None:\n",
    "#             break\n",
    "#         game_no += 1\n",
    "#         pre_sum.append(total_moves)\n",
    "#         board = chess.Board()\n",
    "#         for n, move in enumerate(game.mainline_moves()): #n here represents plies and not full moves!\n",
    "#             if move not in board.legal_moves: #handling illegal moves (errors) in the pgn files\n",
    "#                 break\n",
    "#             fen_pos = board.fen()\n",
    "#             #if n >= 24:\n",
    "#             fen.append(fen_pos)\n",
    "#             action.append(str(move))\n",
    "#             #piece.append(str(board.piece_at(move.from_square)).upper())\n",
    "#             game_nos.append(game_no)\n",
    "#             board.push(move)\n",
    "#             total_moves += 1\n",
    "#     del pgn"
   ]
  },
  {
   "cell_type": "code",
   "execution_count": 6,
   "id": "8fdbb4f5-50ce-47f5-99b2-1b713525e8bc",
   "metadata": {},
   "outputs": [],
   "source": [
    "# all_fen = [] #contains fen notation of all moves including openings (to be used as a hashtable)\n",
    "# fen = [] #beyond opening (12 moves). Opening excluded to avoid bias. Opening trees will be used instead.\n",
    "# action = []\n",
    "# game_nos = []\n",
    "# pre_sum = []\n",
    "# total_moves = 0\n",
    "# game_no = -1\n",
    "# pgn = open(\"C:/Users/DELL/Desktop/chess/all.pgn\")\n",
    "# while 1:\n",
    "#     game = chess.pgn.read_game(pgn)\n",
    "#     if game is None:\n",
    "#         break\n",
    "#     game_no += 1\n",
    "#     pre_sum.append(total_moves)\n",
    "#     board = chess.Board()\n",
    "#     for n, move in enumerate(game.mainline_moves()): #n here represents plies and not full moves!\n",
    "#         if move not in board.legal_moves: #handling illegal moves (errors) in the pgn files\n",
    "#             break\n",
    "#         fen_pos = board.fen()\n",
    "#         all_fen.append(fen_pos)\n",
    "#         fen.append(fen_pos)\n",
    "#         action.append(str(move))\n",
    "#         game_nos.append(game_no)\n",
    "#         board.push(move)\n",
    "#         total_moves += 1\n",
    "# del pgn"
   ]
  },
  {
   "cell_type": "code",
   "execution_count": 7,
   "id": "4ad1312d-c26b-4779-8ea9-d8b4295d3a13",
   "metadata": {},
   "outputs": [
    {
     "name": "stdout",
     "output_type": "stream",
     "text": [
      "59509\n",
      "59509\n"
     ]
    }
   ],
   "source": [
    "print(max(np.unique(game_nos)))\n",
    "print(len(pre_sum) - 1) "
   ]
  },
  {
   "cell_type": "markdown",
   "id": "6093ebfb",
   "metadata": {},
   "source": [
    "COUNTER OF PIECES"
   ]
  },
  {
   "cell_type": "code",
   "execution_count": 13,
   "id": "71f0288b",
   "metadata": {},
   "outputs": [
    {
     "data": {
      "text/plain": [
       "[(1, 345029), (0, 69813), (-1, 64377)]"
      ]
     },
     "execution_count": 13,
     "metadata": {},
     "output_type": "execute_result"
    }
   ],
   "source": [
    "from collections import Counter\n",
    "sorted_counts = Counter(values).most_common()\n",
    "sorted_counts"
   ]
  },
  {
   "cell_type": "markdown",
   "id": "5fd2fdc2",
   "metadata": {},
   "source": [
    "BALANCING THE DATASET"
   ]
  },
  {
   "cell_type": "code",
   "execution_count": 14,
   "id": "2155ffa9",
   "metadata": {},
   "outputs": [
    {
     "data": {
      "text/plain": [
       "[(-1, 64377), (0, 64377), (1, 64377)]"
      ]
     },
     "execution_count": 14,
     "metadata": {},
     "output_type": "execute_result"
    }
   ],
   "source": [
    "from imblearn.under_sampling import RandomUnderSampler\n",
    "rus = RandomUnderSampler(random_state=42)\n",
    "idx_resampled, values_resampled = rus.fit_resample(np.arange(len(values)).reshape(-1, 1), values)\n",
    "sorted_counts_re = Counter(values_resampled).most_common()\n",
    "sorted_counts_re"
   ]
  },
  {
   "cell_type": "code",
   "execution_count": 15,
   "id": "38f70973",
   "metadata": {},
   "outputs": [],
   "source": [
    "idx_resampled = idx_resampled.reshape(len(idx_resampled))\n",
    "value_fen_bal = np.array(value_fen)[idx_resampled]\n",
    "values_bal = np.array(values)[idx_resampled]"
   ]
  },
  {
   "cell_type": "markdown",
   "id": "f9921ffc",
   "metadata": {},
   "source": [
    "WRITING THE PROCESSED DATA INTO FILES"
   ]
  },
  {
   "cell_type": "code",
   "execution_count": 17,
   "id": "38c88a77",
   "metadata": {},
   "outputs": [],
   "source": [
    "with open('fen.txt', 'w') as f1:\n",
    "    for f in fen:\n",
    "        f1.write(\"%s\\n\" % f)\n",
    "with open('move.txt', 'w') as f2:\n",
    "    for a in action:\n",
    "        f2.write(\"%s\\n\" % a)\n",
    "with open('pre_sum.txt', 'w') as f3:\n",
    "    for p in pre_sum:\n",
    "        f3.write(\"%s\\n\" % p)\n",
    "with open('game_nos.txt', 'w') as f4:\n",
    "    for g in game_nos:\n",
    "        f4.write(\"%s\\n\" % g)\n",
    "with open('all_fen.txt', 'w') as f5:\n",
    "    for af in all_fen:\n",
    "        f5.write(\"%s\\n\" % af)\n",
    "with open('value_fen.txt', 'w') as f6:\n",
    "    for vf in value_fen_bal:\n",
    "        f6.write(\"%s\\n\" % vf)\n",
    "with open('values.txt', 'w') as f7:\n",
    "    for v in values_bal:\n",
    "        f7.write(\"%s\\n\" % v)"
   ]
  }
 ],
 "metadata": {
  "kernelspec": {
   "display_name": "Python 3 (ipykernel)",
   "language": "python",
   "name": "python3"
  },
  "language_info": {
   "codemirror_mode": {
    "name": "ipython",
    "version": 3
   },
   "file_extension": ".py",
   "mimetype": "text/x-python",
   "name": "python",
   "nbconvert_exporter": "python",
   "pygments_lexer": "ipython3",
   "version": "3.11.7"
  }
 },
 "nbformat": 4,
 "nbformat_minor": 5
}
