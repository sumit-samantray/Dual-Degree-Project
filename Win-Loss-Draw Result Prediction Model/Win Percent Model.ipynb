{
 "cells": [
  {
   "cell_type": "code",
   "execution_count": 1,
   "id": "37c0e32b-0912-4977-92bc-782181748bd7",
   "metadata": {},
   "outputs": [],
   "source": [
    "import chess\n",
    "import concurrent.futures\n",
    "import chess.pgn\n",
    "import chess.engine\n",
    "import random\n",
    "import numpy as np\n",
    "import tensorflow as tf\n",
    "from tensorflow.keras.models import Sequential\n",
    "from tensorflow.keras.layers import Dense, Dropout\n",
    "from tensorflow.keras.callbacks import EarlyStopping\n",
    "from sklearn.model_selection import train_test_split\n",
    "from sklearn.preprocessing import OneHotEncoder\n",
    "from sklearn.metrics import accuracy_score, confusion_matrix\n",
    "from tqdm import tqdm"
   ]
  },
  {
   "cell_type": "code",
   "execution_count": 2,
   "id": "231cb912-50c2-42b1-b6dd-5689007df804",
   "metadata": {},
   "outputs": [],
   "source": [
    "def fen_to_vec(fen, w_elo, b_elo, w_time, b_time, time_control): \n",
    "    board = chess.Board(fen)\n",
    "    stockfish_path = r\"C:\\Users\\DELL\\Desktop\\stockfish\\stockfish-windows-x86-64-avx2\\stockfish\\stockfish-windows-x86-64-avx2\"\n",
    "    engine = chess.engine.SimpleEngine.popen_uci(stockfish_path)\n",
    "    eval = str(engine.analyse(game.board(), chess.engine.Limit(time = 0.1))['score'].white())\n",
    "    if eval[0] == '#':\n",
    "        eval = (eval[1] == '+')*5000 - (eval[1] == '-')*5000\n",
    "    vec = np.array([w_elo, b_elo, int(eval), (w_time - b_time)*100/time_control])\n",
    "    return vec"
   ]
  },
  {
   "cell_type": "code",
   "execution_count": 3,
   "id": "30ac5a40-c674-4e29-9fdc-450cdb8e2d7f",
   "metadata": {},
   "outputs": [],
   "source": [
    "def eval_fun(fen):\n",
    "    with chess.engine.SimpleEngine.popen_uci(r\"C:\\Users\\DELL\\Desktop\\stockfish\\stockfish-windows-x86-64-avx2\\stockfish\\stockfish-windows-x86-64-avx2\") as engine:\n",
    "        board = chess.Board(fen)\n",
    "        eval = str(engine.analyse(board, chess.engine.Limit(time = 0.1))['score'].white())\n",
    "        if eval[0] == '#':\n",
    "            eval = (eval[1] == '+')*5000 - (eval[1] == '-')*5000\n",
    "        return int(eval)"
   ]
  },
  {
   "cell_type": "markdown",
   "id": "f00e7193-959d-4e87-9ace-82b701ecc863",
   "metadata": {},
   "source": [
    "Features to extract:\n",
    "1. White ELO\n",
    "2. BLack ELO\n",
    "3. White clock\n",
    "4. Black clock\n",
    "5. Percent time difference\n",
    "6. Position Evaluation\n",
    "7. % White win lines\n",
    "8. % Draw lines\n",
    "9. Increment in seconds\n",
    "10. Ply number (indicates the phase of the game)"
   ]
  },
  {
   "cell_type": "code",
   "execution_count": 5,
   "id": "58a0b9ca-fddd-4279-86aa-e0e5b25d58d3",
   "metadata": {},
   "outputs": [],
   "source": [
    "# game_details = []\n",
    "# # stockfish_path = r\"C:\\Users\\DELL\\Desktop\\stockfish\\stockfish-windows-x86-64-avx2\\stockfish\\stockfish-windows-x86-64-avx2\"\n",
    "# # engine = chess.engine.SimpleEngine.popen_uci(stockfish_path)\n",
    "# for i in range(2013, 2014):\n",
    "#     pgn = open(str(i) + '.pgn')\n",
    "#     while 1:\n",
    "#         game = chess.pgn.read_game(pgn)\n",
    "#         if game is None:\n",
    "#             break\n",
    "#         n_plies = int(game.headers['PlyCount'])\n",
    "#         if game.headers['WhiteClock'] != game.headers['BlackClock'] or n_plies < 40: #no handicap and short games, only classical & rapid games\n",
    "#             continue\n",
    "#         w_elo = int(game.headers['WhiteElo'])\n",
    "#         b_elo = int(game.headers['BlackElo'])\n",
    "#         result = game.headers['Result']\n",
    "#         if result == '1-0':\n",
    "#             result = 1\n",
    "#         elif result == '0-1':\n",
    "#             result = -1\n",
    "#         else:\n",
    "#             result = 0\n",
    "#         total_time = int(game.headers['TimeControl'].split('+')[0]) #in seconds \n",
    "#         inc = int(game.headers['TimeControl'].split('+')[1]) #increment time in seconds\n",
    "#         nums = list(range(30, n_plies))\n",
    "#         random.shuffle(nums)\n",
    "#         sel_plies = sorted(nums[:4])\n",
    "#         k = 0\n",
    "#         n = 1\n",
    "#         w_time = b_time = 0 #time elapsed for each side\n",
    "#         while len(game.variations):\n",
    "#             if n == sel_plies[k]:\n",
    "#                 b = game.board()\n",
    "#                 # eval_init = str(engine.analyse(b, chess.engine.Limit(time = 0.1))['score'].white())\n",
    "#                 # eval_final = str(engine.analyse(game.variations[0].board(), chess.engine.Limit(time = 0.1))['score'].white())\n",
    "#                 # if eval_init[0] == '#':\n",
    "#                 #     eval_init = (eval_init[1] == '+')*5000 - (eval_init[1] == '-')*5000\n",
    "#                 # if eval_final[0] == '#':\n",
    "#                 #     eval_final = (eval_final[1] == '+')*5000 - (eval_final[1] == '-')*5000\n",
    "#                 # cp_loss = abs(int(eval_final) - int(eval_init))\n",
    "#                 # % winning lines\n",
    "#                 # w_win = b_win = 0\n",
    "#                 # n_moves = len(list(b.legal_moves))\n",
    "#                 # for move in b.legal_moves:\n",
    "#                 #     b.push(move)\n",
    "#                 #     move_eval = str(engine.analyse(b, chess.engine.Limit(time = 0.1))['score'].white())\n",
    "#                 #     if move_eval[0] == '#':\n",
    "#                 #         if move_eval[1] == '+':\n",
    "#                 #             w_win += 1\n",
    "#                 #         else:\n",
    "#                 #             b_win += 1\n",
    "#                 #     elif int(move_eval) >= 30:\n",
    "#                 #         w_win += 1\n",
    "#                 #     elif int(move_eval) <= -30:\n",
    "#                 #         b_win += 1\n",
    "#                 #     b.pop()\n",
    "#                 # per_w = w_win*100/n_moves #% moves leading to white adv\n",
    "#                 # per_b = b_win*100/n_moves #% moves leading to black adv\n",
    "#                 # per_draw = 100 - per_w - per_b\n",
    "#                 details = [b.fen(), n, w_elo, b_elo, total_time - w_time, total_time - b_time, inc, str(game.variations[0].move), result]\n",
    "#                 details_str = [str(detail) for detail in details]\n",
    "#                 with open('game_details_win_percent2.txt', 'a') as f:\n",
    "#                     f.write('$'.join(details_str) + '\\n')\n",
    "#                 k += 1\n",
    "#                 if k == len(sel_plies):\n",
    "#                     break\n",
    "#             if n % 2:\n",
    "#                 w_time += float(game.variations[0].comment.split(']')[0].split(' ')[-1])\n",
    "#             else:\n",
    "#                 b_time += float(game.variations[0].comment.split(']')[0].split(' ')[-1])\n",
    "#             game = game.variations[0]\n",
    "#             n += 1"
   ]
  },
  {
   "cell_type": "markdown",
   "id": "fb1b4209-a6c8-47f1-8c4f-3d7d23e06662",
   "metadata": {},
   "source": [
    "READING THE DATA FROM THE FILE"
   ]
  },
  {
   "cell_type": "code",
   "execution_count": 2,
   "id": "2c3be255-302f-498d-8a0f-d2f977dc93bd",
   "metadata": {},
   "outputs": [],
   "source": [
    "def num_moves(fen):\n",
    "    board = chess.Board(fen)\n",
    "    return len(list(board.legal_moves))"
   ]
  },
  {
   "cell_type": "code",
   "execution_count": 3,
   "id": "36516ac2-d70a-49b4-9ba7-4dc4f93a2fd5",
   "metadata": {},
   "outputs": [],
   "source": [
    "X = []\n",
    "with open('game_details_win_percent2.txt', 'r') as f:\n",
    "    for line in f:\n",
    "        X.append(line.strip().split('$'))\n",
    "X = np.array(X)\n",
    "X = np.concatenate(((X[:,1].astype(int)%2).reshape(-1, 1), X), axis = 1)"
   ]
  },
  {
   "cell_type": "code",
   "execution_count": 4,
   "id": "daad5a7e-514e-44c0-b186-26c8f27bfc20",
   "metadata": {},
   "outputs": [],
   "source": [
    "fens = X[:, 1]\n",
    "with concurrent.futures.ThreadPoolExecutor() as executor:\n",
    "    n_moves = np.array(list(executor.map(num_moves, fens)))\n",
    "X = np.concatenate((n_moves.reshape(-1, 1), X), axis = 1)"
   ]
  },
  {
   "cell_type": "code",
   "execution_count": 5,
   "id": "8a9f81ac-46b2-4742-bb24-621956a01502",
   "metadata": {},
   "outputs": [
    {
     "data": {
      "text/plain": [
       "array([['20', '0',\n",
       "        'rn3r1k/pp3ppp/4p3/3p1N2/8/2NP2PP/PPP3P1/2KR3R b - - 0 17', ...,\n",
       "        '10', 'e6f5', '1'],\n",
       "       ['37', '0',\n",
       "        '3r3k/1p3ppp/p1n1r3/3N1p2/1PP5/P2P2PP/3K2P1/4R2R b - - 0 23',\n",
       "        ..., '10', 'c6d4', '1'],\n",
       "       ['12', '1', '4k3/1p6/p5pp/3p1p2/1PP4P/P1K3P1/6P1/8 w - - 0 34',\n",
       "        ..., '10', 'c4d5', '1'],\n",
       "       ...,\n",
       "       ['27', '1', '1b6/5pk1/B1R3pp/1p6/4r2P/P2r2P1/1P4RK/8 w - - 7 35',\n",
       "        ..., '0', 'a6b5', '-1'],\n",
       "       ['1', '1', '1b6/5pk1/2R3pp/1B6/7r/P2r2P1/1P4RK/8 w - - 0 36', ...,\n",
       "        '0', 'h2g1', '-1'],\n",
       "       ['6', '1', '8/2b2pk1/6p1/PR6/2r3P1/5B2/2K4p/8 w - - 3 52', ...,\n",
       "        '0', 'c2b2', '-1']], dtype='<U76')"
      ]
     },
     "execution_count": 5,
     "metadata": {},
     "output_type": "execute_result"
    }
   ],
   "source": [
    "X"
   ]
  },
  {
   "cell_type": "code",
   "execution_count": 7,
   "id": "cfec8a11-4983-411c-8895-4af3d70a267b",
   "metadata": {},
   "outputs": [],
   "source": [
    "def aug(fen):\n",
    "    #b = chess.Board(fen)\n",
    "    #with chess.engine.SimpleEngine.popen_uci(r\"C:\\Users\\DELL\\Desktop\\stockfish\\stockfish-windows-x86-64-avx2\\stockfish\\stockfish-windows-x86-64-avx2\") as engine:\n",
    "    #eval = str(engine.analyse(board, chess.engine.Limit(time = 0.1))['score'].white())\n",
    "    eval = eval_fun(fen)\n",
    "    if eval[0] == '#':\n",
    "        eval = (eval[1] == '+')*5000 - (eval[1] == '-')*5000\n",
    "    b = chess.Board(fen)\n",
    "    w_win = b_win = 0\n",
    "    n_moves = len(list(b.legal_moves))\n",
    "    # next_fens = []\n",
    "    for move in b.legal_moves:\n",
    "        b.push(move)\n",
    "        #next_fens.append(b.fen())\n",
    "        move_eval = eval_fun(b.fen())\n",
    "        if move_eval[0] == '#':\n",
    "            if move_eval[1] == '+':\n",
    "                w_win += 1\n",
    "            else:\n",
    "                b_win += 1\n",
    "        elif int(move_eval) >= 30:\n",
    "            w_win += 1\n",
    "        elif int(move_eval) <= -30:\n",
    "            b_win += 1\n",
    "        b.pop()\n",
    "    # with concurrent.futures.ThreadPoolExecutor() as executor_next:\n",
    "    #     next_evals = list(executor_next.map(eval_fun, next_fens))\n",
    "    # for eval in next_evals:\n",
    "    #     if eval[0] == '#':\n",
    "    #         if eval[1] == '+':\n",
    "    #             w_win += 1\n",
    "    #         else:\n",
    "    #             b_win += 1\n",
    "    #     elif int(eval) >= 30:\n",
    "    #         w_win += 1\n",
    "    #     elif int(eval) <= -30:\n",
    "    #         b_win += 1\n",
    "    per_w = w_win*100/n_moves #% moves leading to white adv\n",
    "    per_b = b_win*100/n_moves #% moves leading to black adv\n",
    "    per_draw = 100 - per_w - per_b\n",
    "    return [int(eval), per_w, per_draw]"
   ]
  },
  {
   "cell_type": "code",
   "execution_count": 8,
   "id": "e48b482a-9d5e-46da-8413-2d4ef57f05ae",
   "metadata": {},
   "outputs": [
    {
     "name": "stderr",
     "output_type": "stream",
     "text": [
      "100%|████████████████████████████████████████████████████████████████████████| 325348/325348 [8:03:31<00:00, 11.21it/s]\n"
     ]
    }
   ],
   "source": [
    "fens = X[:, 0]\n",
    "eval_features = []\n",
    "with concurrent.futures.ThreadPoolExecutor() as executor:\n",
    "    #eval_features = np.array(list(executor.map(aug, fens)))\n",
    "    progress = tqdm(total = len(fens))\n",
    "    futures = [executor.submit(eval_fun, fen) for fen in fens]\n",
    "    for future in concurrent.futures.as_completed(futures):\n",
    "        # Update progress bar\n",
    "        result = future.result()\n",
    "        with open('eval_features_win_percent.txt', 'a') as f:\n",
    "            #f.write('$'.join([str(item) for item in result]) + '\\n')\n",
    "            f.write(str(result) + '\\n')\n",
    "        eval_features.append(result)\n",
    "        progress.update(1)\n",
    "    progress.close()\n",
    "eval_features = np.array(eval_features)"
   ]
  },
  {
   "cell_type": "code",
   "execution_count": 6,
   "id": "6f6c4b2f-84f3-4ee5-9716-d1db8f07e416",
   "metadata": {},
   "outputs": [
    {
     "name": "stdout",
     "output_type": "stream",
     "text": [
      "[array([-1,  0,  1])]\n"
     ]
    }
   ],
   "source": [
    "Y = X[:, -1].astype(int)\n",
    "ohe = OneHotEncoder(sparse_output = False)\n",
    "Y_ohe = ohe.fit_transform(Y.reshape(-1, 1))\n",
    "print(ohe.categories_)"
   ]
  },
  {
   "cell_type": "code",
   "execution_count": 7,
   "id": "46bfd299-e0b4-4af9-afde-0675d54fc44a",
   "metadata": {},
   "outputs": [
    {
     "data": {
      "text/plain": [
       "array(['20', '0',\n",
       "       'rn3r1k/pp3ppp/4p3/3p1N2/8/2NP2PP/PPP3P1/2KR3R b - - 0 17', '34',\n",
       "       '2059', '1941', '663.512', '399.17199999999997', '10', 'e6f5', '1'],\n",
       "      dtype='<U76')"
      ]
     },
     "execution_count": 7,
     "metadata": {},
     "output_type": "execute_result"
    }
   ],
   "source": [
    "X[0]"
   ]
  },
  {
   "cell_type": "code",
   "execution_count": 8,
   "id": "3bfa7194-3b23-4817-92af-0e829778b145",
   "metadata": {},
   "outputs": [],
   "source": [
    "eval_features = []\n",
    "with open('eval_features_win_percent.txt', 'r') as f:\n",
    "    for line in f:\n",
    "        eval_features.append(int(line.strip()))\n",
    "eval_features = np.array(eval_features)"
   ]
  },
  {
   "cell_type": "code",
   "execution_count": 10,
   "id": "a30740d0-c887-4495-bfbf-02d0037ef700",
   "metadata": {},
   "outputs": [],
   "source": [
    "X = np.concatenate((np.array([[float(Xij) for Xij in Xi[[0, 1, 3, 4, 5, 6, 7, 8]]] for Xi in X]), eval_features.reshape(-1,1)), axis = 1)"
   ]
  },
  {
   "cell_type": "code",
   "execution_count": 11,
   "id": "94080580-9df1-4ed6-b430-d70da68d93ac",
   "metadata": {},
   "outputs": [],
   "source": [
    "x_train, x_test_val, y_train, y_test_val = train_test_split(X, Y_ohe, test_size = 0.3, shuffle = True, random_state = 0)\n",
    "x_val, x_test, y_val, y_test = train_test_split(x_test_val, y_test_val, test_size = 0.6)"
   ]
  },
  {
   "cell_type": "markdown",
   "id": "d0e69883-55b2-4974-a79a-2abcdc88de89",
   "metadata": {},
   "source": [
    "BUILDING THE MODEL WIN DRAW LOSS MODEL"
   ]
  },
  {
   "cell_type": "code",
   "execution_count": 33,
   "id": "296fba12-2095-4dd6-9331-4af9820174b5",
   "metadata": {},
   "outputs": [],
   "source": [
    "ni = len(X[0])\n",
    "no = len(Y_ohe[0])\n",
    "alpha = 5\n",
    "ns = len(x_train)\n",
    "nh = int(ns/(ni + no)/alpha)\n",
    "# best 192 2 layers, accuracy test = 73.22%\n",
    "model = Sequential([\n",
    "    Dense(192, input_shape = (ni,), activation = 'relu'),\n",
    "    #Dropout(0.1),\n",
    "    Dense(192, activation = 'relu'),\n",
    "    #Dropout(0.1),\n",
    "    #Dense(192, activation = 'relu'),\n",
    "    Dense(no, activation = 'softmax')\n",
    "])"
   ]
  },
  {
   "cell_type": "code",
   "execution_count": 34,
   "id": "89d78002-8412-4cdb-b0cb-3f069c947141",
   "metadata": {},
   "outputs": [],
   "source": [
    "model.compile(\n",
    "    optimizer = 'adam',\n",
    "    loss = 'categorical_crossentropy',\n",
    "    metrics = ['accuracy']\n",
    ")"
   ]
  },
  {
   "cell_type": "code",
   "execution_count": 35,
   "id": "6c85d613-fd14-434a-b205-dd5b84241fee",
   "metadata": {},
   "outputs": [
    {
     "name": "stdout",
     "output_type": "stream",
     "text": [
      "Epoch 1/50\n",
      "7117/7117 [==============================] - 14s 2ms/step - loss: 5.3907 - accuracy: 0.6342 - val_loss: 0.9440 - val_accuracy: 0.6724\n",
      "Epoch 2/50\n",
      "7117/7117 [==============================] - 13s 2ms/step - loss: 0.7353 - accuracy: 0.7021 - val_loss: 0.6669 - val_accuracy: 0.7146\n",
      "Epoch 3/50\n",
      "7117/7117 [==============================] - 17s 2ms/step - loss: 0.6641 - accuracy: 0.7232 - val_loss: 0.6656 - val_accuracy: 0.7135\n",
      "Epoch 4/50\n",
      "7117/7117 [==============================] - 16s 2ms/step - loss: 0.6534 - accuracy: 0.7289 - val_loss: 0.6657 - val_accuracy: 0.7154\n",
      "Epoch 5/50\n",
      "7117/7117 [==============================] - 15s 2ms/step - loss: 0.6497 - accuracy: 0.7318 - val_loss: 0.6549 - val_accuracy: 0.7190\n",
      "Epoch 6/50\n",
      "7117/7117 [==============================] - 16s 2ms/step - loss: 0.6452 - accuracy: 0.7330 - val_loss: 0.6561 - val_accuracy: 0.7292\n",
      "Epoch 7/50\n",
      "7117/7117 [==============================] - 16s 2ms/step - loss: 0.6444 - accuracy: 0.7323 - val_loss: 0.6544 - val_accuracy: 0.7239\n",
      "Epoch 8/50\n",
      "7117/7117 [==============================] - 17s 2ms/step - loss: 0.6462 - accuracy: 0.7329 - val_loss: 0.6536 - val_accuracy: 0.7259\n",
      "Epoch 9/50\n",
      "7117/7117 [==============================] - 16s 2ms/step - loss: 0.6433 - accuracy: 0.7337 - val_loss: 0.6329 - val_accuracy: 0.7391\n",
      "Epoch 10/50\n",
      "7117/7117 [==============================] - 16s 2ms/step - loss: 0.6411 - accuracy: 0.7349 - val_loss: 0.6328 - val_accuracy: 0.7373\n",
      "Epoch 11/50\n",
      "7117/7117 [==============================] - 15s 2ms/step - loss: 0.6408 - accuracy: 0.7346 - val_loss: 0.6335 - val_accuracy: 0.7386\n",
      "Epoch 12/50\n",
      "7117/7117 [==============================] - 15s 2ms/step - loss: 0.6410 - accuracy: 0.7346 - val_loss: 0.6768 - val_accuracy: 0.7190\n",
      "Epoch 13/50\n",
      "7117/7117 [==============================] - 17s 2ms/step - loss: 0.6417 - accuracy: 0.7343 - val_loss: 0.6529 - val_accuracy: 0.7252\n",
      "Epoch 14/50\n",
      "7117/7117 [==============================] - 17s 2ms/step - loss: 0.6400 - accuracy: 0.7353 - val_loss: 0.6321 - val_accuracy: 0.7380\n",
      "Epoch 15/50\n",
      "7117/7117 [==============================] - 17s 2ms/step - loss: 0.6411 - accuracy: 0.7358 - val_loss: 0.6303 - val_accuracy: 0.7369\n",
      "Epoch 16/50\n",
      "7117/7117 [==============================] - 18s 2ms/step - loss: 0.6404 - accuracy: 0.7347 - val_loss: 0.6286 - val_accuracy: 0.7360\n",
      "Epoch 17/50\n",
      "7117/7117 [==============================] - 16s 2ms/step - loss: 0.6397 - accuracy: 0.7358 - val_loss: 0.6349 - val_accuracy: 0.7384\n",
      "Epoch 18/50\n",
      "7117/7117 [==============================] - 16s 2ms/step - loss: 0.6397 - accuracy: 0.7361 - val_loss: 0.6475 - val_accuracy: 0.7304\n",
      "Epoch 19/50\n",
      "7117/7117 [==============================] - 18s 2ms/step - loss: 0.6388 - accuracy: 0.7362 - val_loss: 0.6445 - val_accuracy: 0.7323\n",
      "Epoch 20/50\n",
      "7117/7117 [==============================] - 17s 2ms/step - loss: 0.6394 - accuracy: 0.7363 - val_loss: 0.7279 - val_accuracy: 0.7237\n",
      "Epoch 21/50\n",
      "7117/7117 [==============================] - 17s 2ms/step - loss: 0.6395 - accuracy: 0.7357 - val_loss: 0.6365 - val_accuracy: 0.7309\n"
     ]
    },
    {
     "data": {
      "text/plain": [
       "<keras.src.callbacks.History at 0x2a1ba325390>"
      ]
     },
     "execution_count": 35,
     "metadata": {},
     "output_type": "execute_result"
    }
   ],
   "source": [
    "early_stopping_callback = EarlyStopping(monitor = 'val_loss', patience = 5)\n",
    "model.fit(x_train, y_train, epochs = 50, validation_data = (x_val, y_val), batch_size = 32, callbacks = [early_stopping_callback])"
   ]
  },
  {
   "cell_type": "markdown",
   "id": "f3d8e610-172f-40ed-9162-57e698a1024a",
   "metadata": {},
   "source": [
    "MODEL EVALUATION"
   ]
  },
  {
   "cell_type": "code",
   "execution_count": 39,
   "id": "7bb7fa31-696e-4c12-a772-7b7f4196e781",
   "metadata": {},
   "outputs": [
    {
     "name": "stdout",
     "output_type": "stream",
     "text": [
      "1831/1831 [==============================] - 2s 1ms/step\n",
      "73.37055820227789\n"
     ]
    },
    {
     "data": {
      "text/plain": [
       "array([[17265,  2903,  3437],\n",
       "       [ 1546,  5231,  2610],\n",
       "       [ 2579,  2520, 20472]], dtype=int64)"
      ]
     },
     "execution_count": 39,
     "metadata": {},
     "output_type": "execute_result"
    }
   ],
   "source": [
    "y_pred = model.predict(x_test)\n",
    "y_pred = np.argmax(y_pred, axis = 1) - 1\n",
    "y_true = ohe.inverse_transform(y_test).reshape(-1)\n",
    "print(accuracy_score(y_true, y_pred)*100)\n",
    "confusion_matrix(y_true, y_pred)"
   ]
  },
  {
   "cell_type": "code",
   "execution_count": 38,
   "id": "5f2bc500-7562-4fc9-94b8-6701e55ec368",
   "metadata": {},
   "outputs": [],
   "source": [
    "model.save('best_win_loss_model.keras')"
   ]
  }
 ],
 "metadata": {
  "kernelspec": {
   "display_name": "Python 3 (ipykernel)",
   "language": "python",
   "name": "python3"
  },
  "language_info": {
   "codemirror_mode": {
    "name": "ipython",
    "version": 3
   },
   "file_extension": ".py",
   "mimetype": "text/x-python",
   "name": "python",
   "nbconvert_exporter": "python",
   "pygments_lexer": "ipython3",
   "version": "3.11.7"
  }
 },
 "nbformat": 4,
 "nbformat_minor": 5
}
